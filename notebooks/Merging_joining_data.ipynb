{
 "cells": [
  {
   "cell_type": "code",
   "execution_count": 3,
   "metadata": {
    "slideshow": {
     "slide_type": "skip"
    }
   },
   "outputs": [
    {
     "data": {
      "text/html": [
       "<style>\n",
       "    @font-face {\n",
       "        font-family: \"Computer Modern\";\n",
       "        src: url('http://9dbb143991406a7c655e-aa5fcb0a5a4ec34cff238a2d56ca4144.r56.cf5.rackcdn.com/cmunss.otf');\n",
       "    }\n",
       "    @font-face {\n",
       "        font-family: \"Computer Modern\";\n",
       "        font-weight: bold;\n",
       "        src: url('http://9dbb143991406a7c655e-aa5fcb0a5a4ec34cff238a2d56ca4144.r56.cf5.rackcdn.com/cmunsx.otf');\n",
       "    }\n",
       "    @font-face {\n",
       "        font-family: \"Computer Modern\";\n",
       "        font-style: oblique;\n",
       "        src: url('http://9dbb143991406a7c655e-aa5fcb0a5a4ec34cff238a2d56ca4144.r56.cf5.rackcdn.com/cmunsi.otf');\n",
       "    }\n",
       "    @font-face {\n",
       "        font-family: \"Computer Modern\";\n",
       "        font-weight: bold;\n",
       "        font-style: oblique;\n",
       "        src: url('http://9dbb143991406a7c655e-aa5fcb0a5a4ec34cff238a2d56ca4144.r56.cf5.rackcdn.com/cmunso.otf');\n",
       "    }\n",
       "    div.cell{\n",
       "        width:900px;\n",
       "        margin-left:5% !important;\n",
       "        margin-right:auto;\n",
       "    }\n",
       "    h1 {\n",
       "        font-family: Helvetica, serif;\n",
       "    }\n",
       "    h4{\n",
       "        margin-top:12px;\n",
       "        margin-bottom: 3px;\n",
       "       }\n",
       "    div.text_cell_render{\n",
       "        font-family: Computer Modern, \"Helvetica Neue\", Arial, Helvetica, Geneva, sans-serif;\n",
       "        line-height: 145%;\n",
       "        font-size: 130%;\n",
       "        width:800px;\n",
       "        margin-left:auto;\n",
       "        margin-right:auto;\n",
       "    }\n",
       "    .CodeMirror{\n",
       "            font-family: \"Source Code Pro\", source-code-pro,Consolas, monospace;\n",
       "    }\n",
       "    .prompt{\n",
       "        display: None;\n",
       "    }\n",
       "    .text_cell_render h5 {\n",
       "        font-weight: 300;\n",
       "        font-size: 26pt;\n",
       "        color: #4057A1;\n",
       "        font-style: italic;\n",
       "        margin-bottom: .5em;\n",
       "        margin-top: 0.5em;\n",
       "        display: block;\n",
       "    }\n",
       "    \n",
       "    .warning{\n",
       "        color: rgb( 240, 20, 20 )\n",
       "        }  \n",
       "</style>\n",
       "<script>\n",
       "    MathJax.Hub.Config({\n",
       "                        TeX: {\n",
       "                           extensions: [\"AMSmath.js\"]\n",
       "                           },\n",
       "                tex2jax: {\n",
       "                    inlineMath: [ ['$','$'], [\"\\\\(\",\"\\\\)\"] ],\n",
       "                    displayMath: [ ['$$','$$'], [\"\\\\[\",\"\\\\]\"] ]\n",
       "                },\n",
       "                displayAlign: 'center', // Change this to 'center' to center equations.\n",
       "                \"HTML-CSS\": {\n",
       "                    styles: {'.MathJax_Display': {\"margin\": 4}}\n",
       "                }\n",
       "        });\n",
       "</script>\n"
      ],
      "text/plain": [
       "<IPython.core.display.HTML object>"
      ]
     },
     "execution_count": 3,
     "metadata": {},
     "output_type": "execute_result"
    }
   ],
   "source": [
    "from IPython.core.display import HTML\n",
    "import pandas as pd \n",
    "\n",
    "pd.set_option('display.float_format', lambda x: '%.3f' % x)\n",
    "\n",
    "def set_css_style(css_file_path):\n",
    "    \"\"\"\n",
    "    Read the custom CSS file and load it into Jupyter.\n",
    "    Pass the file path to the CSS file.\n",
    "    \"\"\"\n",
    "    styles = open(css_file_path, \"r\").read()\n",
    "    return HTML(styles)\n",
    "\n",
    "set_css_style('styles/custom.css')"
   ]
  },
  {
   "cell_type": "markdown",
   "metadata": {
    "slideshow": {
     "slide_type": "slide"
    }
   },
   "source": [
    "## Overview\n",
    "- In this section, we will tackle some of the commands that allow us to manipulate `DataFrames` to either:\n",
    "\n",
    "    - Merge multiple DataFrames. \n",
    "\n",
    "    - Concatenate (stack) data horizontally or vertically.\n"
   ]
  },
  {
   "cell_type": "markdown",
   "metadata": {
    "slideshow": {
     "slide_type": "slide"
    }
   },
   "source": [
    "### Description of the Dataset used\n",
    "\n",
    "- We will be using the spending data  (10k entries) used in the previous module, as well as a second file (medication_to_class.tsv) which contains information about the taxonomic class of each of the medication listed in the first table.\n",
    "\n",
    "- The second table is tab delimited and contains the following information:\n",
    "  \n",
    "```python\n",
    "medication_name                 opioid_drug     antibiotic_drug high_risk       antipsychotic_drug\n",
    "ABACAVIR SULFATE                N               N               N                N\n",
    "ABACAVIR SULFATE/LAMIVUDINE     N       \t\tN       \t\tN       \t\t N\n",
    "ABACAVIR/DOLUTEGRAVIR/LAMIVUDI  N       \t\tN       \t\tN       \t\t N\n",
    "ABACAVIR/LAMIVUDINE/ZIDOVUDINE  N       \t\tN       \t\tN       \t\t N\n",
    "ABATACEPT          \t\t\t\tN       \t\tN       \t\tN       \t\t N\n",
    "```\n",
    "\n",
    "Each line describes whether a drug is an opioid, an antibiotic, an antipsychotic or a high risk-drug (Y is YES, N is NO).\n"
   ]
  },
  {
   "cell_type": "markdown",
   "metadata": {
    "slideshow": {
     "slide_type": "slide"
    }
   },
   "source": [
    "### Merging Series into a DataFrame \n",
    "\n",
    "- Merging, by default, joins the columns of two Series or DataFrames in a larger `DataFrame`.\n",
    "\n",
    "- In its simplest form, merge occurs when joining multiple `Series` into a single `DataFrame`.\n",
    "\n",
    "\n"
   ]
  },
  {
   "cell_type": "markdown",
   "metadata": {
    "slideshow": {
     "slide_type": "slide"
    }
   },
   "source": [
    "### Merging Series into a DataFrame \n",
    "\n",
    "![](images/merge_from_series.png)\n",
    "\n",
    "- The underlying process is:\n",
    "  - A new index comprised of both Series' indexes is created.\n",
    "  - A value in a column is set to `NaN` if it's index did not exist in the corresponding `Series.`\n"
   ]
  },
  {
   "cell_type": "markdown",
   "metadata": {
    "slideshow": {
     "slide_type": "slide"
    }
   },
   "source": [
    "### `pandas` `merge`\n",
    "\n",
    "- `pandas`' has a method called `merge`, which uses a similar approch to merge `DataFrames`, except for the following two difference.\n",
    "\n",
    "\n",
    "  - Rather than operate on the index, `merge` operates by default on `columns` with the same name across the `DataFrames`.\n",
    "  \n",
    "  \n",
    "  - Indices which appear in only one of of the `DataFrame`s are discarded.\n",
    "  \n",
    "  \n"
   ]
  },
  {
   "cell_type": "markdown",
   "metadata": {
    "slideshow": {
     "slide_type": "slide"
    }
   },
   "source": [
    "### `pandas` `merge` Example\n",
    "- The Syntax for merging two dataframes, df1 and df2, is:\n",
    "\n",
    "```python\n",
    "    df1.merge(df2)\n",
    "```\n",
    "\n",
    "\n",
    "![](images/merge.png)\n"
   ]
  },
  {
   "cell_type": "markdown",
   "metadata": {
    "slideshow": {
     "slide_type": "slide"
    }
   },
   "source": [
    "### Merging on Specific Columns\n",
    "\n",
    "- By default, `pandas merges on columns that have the same label across both `DataFrames.`\n",
    "\n",
    "- This default behavior can be modified by explicitly passing a column name (label) to the parameter `on=`.\n",
    "\n",
    "- The column name passed to the parameter `on` needs to exist in both `DataFrames.`\n",
    "\n",
    "![](images/merge_on.png)\n"
   ]
  },
  {
   "cell_type": "markdown",
   "metadata": {
    "slideshow": {
     "slide_type": "slide"
    }
   },
   "source": [
    "### Merging on Specific Columns - Cont'd\n",
    "\n",
    "- We can also specify column with differet labels by using the parameters `left_on=` and `right_on=`.\n",
    "\n",
    "- `left_on` specifies the name of the column to use in the left `DataFrame`.\n",
    "- `right_on` specifies the name of the column to use in the left `DataFrame`. \n",
    "\n",
    "- Explicitly specifying columns to merge on can avoid errors in large datasets with dozens of columns.\n",
    "\n",
    "\n",
    "![](images/left_righ_on.png)\n",
    "\n",
    "\n",
    "\n"
   ]
  },
  {
   "cell_type": "markdown",
   "metadata": {
    "slideshow": {
     "slide_type": "slide"
    }
   },
   "source": [
    "### Merging on Specific Columns - Cont'd\n",
    "\n",
    "- It's also possible to merge on the index using `left_index=True` and/or `right_index=True`\n",
    "\n",
    "\n",
    "\n",
    "- Merge can combin either `left_on` or `right_on`  with `left_index` and `right_index`\n",
    "\n",
    "\n",
    "\n",
    "- When explicitly specifying column names to merge on, `merge` renames the columns having similar names and which are not used in the merge by appending suffix '_x' labels of the left table and _y to labels of the right table\n",
    "\n"
   ]
  },
  {
   "cell_type": "markdown",
   "metadata": {
    "slideshow": {
     "slide_type": "slide"
    }
   },
   "source": [
    "# Merging Strategies\n",
    "\n",
    "- By default, merge only retains values shared between both `DataFrame`s.\n",
    "  - This is called an `inner` join strategy (see default parameters in merge method)\n",
    "\n",
    "\n",
    "\n",
    "- This behavior can be modfied to give `merge` a different merging strategy\n",
    "\n",
    "\n",
    "\n",
    "- There are four principal strategies for merging data. Those are:\n",
    "    \n",
    "    \n",
    "| Merge strategy | Description |\n",
    "|:--------|:-------------|\n",
    "| `inner` | Keep keys that are present in both tables (intersection) |\n",
    "| `left` | Keep keys found in left table and set the values in the right table to `NaN`  |\n",
    "| `right` | Keep keys found in right table set values in the left table to `NaN` |\n",
    "| `outer` | Keep the union of keys found in both right and left tables |\n",
    "    \n",
    "    "
   ]
  },
  {
   "cell_type": "markdown",
   "metadata": {
    "slideshow": {
     "slide_type": "slide"
    }
   },
   "source": [
    "###  Merge With `inner` Strategy\n",
    "\n",
    "![](images/inner.png)"
   ]
  },
  {
   "cell_type": "markdown",
   "metadata": {
    "slideshow": {
     "slide_type": "slide"
    }
   },
   "source": [
    "###  Merge With `left` Strategy\n",
    "\n",
    "![](images/left.png)"
   ]
  },
  {
   "cell_type": "markdown",
   "metadata": {
    "slideshow": {
     "slide_type": "slide"
    }
   },
   "source": [
    "###  Merge With `right` Strategy\n",
    "\n",
    "![](images/right.png)"
   ]
  },
  {
   "cell_type": "markdown",
   "metadata": {
    "slideshow": {
     "slide_type": "slide"
    }
   },
   "source": [
    "###  Merge With `outer` Strategy\n",
    "![](images/outer.png)"
   ]
  },
  {
   "cell_type": "markdown",
   "metadata": {
    "slideshow": {
     "slide_type": "slide"
    }
   },
   "source": [
    "### Loading the Spending and the Medicine Class Data\n",
    "\n",
    "- Combine the `DataFrame`s containing the spending data and the  medicine class data using `merge`.\n",
    "\n",
    "\n",
    "\n",
    "- First, read both files and explore the columns names in both DataFrame\n",
    "\n",
    "```python\n",
    "\n",
    "spending_df = pd.read_table( 'data/spending_10k.csv', \n",
    "                                index_col=\"unique_id\", \n",
    "                                dtype={\"doctor_id\":\"object\"}\n",
    "                           )\n",
    "med_class = pd.read_table(\"data/medication_to_class.tsv\")\n",
    "\n",
    "print(spending_df.columns)\n",
    "print(med_class.columns)\n",
    "```\n"
   ]
  },
  {
   "cell_type": "code",
   "execution_count": 4,
   "metadata": {
    "slideshow": {
     "slide_type": "slide"
    }
   },
   "outputs": [
    {
     "name": "stdout",
     "output_type": "stream",
     "text": [
      "Index(['doctor_id', 'specialty', 'medication', 'nb_beneficiaries', 'spending'], dtype='object')\n",
      "--------------------------------------------------------------------------------\n",
      "Index(['medication_name', 'opioid_drug', 'antibiotic_drug', 'high_risk',\n",
      "       'antipsychotic_drug'],\n",
      "      dtype='object')\n"
     ]
    }
   ],
   "source": [
    "spending_df = pd.read_table( 'data/spending_10k.tsv', \n",
    "                                index_col=\"unique_id\", \n",
    "                                dtype={\"doctor_id\":\"object\"}\n",
    "                           )\n",
    "\n",
    "\n",
    "med_class = pd.read_table(\"data/medication_to_class.tsv\")\n",
    "\n",
    "\n",
    "\n",
    "print(spending_df.columns)\n",
    "print(\"-\" * 80)\n",
    "print(med_class.columns)\n"
   ]
  },
  {
   "cell_type": "markdown",
   "metadata": {
    "collapsed": true,
    "slideshow": {
     "slide_type": "slide"
    }
   },
   "source": [
    "# Merging the Spending and Medication Class\n",
    "\n",
    "- Merge the `spending_df` and `med_class` `DataFrames` on the columns `medication` and `medication_name` respectively\n",
    "\n",
    "- Since we don't want to show lines that have missing values, we will stick with the `inner` merge strategy.\n",
    "\n",
    "```python\n",
    "    spending_df.merge(med_class, left_on=\"medication\", right_on=\"medication_name\")\n",
    "```"
   ]
  },
  {
   "cell_type": "code",
   "execution_count": 5,
   "metadata": {
    "slideshow": {
     "slide_type": "slide"
    }
   },
   "outputs": [
    {
     "data": {
      "text/html": [
       "<div>\n",
       "<style>\n",
       "    .dataframe thead tr:only-child th {\n",
       "        text-align: right;\n",
       "    }\n",
       "\n",
       "    .dataframe thead th {\n",
       "        text-align: left;\n",
       "    }\n",
       "\n",
       "    .dataframe tbody tr th {\n",
       "        vertical-align: top;\n",
       "    }\n",
       "</style>\n",
       "<table border=\"1\" class=\"dataframe\">\n",
       "  <thead>\n",
       "    <tr style=\"text-align: right;\">\n",
       "      <th></th>\n",
       "      <th>doctor_id</th>\n",
       "      <th>specialty</th>\n",
       "      <th>medication</th>\n",
       "      <th>nb_beneficiaries</th>\n",
       "      <th>spending</th>\n",
       "      <th>medication_name</th>\n",
       "      <th>opioid_drug</th>\n",
       "      <th>antibiotic_drug</th>\n",
       "      <th>high_risk</th>\n",
       "      <th>antipsychotic_drug</th>\n",
       "    </tr>\n",
       "  </thead>\n",
       "  <tbody>\n",
       "    <tr>\n",
       "      <th>0</th>\n",
       "      <td>1255626040</td>\n",
       "      <td>FAMILY PRACTICE</td>\n",
       "      <td>METFORMIN HCL</td>\n",
       "      <td>30</td>\n",
       "      <td>135.240</td>\n",
       "      <td>METFORMIN HCL</td>\n",
       "      <td>N</td>\n",
       "      <td>N</td>\n",
       "      <td>N</td>\n",
       "      <td>N</td>\n",
       "    </tr>\n",
       "    <tr>\n",
       "      <th>1</th>\n",
       "      <td>1912118928</td>\n",
       "      <td>FAMILY PRACTICE</td>\n",
       "      <td>METFORMIN HCL</td>\n",
       "      <td>20</td>\n",
       "      <td>1066.900</td>\n",
       "      <td>METFORMIN HCL</td>\n",
       "      <td>N</td>\n",
       "      <td>N</td>\n",
       "      <td>N</td>\n",
       "      <td>N</td>\n",
       "    </tr>\n",
       "    <tr>\n",
       "      <th>2</th>\n",
       "      <td>1023116894</td>\n",
       "      <td>FAMILY PRACTICE</td>\n",
       "      <td>METFORMIN HCL</td>\n",
       "      <td>161</td>\n",
       "      <td>726.600</td>\n",
       "      <td>METFORMIN HCL</td>\n",
       "      <td>N</td>\n",
       "      <td>N</td>\n",
       "      <td>N</td>\n",
       "      <td>N</td>\n",
       "    </tr>\n",
       "    <tr>\n",
       "      <th>3</th>\n",
       "      <td>1871916031</td>\n",
       "      <td>FAMILY PRACTICE</td>\n",
       "      <td>METFORMIN HCL</td>\n",
       "      <td>59</td>\n",
       "      <td>235.410</td>\n",
       "      <td>METFORMIN HCL</td>\n",
       "      <td>N</td>\n",
       "      <td>N</td>\n",
       "      <td>N</td>\n",
       "      <td>N</td>\n",
       "    </tr>\n",
       "    <tr>\n",
       "      <th>4</th>\n",
       "      <td>1467565440</td>\n",
       "      <td>FAMILY PRACTICE</td>\n",
       "      <td>METFORMIN HCL</td>\n",
       "      <td>22</td>\n",
       "      <td>3373.470</td>\n",
       "      <td>METFORMIN HCL</td>\n",
       "      <td>N</td>\n",
       "      <td>N</td>\n",
       "      <td>N</td>\n",
       "      <td>N</td>\n",
       "    </tr>\n",
       "  </tbody>\n",
       "</table>\n",
       "</div>"
      ],
      "text/plain": [
       "    doctor_id        specialty     medication  nb_beneficiaries  spending  \\\n",
       "0  1255626040  FAMILY PRACTICE  METFORMIN HCL                30   135.240   \n",
       "1  1912118928  FAMILY PRACTICE  METFORMIN HCL                20  1066.900   \n",
       "2  1023116894  FAMILY PRACTICE  METFORMIN HCL               161   726.600   \n",
       "3  1871916031  FAMILY PRACTICE  METFORMIN HCL                59   235.410   \n",
       "4  1467565440  FAMILY PRACTICE  METFORMIN HCL                22  3373.470   \n",
       "\n",
       "  medication_name opioid_drug antibiotic_drug high_risk antipsychotic_drug  \n",
       "0   METFORMIN HCL           N               N         N                 N   \n",
       "1   METFORMIN HCL           N               N         N                 N   \n",
       "2   METFORMIN HCL           N               N         N                 N   \n",
       "3   METFORMIN HCL           N               N         N                 N   \n",
       "4   METFORMIN HCL           N               N         N                 N   "
      ]
     },
     "execution_count": 5,
     "metadata": {},
     "output_type": "execute_result"
    }
   ],
   "source": [
    "spending_df.merge(med_class, left_on=\"medication\", right_on=\"medication_name\").head()"
   ]
  },
  {
   "cell_type": "markdown",
   "metadata": {
    "collapsed": true,
    "slideshow": {
     "slide_type": "slide"
    }
   },
   "source": [
    "### Stacking Data Along an Axis\n",
    "\n",
    "- Combining data consists of stacking it along an `axis.`\n",
    "\n",
    "- This is also known as `binding` or `stacking`.\n",
    "\n",
    "- This enables joining multiple `DataFrames` into a single larger one\n",
    "\n",
    "![](images/stacking.png)\n",
    "\n"
   ]
  },
  {
   "cell_type": "markdown",
   "metadata": {
    "slideshow": {
     "slide_type": "slide"
    }
   },
   "source": [
    "# Stacking with `pandas` `concat`\n",
    "\n",
    "- Concatenation in Python is done using the `concat` `pandas` `function.`\n",
    "\n",
    "  - Note that this is a `function`,  not a `DataFrame` object's method. \n",
    "  - `concat` is executed as:\n",
    "\n"
   ]
  },
  {
   "cell_type": "markdown",
   "metadata": {
    "slideshow": {
     "slide_type": "slide"
    }
   },
   "source": [
    "# Stacking with `pandas` `concat` Example\n",
    "\n",
    "```python\n",
    "pd.concat([s1, s2, s3])\n",
    "``` \n",
    "\n",
    "```python\n",
    "# INPUT\n",
    "s1 = pd.Series([0, 1], index=['a', 'b'])\n",
    "s2 = pd.Series([2, 3, 4], index=['c', 'd', 'e'])\n",
    "s3 = pd.Series([5, 6], index=['f', 'g'])\n",
    "\n",
    "pd.concat([s1, s2, s3])\n",
    "```\n",
    "\n",
    "```\n",
    "a    0\n",
    "b    1\n",
    "c    2\n",
    "d    3\n",
    "e    4\n",
    "f    5\n",
    "g    6\n",
    "dtype: int64\n",
    "```\n"
   ]
  },
  {
   "cell_type": "markdown",
   "metadata": {
    "collapsed": true,
    "slideshow": {
     "slide_type": "slide"
    }
   },
   "source": [
    "### Stacking DataFrames as Rows\n",
    "\n",
    "- By default, concatenation uses `axis=0` (rows) \n",
    "\n",
    "- When stacking as rows the `DataFrame`s are matched on their column labels\n",
    "- Values of column that do not exist in a `DataFrame` are replace by `NaN`\n",
    "![](images/stacking_row_ex1.png)"
   ]
  },
  {
   "cell_type": "markdown",
   "metadata": {
    "collapsed": true,
    "slideshow": {
     "slide_type": "slide"
    }
   },
   "source": [
    "### Stacking DataFrames as Columns\n",
    "\n",
    "- The change of behavior required to stack `DataFrame`s as columns needs to be explicitely specified using `axis=rows` (`axis=1`) \n",
    "\n",
    "- When stacking as columns the `DataFrame`s are match on their rows labels\n",
    "- Values of rows that do not exist in a `DataFrame` are replace by `NaN`\n",
    "![](images/stacking_cols_ex1.png)"
   ]
  },
  {
   "cell_type": "markdown",
   "metadata": {
    "collapsed": true,
    "slideshow": {
     "slide_type": "skip"
    }
   },
   "source": [
    "### PRACTICAL\n",
    "\n",
    "- Start with a new Jupyter Notebook.\n",
    "\n",
    "- Read the file `data/joining_data_practical.tsv` located in the data folder into a new pandas DataFrame called `spending_practical_df`.\n",
    "\n",
    "  - Make sure you import the appropriate module first.\n",
    "\n",
    "- Read the file `data/medication_to_class_part_1.tsv` located in the data folder into a new pandas DataFrame called `medication_to_class_p1`.\n",
    "\n",
    "\n",
    "1- Use the appropriate type of merging strategy (inner, outer, left or right) to identify medicines in spending_practical_df for which we do not have a class, i.e., no entry in the `medication_to_class_p1` DataFrame. \n",
    "\n",
    "   - Hint 2, which merging strategy will create NaN for medicine that does not have an associated class entry? Count the number of NaN yields the number of medicines missing from  `medication_to_class_p1`.\n",
    "   - Hint 2, which column names will you merge on. Use `head` to preview which columns you need to merge on. \n",
    " \n",
    "\n",
    "2- We have a second file called `medication_to_class_2.tsv` which contains additional medication classes \n",
    " - Read the file `medication_to_class_2.tsv` into a new DataFrame called `medication_to_class_p1` and concat both `medication_to_class_p1` and `medication_to_class_p2` into a dataframe called medication_to_class_ALL\n",
    " - Repeat question 1. using medication_to_class_ALL. How many medicines are still missing a class?\n",
    "\n",
    " - What are the names of the medicines still missing? \n",
    "\n"
   ]
  },
  {
   "cell_type": "code",
   "execution_count": null,
   "metadata": {
    "collapsed": true
   },
   "outputs": [],
   "source": []
  }
 ],
 "metadata": {
  "celltoolbar": "Slideshow",
  "kernelspec": {
   "display_name": "Python 3",
   "language": "python",
   "name": "python3"
  },
  "language_info": {
   "codemirror_mode": {
    "name": "ipython",
    "version": 3
   },
   "file_extension": ".py",
   "mimetype": "text/x-python",
   "name": "python",
   "nbconvert_exporter": "python",
   "pygments_lexer": "ipython3",
   "version": "3.6.3"
  }
 },
 "nbformat": 4,
 "nbformat_minor": 2
}
