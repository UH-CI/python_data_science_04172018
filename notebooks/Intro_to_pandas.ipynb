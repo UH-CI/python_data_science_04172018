{
 "cells": [
  {
   "cell_type": "code",
   "execution_count": 47,
   "metadata": {},
   "outputs": [
    {
     "data": {
      "text/html": [
       "<style>\n",
       "    @font-face {\n",
       "        font-family: \"Computer Modern\";\n",
       "        src: url('http://9dbb143991406a7c655e-aa5fcb0a5a4ec34cff238a2d56ca4144.r56.cf5.rackcdn.com/cmunss.otf');\n",
       "    }\n",
       "    @font-face {\n",
       "        font-family: \"Computer Modern\";\n",
       "        font-weight: bold;\n",
       "        src: url('http://9dbb143991406a7c655e-aa5fcb0a5a4ec34cff238a2d56ca4144.r56.cf5.rackcdn.com/cmunsx.otf');\n",
       "    }\n",
       "    @font-face {\n",
       "        font-family: \"Computer Modern\";\n",
       "        font-style: oblique;\n",
       "        src: url('http://9dbb143991406a7c655e-aa5fcb0a5a4ec34cff238a2d56ca4144.r56.cf5.rackcdn.com/cmunsi.otf');\n",
       "    }\n",
       "    @font-face {\n",
       "        font-family: \"Computer Modern\";\n",
       "        font-weight: bold;\n",
       "        font-style: oblique;\n",
       "        src: url('http://9dbb143991406a7c655e-aa5fcb0a5a4ec34cff238a2d56ca4144.r56.cf5.rackcdn.com/cmunso.otf');\n",
       "    }\n",
       "    div.cell{\n",
       "        width:900px;\n",
       "        margin-left:5% !important;\n",
       "        margin-right:auto;\n",
       "    }\n",
       "    h1 {\n",
       "        font-family: Helvetica, serif;\n",
       "    }\n",
       "    h4{\n",
       "        margin-top:12px;\n",
       "        margin-bottom: 3px;\n",
       "       }\n",
       "    div.text_cell_render{\n",
       "        font-family: Computer Modern, \"Helvetica Neue\", Arial, Helvetica, Geneva, sans-serif;\n",
       "        line-height: 145%;\n",
       "        font-size: 130%;\n",
       "        width:800px;\n",
       "        margin-left:auto;\n",
       "        margin-right:auto;\n",
       "    }\n",
       "    .CodeMirror{\n",
       "            font-family: \"Source Code Pro\", source-code-pro,Consolas, monospace;\n",
       "    }\n",
       "    .prompt{\n",
       "        display: None;\n",
       "    }\n",
       "    .text_cell_render h5 {\n",
       "        font-weight: 300;\n",
       "        font-size: 26pt;\n",
       "        color: #4057A1;\n",
       "        font-style: italic;\n",
       "        margin-bottom: .5em;\n",
       "        margin-top: 0.5em;\n",
       "        display: block;\n",
       "    }\n",
       "    \n",
       "    .warning{\n",
       "        color: rgb( 240, 20, 20 )\n",
       "        }  \n",
       "</style>\n",
       "<script>\n",
       "    MathJax.Hub.Config({\n",
       "                        TeX: {\n",
       "                           extensions: [\"AMSmath.js\"]\n",
       "                           },\n",
       "                tex2jax: {\n",
       "                    inlineMath: [ ['$','$'], [\"\\\\(\",\"\\\\)\"] ],\n",
       "                    displayMath: [ ['$$','$$'], [\"\\\\[\",\"\\\\]\"] ]\n",
       "                },\n",
       "                displayAlign: 'center', // Change this to 'center' to center equations.\n",
       "                \"HTML-CSS\": {\n",
       "                    styles: {'.MathJax_Display': {\"margin\": 4}}\n",
       "                }\n",
       "        });\n",
       "</script>\n"
      ],
      "text/plain": [
       "<IPython.core.display.HTML object>"
      ]
     },
     "execution_count": 47,
     "metadata": {},
     "output_type": "execute_result"
    }
   ],
   "source": [
    "from IPython.core.display import HTML\n",
    "\n",
    "def set_css_style(css_file_path):\n",
    "    \"\"\"\n",
    "    Read the custom CSS file and load it into Jupyter.\n",
    "    Pass the file path to the CSS file.\n",
    "    \"\"\"\n",
    "    styles = open(css_file_path, \"r\").read()\n",
    "    return HTML(styles)\n",
    "\n",
    "set_css_style('styles/custom.css')"
   ]
  },
  {
   "cell_type": "markdown",
   "metadata": {},
   "source": [
    "### Python Libraries\n",
    "\n",
    "- Python Packages are collections of Python files (called modules) that contain functionality not built into Python.\n",
    "\n",
    "  - The functions are describes in module modules -- those are just file, structured into packages (folders)\n",
    "  \n",
    "![](images/packages_modules.png)"
   ]
  },
  {
   "cell_type": "markdown",
   "metadata": {},
   "source": [
    "### Types of Python Packages\n",
    "\n",
    "There are three types of modules in Python\n",
    "\n",
    "1. Modules bundled with the Python distribution but not available for use by default.\n",
    "  - Ex. `datetime`, `random`, `collections`, etc.\n",
    "\n",
    "2. Packages typically not available in Python but which are installed by the Conda installer. Those are also not available by default.\n",
    "  - `numpy`, `Pandas`, `matplotlib`, etc.\n",
    "\n",
    "3. Other specialized packages that need to be installed manually.\n",
    "  - Ex. `BioPython`, `astropy`, `tensorflow`, etc."
   ]
  },
  {
   "cell_type": "markdown",
   "metadata": {},
   "source": [
    "### Working with Modules\n",
    "- An external module (functionality not built into python) needs to be imported first before it can be used\n",
    "  - modules are imported using:\n",
    "  \n",
    "```python\n",
    "import some_module\n",
    "from som_module import some_functionality\n",
    "```\n",
    "- The first statement imports __all__ the functionality in the `some_module`\n",
    "\n",
    "\n",
    "- The latter statement imports only `some_functionalty`\n",
    "\n",
    "\n",
    "- The difference between both is one of preference and consists of how the functionality can be called in both cases. \n",
    "\n",
    "\n",
    "- To call the functionality in the first example, you use \n",
    "\n",
    "```python\n",
    "some_mdule.some_functionality\n",
    "```\n",
    "- To call the functionality in the second example, you use \n",
    "\n",
    "```python\n",
    "some_functionality\n",
    "```"
   ]
  },
  {
   "cell_type": "markdown",
   "metadata": {},
   "source": [
    "### Example of imports\n",
    "\n",
    "- The example below imports the `math` module and all its functionality\n",
    "\n",
    "```python\n",
    ">>> import math\n",
    ">>> math.ceil(10.3)\n",
    "11\n",
    "\n",
    ">>> math.cos(2*math.pi)\n",
    "1.0\n",
    "```\n",
    "\n",
    "- The example below imports only the `log` function and the constant `e`\n",
    "  - we can separate the objects we import from a module using a comma\n",
    "\n",
    "- The example computes $log(e^3)$\n",
    "\n",
    "```python\n",
    ">>>  from math import log, e\n",
    "        log(e**3)\n",
    "        \n",
    ">>>  3.0\n",
    "```\n",
    "- In the above, since we did not explicitly import `cos`, the following command wouldn't work\n",
    "\n",
    "```python\n",
    ">>>cos(2*math.pi)\n",
    "\n",
    "-------------------------------------------------\n",
    "NameError       Traceback (most recent call last)\n",
    "...\n",
    "NameError: name 'cos' is not defined\n",
    "\n",
    "```\n",
    "\n"
   ]
  },
  {
   "cell_type": "markdown",
   "metadata": {},
   "source": [
    "### Brief Introfuction to Pandas"
   ]
  },
  {
   "cell_type": "markdown",
   "metadata": {},
   "source": [
    "- `pandas` is the defacto package for working with tabular data\n",
    "  - Think of it as Excel on steroids\n",
    "    \n",
    "- Supports a plethora of file formats (Excel, CSV, TSV, JSON, hdf5, ....)\n",
    "- Supports date and time data inherently \n",
    "\n",
    "\n",
    "![](images/pandas_architecture.png)\n"
   ]
  },
  {
   "cell_type": "markdown",
   "metadata": {},
   "source": [
    "### Pandas `Series` and `DataFrames`\n",
    "\n",
    "- The `Conda` installer includes `pandas.` \n",
    "\n",
    "- `pandas` relies principally on two types of data structures:\n",
    "\n",
    "  1. `Series`: those are list-like objects that store data in a given order.\n",
    "\n",
    "    - It helps to think of Series as columns (or rows) in MS. Excel.\n",
    "\n",
    "  2. `DataFrames`: those are spreadsheet-like tables that contain one or more Series.\n",
    "\n",
    "    - It helps to think of `DataFrames` as tables (or spreadsheets) in MS. Excel.\n",
    "\n",
    "    - Similar to R's data.frame.\n"
   ]
  },
  {
   "cell_type": "markdown",
   "metadata": {},
   "source": [
    "### `Series`\n",
    "\n",
    "\n",
    "- `Series` is \"similar\" to a python `lists.`\n",
    "\n",
    "  - An ordered collection of items of the `same datatype.`\n",
    "  \n",
    "- Series contain an additional array of labels that are associated with each data entry\n",
    "![](images/series.png)\n",
    "\n"
   ]
  },
  {
   "cell_type": "markdown",
   "metadata": {},
   "source": [
    "### About the Data\n",
    "\n",
    "- We will be working with the data in the `data/spending.csv` file. The data contains a subset the cost of drugs prescribes to Medicare patients by prescribing doctors\n",
    "\n",
    "- The complete dataset is publicly available on the  Centers for Medicare & Medicaid Services ([`CMS` website](https://www.cms.gov/OpenPayments/Explore-the-Data/Dataset-Downloads.html)):\n",
    "\n",
    "- This toy dataset contains the following columns:\n",
    "\n",
    "| Column |Description|\n",
    "|:----------|-----------|\n",
    "| `unique_id`| A unique identifier for a Medicare claim to CMS |\n",
    "| `doctor_id` | The Unique Identifier of the doctor who <br/> prescribed the medicine  |\n",
    "| `specialty` | The specialty of the doctor prescribed the medicine |\n",
    "| `medication` | The medication prescribed |\n",
    "| `nb_beneficiaries` | The number of beneficiaries the <br/> medicine was prescribed to  |\n",
    "| `spending` | The total cost of the medicine prescribed <br/>for the CMS |\n"
   ]
  },
  {
   "cell_type": "markdown",
   "metadata": {},
   "source": [
    "![](images/medicare_data.png)"
   ]
  },
  {
   "cell_type": "markdown",
   "metadata": {},
   "source": [
    "### Example of Series as Rows and Columns\n",
    "\n",
    "- It helps to think of Pandas array as either a row (or a column) of an Excel spreadsheet\n",
    "\n",
    "![](images/possible_series.png)\n",
    "\n",
    "\n"
   ]
  },
  {
   "cell_type": "markdown",
   "metadata": {},
   "source": [
    "### Creating a `pandas` `Series`\n",
    "\n",
    "\n",
    "- To work with `pandas`, you need to import it first\n",
    "\n",
    "```python\n",
    "import pandas\n",
    "```\n",
    "\n",
    "To `create` a pandas `Series`, you can call the `Series` function and pass it a `list` of values and a `list` of labels\n",
    "\n",
    "```python\n",
    "\n",
    ">>> s =  pandas.Series( data= [1234, 'DIAZEPAM', 3, '$32'],\n",
    "                            index= ['id', 'med', 'ben', 'spen'])\n",
    "\n",
    ">>> s\n",
    "doctor_id               1234\n",
    "medication          DIAZEPAM\n",
    "nb_beneficiaries           3\n",
    "spending                 $32\n",
    "dtype: object\n",
    "```\n"
   ]
  },
  {
   "cell_type": "code",
   "execution_count": 2,
   "metadata": {},
   "outputs": [
    {
     "data": {
      "text/plain": [
       "doctor_id               1234\n",
       "medication          DIAZEPAM\n",
       "nb_beneficiaries           3\n",
       "spending                 $32\n",
       "dtype: object"
      ]
     },
     "execution_count": 2,
     "metadata": {},
     "output_type": "execute_result"
    }
   ],
   "source": [
    "import pandas\n",
    "s =  pandas.Series( data= [1234, 'DIAZEPAM', 3, '$32'], index= ['doctor_id', 'medication', 'nb_beneficiaries', 'spending'])\n",
    "s"
   ]
  },
  {
   "cell_type": "markdown",
   "metadata": {
    "collapsed": true
   },
   "source": [
    "### Indexing `Series`\n",
    "\n",
    "- You can access the data in `pandas` by index (position of the object) using the same approach seen in list indexing\n",
    "\n",
    "```python\n",
    ">>> s[1]\n",
    "'DIAZEPAM'\n",
    "\n",
    ">>> s[-1]\n",
    "'$32'\n",
    "```\n",
    "\n",
    "- You can also access a value in the array using the data index\n",
    "\n",
    "```python\n",
    ">>> s[\"medication\"]\n",
    "'DIAZEPAM'\n",
    "\n",
    "s[\"spending\"]\n",
    "'$32'\n",
    "```\n",
    "- Based on  the above, it is fair to think of a `Series` as a hybrid between lists an dictionaries"
   ]
  },
  {
   "cell_type": "code",
   "execution_count": 11,
   "metadata": {},
   "outputs": [
    {
     "name": "stdout",
     "output_type": "stream",
     "text": [
      "DIAZEPAM\n",
      "DIAZEPAM\n"
     ]
    }
   ],
   "source": [
    "print(s[1])\n",
    "print(s[\"medication\"])"
   ]
  },
  {
   "cell_type": "markdown",
   "metadata": {
    "collapsed": true
   },
   "source": [
    "### Subsetting `Series`\n",
    "\n",
    "- As with lists, subsetting `Series` can be carried out throught the range operator \":\"\n",
    "\n",
    "```python\n",
    ">>> s[0:3]\n",
    "doctor_id               1234\n",
    "medication          DIAZEPAM\n",
    "nb_beneficiaries           3\n",
    "dtype: object\n",
    "```\n",
    "\n",
    "- Subsetting `Series` can also be done with lists of indices\n",
    "\n",
    "```python\n",
    ">>> s[[0,2,1]]\n",
    "doctor_id               1234\n",
    "nb_beneficiaries           3\n",
    "medication          DIAZEPAM\n",
    "dtype: object\n",
    "```\n",
    "\n",
    "- Note that the line above contains two sets of square brackets `[[ ]]`, the first is the indexing operator, the second ,inner, set is the delimiter for the list.\n",
    "    "
   ]
  },
  {
   "cell_type": "code",
   "execution_count": 18,
   "metadata": {},
   "outputs": [
    {
     "data": {
      "text/plain": [
       "doctor_id               1234\n",
       "medication          DIAZEPAM\n",
       "nb_beneficiaries           3\n",
       "dtype: object"
      ]
     },
     "execution_count": 18,
     "metadata": {},
     "output_type": "execute_result"
    }
   ],
   "source": [
    "s[0:3]"
   ]
  },
  {
   "cell_type": "code",
   "execution_count": 19,
   "metadata": {},
   "outputs": [
    {
     "data": {
      "text/plain": [
       "doctor_id           1234\n",
       "nb_beneficiaries       3\n",
       "dtype: object"
      ]
     },
     "execution_count": 19,
     "metadata": {},
     "output_type": "execute_result"
    }
   ],
   "source": [
    "s[[0,2]]\n"
   ]
  },
  {
   "cell_type": "markdown",
   "metadata": {
    "collapsed": true
   },
   "source": [
    "### Subsetting Series - Cont'd\n",
    "\n",
    "- Subsetting series can also be done throught lists of labels\n",
    "\n",
    "```python\n",
    "\n",
    ">>> s[[\"doctor_id\", \"nb_beneficiaries\"]]\n",
    "doctor_id           1234\n",
    "nb_beneficiaries       3\n",
    "dtype: object\n",
    "```\n",
    "\n",
    "\n",
    "\n",
    "- Note that line above also contains two sets of square brackets `[[ ]]`, the first is the indexing operator, the second, inner, set is the delimiter for the list.\n",
    "    \n",
    "    "
   ]
  },
  {
   "cell_type": "code",
   "execution_count": 5,
   "metadata": {},
   "outputs": [
    {
     "data": {
      "text/plain": [
       "doctor_id           1234\n",
       "nb_beneficiaries       3\n",
       "dtype: object"
      ]
     },
     "execution_count": 5,
     "metadata": {},
     "output_type": "execute_result"
    }
   ],
   "source": [
    "s[[\"doctor_id\", \"nb_beneficiaries\"]]"
   ]
  },
  {
   "cell_type": "markdown",
   "metadata": {
    "collapsed": true
   },
   "source": [
    "### `DataFrames` - Cont'd\n",
    "\n",
    "\n",
    "- It helps to think to `DataFrames` are spreadsheet-like tables made of sets of ordered Series\n",
    "\n",
    "\n",
    "![](images/df_as_series.png)\n",
    "\n",
    "\n",
    "- The example above illustrates column series, but the analogy holds for row `Series`"
   ]
  },
  {
   "cell_type": "markdown",
   "metadata": {
    "collapsed": true
   },
   "source": [
    "### Reading a `DataFrame` From a File\n",
    "\n",
    "- A `DataFrame` can be created by reading data from a file\n",
    "\n",
    "  - `pandas` supports many input formats, including Excel, CSV, TSV, SAS, STATA, etc.\n",
    "\n",
    "- We can read the example tab-delimited (TSV) spending table using:\n",
    "    \n",
    "```python\n",
    ">>> spending_df  = pandas.read_table(\"data/spending.csv\")\n",
    "```\n",
    "\n",
    "- Jupyter beautifies `DataFrame`s by printing them  as `HTML` tables.\n",
    "\n",
    "  - Using `print` prints them as text instead. So try to print them by including the name as the last statement of in the cell.\n",
    "  "
   ]
  },
  {
   "cell_type": "code",
   "execution_count": 26,
   "metadata": {
    "scrolled": true
   },
   "outputs": [
    {
     "data": {
      "text/html": [
       "<div>\n",
       "<style>\n",
       "    .dataframe thead tr:only-child th {\n",
       "        text-align: right;\n",
       "    }\n",
       "\n",
       "    .dataframe thead th {\n",
       "        text-align: left;\n",
       "    }\n",
       "\n",
       "    .dataframe tbody tr th {\n",
       "        vertical-align: top;\n",
       "    }\n",
       "</style>\n",
       "<table border=\"1\" class=\"dataframe\">\n",
       "  <thead>\n",
       "    <tr style=\"text-align: right;\">\n",
       "      <th></th>\n",
       "      <th>unique_id</th>\n",
       "      <th>doctor_id</th>\n",
       "      <th>specialty</th>\n",
       "      <th>medication</th>\n",
       "      <th>nb_beneficiaries</th>\n",
       "      <th>spending</th>\n",
       "    </tr>\n",
       "  </thead>\n",
       "  <tbody>\n",
       "    <tr>\n",
       "      <th>0</th>\n",
       "      <td>AB789982</td>\n",
       "      <td>1952310666</td>\n",
       "      <td>Psychiatry</td>\n",
       "      <td>CLONAZEPAM</td>\n",
       "      <td>226</td>\n",
       "      <td>$1,848.88</td>\n",
       "    </tr>\n",
       "    <tr>\n",
       "      <th>1</th>\n",
       "      <td>AV967778</td>\n",
       "      <td>1952310666</td>\n",
       "      <td>Psychiatry</td>\n",
       "      <td>DIAZEPAM</td>\n",
       "      <td>103</td>\n",
       "      <td>$662.87</td>\n",
       "    </tr>\n",
       "    <tr>\n",
       "      <th>2</th>\n",
       "      <td>CC128705</td>\n",
       "      <td>1298765423</td>\n",
       "      <td>Cardiology</td>\n",
       "      <td>NADOLOL</td>\n",
       "      <td>13</td>\n",
       "      <td>NaN</td>\n",
       "    </tr>\n",
       "    <tr>\n",
       "      <th>3</th>\n",
       "      <td>GH890091</td>\n",
       "      <td>1346358827</td>\n",
       "      <td>Family</td>\n",
       "      <td>HYDROCODONE</td>\n",
       "      <td>331</td>\n",
       "      <td>$8,511.14</td>\n",
       "    </tr>\n",
       "    <tr>\n",
       "      <th>4</th>\n",
       "      <td>YY219322</td>\n",
       "      <td>1548247315</td>\n",
       "      <td>Psychiatry</td>\n",
       "      <td>ALPRAZOLAM</td>\n",
       "      <td>28</td>\n",
       "      <td>$1,964.49</td>\n",
       "    </tr>\n",
       "    <tr>\n",
       "      <th>5</th>\n",
       "      <td>YY190561</td>\n",
       "      <td>1548247315</td>\n",
       "      <td>Psychiatry</td>\n",
       "      <td>GABAPENTIN</td>\n",
       "      <td>86</td>\n",
       "      <td>$1,807.16</td>\n",
       "    </tr>\n",
       "    <tr>\n",
       "      <th>6</th>\n",
       "      <td>YY572610</td>\n",
       "      <td>1548247315</td>\n",
       "      <td>Psychiatry</td>\n",
       "      <td>MIRTAZAPINE</td>\n",
       "      <td>191</td>\n",
       "      <td>$3,131.96</td>\n",
       "    </tr>\n",
       "    <tr>\n",
       "      <th>7</th>\n",
       "      <td>PL346720</td>\n",
       "      <td>1326175365</td>\n",
       "      <td>Family</td>\n",
       "      <td>OXYCODONE HCL</td>\n",
       "      <td>87</td>\n",
       "      <td>$12,881.04</td>\n",
       "    </tr>\n",
       "    <tr>\n",
       "      <th>8</th>\n",
       "      <td>GZ129032</td>\n",
       "      <td>1518970284</td>\n",
       "      <td>Hemato-oncology</td>\n",
       "      <td>DIGOXIN</td>\n",
       "      <td>54</td>\n",
       "      <td>$3,766.34</td>\n",
       "    </tr>\n",
       "  </tbody>\n",
       "</table>\n",
       "</div>"
      ],
      "text/plain": [
       "  unique_id   doctor_id        specialty     medication  nb_beneficiaries  \\\n",
       "0  AB789982  1952310666       Psychiatry     CLONAZEPAM               226   \n",
       "1  AV967778  1952310666       Psychiatry       DIAZEPAM               103   \n",
       "2  CC128705  1298765423       Cardiology        NADOLOL                13   \n",
       "3  GH890091  1346358827           Family    HYDROCODONE               331   \n",
       "4  YY219322  1548247315       Psychiatry     ALPRAZOLAM                28   \n",
       "5  YY190561  1548247315       Psychiatry     GABAPENTIN                86   \n",
       "6  YY572610  1548247315       Psychiatry    MIRTAZAPINE               191   \n",
       "7  PL346720  1326175365           Family  OXYCODONE HCL                87   \n",
       "8  GZ129032  1518970284  Hemato-oncology        DIGOXIN                54   \n",
       "\n",
       "     spending  \n",
       "0   $1,848.88  \n",
       "1     $662.87  \n",
       "2         NaN  \n",
       "3   $8,511.14  \n",
       "4   $1,964.49  \n",
       "5   $1,807.16  \n",
       "6   $3,131.96  \n",
       "7  $12,881.04  \n",
       "8   $3,766.34  "
      ]
     },
     "execution_count": 26,
     "metadata": {},
     "output_type": "execute_result"
    }
   ],
   "source": [
    "spending_df  = pandas.read_table(\"data/spending.csv\")\n",
    "\n",
    "spending_df"
   ]
  },
  {
   "cell_type": "markdown",
   "metadata": {},
   "source": [
    "### Dimensions of the DataFrame \n",
    "\n",
    "- A useful property of the `DataFrame` is the `shape.`\n",
    "\n",
    "  - This property describes the number of lines and the number of columns in your `DataFrame`.\n",
    "  \n",
    "- `shape` returns a tuple; a list of elements describing the number of row and the number of columns in an array. \n",
    "\n",
    "  - Tuples are delimited by `( )` rather `[ ]`\n",
    "\n",
    "```python\n",
    ">>>  spending_df.shape\n",
    "(8, 6)\n",
    "```\n",
    "\n",
    "- The above indicates that the `spending_df`  `DataFrame` has `8` rows (table entries) and `6` columns."
   ]
  },
  {
   "cell_type": "markdown",
   "metadata": {},
   "source": [
    "### DataFrame Indexes and Columns\n",
    "\n",
    "- As opposed to `Series` which only have indexes, `DataFrame`s have `Indexes` labels and positions and `Column` labels and positions.\n",
    "  - In the example below, since a row index was not explicitly provided, the labels for the rows are the same as the indices, i.e., 0 through 8.\n",
    "\n",
    "\n",
    "- They can, therefore, be indexed by row index, by row label, column index column label, or by a combination of both\n",
    "\n",
    "\n",
    "![](images/df_index_cols.png)\n",
    "\n"
   ]
  },
  {
   "cell_type": "markdown",
   "metadata": {},
   "source": [
    "- Row indexing can be carried out by passing the `iloc` (index location) operator a single index or a list of indexes.\n",
    "\n",
    "  -  The `iloc` operator uses `[]` instead of the `()` that methods and functions use.\n",
    "\n",
    "\n",
    "```python    \n",
    ">>> spending_df.iloc[3]\n",
    "```\n",
    "\n",
    "or\n",
    "\n",
    "```python    \n",
    ">>> spending_df.iloc[[1,5]]\n",
    "```\n",
    "\n",
    "- When a single index is given, `pandas` returns a `Series`\n",
    "  - Remember that a row is simply a Series\n",
    "  \n",
    "- When a list of indices is given, `pandas` returns another `DataFrame` \n",
    "  - The returned `DataFrame` is a subset of the original\n",
    "  "
   ]
  },
  {
   "cell_type": "code",
   "execution_count": 30,
   "metadata": {},
   "outputs": [
    {
     "data": {
      "text/plain": [
       "unique_id              GH890091\n",
       "doctor_id            1346358827\n",
       "specialty                Family\n",
       "medication          HYDROCODONE\n",
       "nb_beneficiaries            331\n",
       "spending              $8,511.14\n",
       "Name: 3, dtype: object"
      ]
     },
     "execution_count": 30,
     "metadata": {},
     "output_type": "execute_result"
    }
   ],
   "source": [
    "# Returns row, or Series\n",
    "spending_df.iloc[3]"
   ]
  },
  {
   "cell_type": "code",
   "execution_count": 31,
   "metadata": {},
   "outputs": [
    {
     "data": {
      "text/html": [
       "<div>\n",
       "<style>\n",
       "    .dataframe thead tr:only-child th {\n",
       "        text-align: right;\n",
       "    }\n",
       "\n",
       "    .dataframe thead th {\n",
       "        text-align: left;\n",
       "    }\n",
       "\n",
       "    .dataframe tbody tr th {\n",
       "        vertical-align: top;\n",
       "    }\n",
       "</style>\n",
       "<table border=\"1\" class=\"dataframe\">\n",
       "  <thead>\n",
       "    <tr style=\"text-align: right;\">\n",
       "      <th></th>\n",
       "      <th>unique_id</th>\n",
       "      <th>doctor_id</th>\n",
       "      <th>specialty</th>\n",
       "      <th>medication</th>\n",
       "      <th>nb_beneficiaries</th>\n",
       "      <th>spending</th>\n",
       "    </tr>\n",
       "  </thead>\n",
       "  <tbody>\n",
       "    <tr>\n",
       "      <th>1</th>\n",
       "      <td>AV967778</td>\n",
       "      <td>1952310666</td>\n",
       "      <td>Psychiatry</td>\n",
       "      <td>DIAZEPAM</td>\n",
       "      <td>103</td>\n",
       "      <td>$662.87</td>\n",
       "    </tr>\n",
       "    <tr>\n",
       "      <th>5</th>\n",
       "      <td>YY190561</td>\n",
       "      <td>1548247315</td>\n",
       "      <td>Psychiatry</td>\n",
       "      <td>GABAPENTIN</td>\n",
       "      <td>86</td>\n",
       "      <td>$1,807.16</td>\n",
       "    </tr>\n",
       "  </tbody>\n",
       "</table>\n",
       "</div>"
      ],
      "text/plain": [
       "  unique_id   doctor_id   specialty  medication  nb_beneficiaries   spending\n",
       "1  AV967778  1952310666  Psychiatry    DIAZEPAM               103    $662.87\n",
       "5  YY190561  1548247315  Psychiatry  GABAPENTIN                86  $1,807.16"
      ]
     },
     "execution_count": 31,
     "metadata": {},
     "output_type": "execute_result"
    }
   ],
   "source": [
    "# Returns two rows as a DataFrame\n",
    "\n",
    "spending_df.iloc[[1,5]]"
   ]
  },
  {
   "cell_type": "markdown",
   "metadata": {},
   "source": [
    "### Indexing by Rows and Column indexes \n",
    "\n",
    "- You can pass `iloc` a combination of row and column indexes using the following construct\n",
    "\n",
    "```python\n",
    " data_frame.iloc[ row_index_info, column_index_info]\n",
    "```\n",
    "- `row_index_info` and `column_index_info` can be either a single index or a list of indexes.\n",
    "\n",
    "Example:\n",
    "\n",
    "```python\n",
    ">>>  spending_df.iloc[3, 1]\n",
    "'MIRTAZAPINE'\n",
    "\n",
    ">> spending_df.iloc[2, [1,3]]\n",
    "doctor_id     1298765423\n",
    "medication       NADOLOL\n",
    "Name: 2, dtype: object\n",
    "\n",
    ">>>  spending_df.iloc[[2,4], [1,3]]\n",
    "      medication    spending\n",
    "2    HYDROCODONE   $8,511.14\n",
    "4  OXYCODONE HCL   \\$12,881.04\n",
    "```"
   ]
  },
  {
   "cell_type": "markdown",
   "metadata": {},
   "source": [
    "### Reading Tables with Index Labels\n",
    "\n",
    "- Rather than using the default integer index label created by `pandas`, a `DataFrame` can be indexed using one or more columns of data.\n",
    "\n",
    "- The index need not be an integer and can consist of any type.\n",
    "\n",
    "##### Recall\n",
    "\n",
    "```python\n",
    "spending_df  = pandas.read_table(\"data/spending.csv\")\n",
    "```\n",
    "\n",
    "![](images/default_index.png)"
   ]
  },
  {
   "cell_type": "markdown",
   "metadata": {},
   "source": [
    "### Specifying and Index Labels\n",
    "\n",
    "- We can use any column of the data to label the indexes by passing the label of the column you want to use to `pandas` `read_table()` function.\n",
    "  - For example, we can use the `unique_id` column as index labels \n",
    "\n",
    "```python\n",
    "spending_df  = pandas.read_table( \"data/spending.csv\", \n",
    "                                  index_col=[\"unique_id\"] )\n",
    "```\n",
    "\n",
    "![](images/custom_index.png)\n"
   ]
  },
  {
   "cell_type": "markdown",
   "metadata": {},
   "source": [
    "### Inspecting DataFrames\n",
    "- When a `DataFrame` contains a large number of rows it's common to use the method `head` or `tail` to display the first of last five entries, respectively, of the `DataFrame`.\n"
   ]
  },
  {
   "cell_type": "code",
   "execution_count": 35,
   "metadata": {},
   "outputs": [
    {
     "data": {
      "text/html": [
       "<div>\n",
       "<style>\n",
       "    .dataframe thead tr:only-child th {\n",
       "        text-align: right;\n",
       "    }\n",
       "\n",
       "    .dataframe thead th {\n",
       "        text-align: left;\n",
       "    }\n",
       "\n",
       "    .dataframe tbody tr th {\n",
       "        vertical-align: top;\n",
       "    }\n",
       "</style>\n",
       "<table border=\"1\" class=\"dataframe\">\n",
       "  <thead>\n",
       "    <tr style=\"text-align: right;\">\n",
       "      <th></th>\n",
       "      <th>doctor_id</th>\n",
       "      <th>specialty</th>\n",
       "      <th>medication</th>\n",
       "      <th>nb_beneficiaries</th>\n",
       "      <th>spending</th>\n",
       "    </tr>\n",
       "    <tr>\n",
       "      <th>unique_id</th>\n",
       "      <th></th>\n",
       "      <th></th>\n",
       "      <th></th>\n",
       "      <th></th>\n",
       "      <th></th>\n",
       "    </tr>\n",
       "  </thead>\n",
       "  <tbody>\n",
       "    <tr>\n",
       "      <th>AB789982</th>\n",
       "      <td>1952310666</td>\n",
       "      <td>Psychiatry</td>\n",
       "      <td>CLONAZEPAM</td>\n",
       "      <td>226</td>\n",
       "      <td>$1,848.88</td>\n",
       "    </tr>\n",
       "    <tr>\n",
       "      <th>AV967778</th>\n",
       "      <td>1952310666</td>\n",
       "      <td>Psychiatry</td>\n",
       "      <td>DIAZEPAM</td>\n",
       "      <td>103</td>\n",
       "      <td>$662.87</td>\n",
       "    </tr>\n",
       "    <tr>\n",
       "      <th>CC128705</th>\n",
       "      <td>1298765423</td>\n",
       "      <td>Cardiology</td>\n",
       "      <td>NADOLOL</td>\n",
       "      <td>13</td>\n",
       "      <td>NaN</td>\n",
       "    </tr>\n",
       "    <tr>\n",
       "      <th>GH890091</th>\n",
       "      <td>1346358827</td>\n",
       "      <td>Family</td>\n",
       "      <td>HYDROCODONE</td>\n",
       "      <td>331</td>\n",
       "      <td>$8,511.14</td>\n",
       "    </tr>\n",
       "    <tr>\n",
       "      <th>YY219322</th>\n",
       "      <td>1548247315</td>\n",
       "      <td>Psychiatry</td>\n",
       "      <td>ALPRAZOLAM</td>\n",
       "      <td>28</td>\n",
       "      <td>$1,964.49</td>\n",
       "    </tr>\n",
       "  </tbody>\n",
       "</table>\n",
       "</div>"
      ],
      "text/plain": [
       "            doctor_id   specialty   medication  nb_beneficiaries   spending\n",
       "unique_id                                                                  \n",
       "AB789982   1952310666  Psychiatry   CLONAZEPAM               226  $1,848.88\n",
       "AV967778   1952310666  Psychiatry     DIAZEPAM               103    $662.87\n",
       "CC128705   1298765423  Cardiology      NADOLOL                13        NaN\n",
       "GH890091   1346358827      Family  HYDROCODONE               331  $8,511.14\n",
       "YY219322   1548247315  Psychiatry   ALPRAZOLAM                28  $1,964.49"
      ]
     },
     "execution_count": 35,
     "metadata": {},
     "output_type": "execute_result"
    }
   ],
   "source": [
    "# before specifying the index column\n",
    "\n",
    "spending_df.head()"
   ]
  },
  {
   "cell_type": "code",
   "execution_count": null,
   "metadata": {
    "collapsed": true
   },
   "outputs": [],
   "source": [
    "spending_df.tail()"
   ]
  },
  {
   "cell_type": "code",
   "execution_count": 37,
   "metadata": {},
   "outputs": [
    {
     "data": {
      "text/html": [
       "<div>\n",
       "<style>\n",
       "    .dataframe thead tr:only-child th {\n",
       "        text-align: right;\n",
       "    }\n",
       "\n",
       "    .dataframe thead th {\n",
       "        text-align: left;\n",
       "    }\n",
       "\n",
       "    .dataframe tbody tr th {\n",
       "        vertical-align: top;\n",
       "    }\n",
       "</style>\n",
       "<table border=\"1\" class=\"dataframe\">\n",
       "  <thead>\n",
       "    <tr style=\"text-align: right;\">\n",
       "      <th></th>\n",
       "      <th>doctor_id</th>\n",
       "      <th>specialty</th>\n",
       "      <th>medication</th>\n",
       "      <th>nb_beneficiaries</th>\n",
       "      <th>spending</th>\n",
       "    </tr>\n",
       "    <tr>\n",
       "      <th>unique_id</th>\n",
       "      <th></th>\n",
       "      <th></th>\n",
       "      <th></th>\n",
       "      <th></th>\n",
       "      <th></th>\n",
       "    </tr>\n",
       "  </thead>\n",
       "  <tbody>\n",
       "    <tr>\n",
       "      <th>AB789982</th>\n",
       "      <td>1952310666</td>\n",
       "      <td>Psychiatry</td>\n",
       "      <td>CLONAZEPAM</td>\n",
       "      <td>226</td>\n",
       "      <td>$1,848.88</td>\n",
       "    </tr>\n",
       "    <tr>\n",
       "      <th>AV967778</th>\n",
       "      <td>1952310666</td>\n",
       "      <td>Psychiatry</td>\n",
       "      <td>DIAZEPAM</td>\n",
       "      <td>103</td>\n",
       "      <td>$662.87</td>\n",
       "    </tr>\n",
       "    <tr>\n",
       "      <th>CC128705</th>\n",
       "      <td>1298765423</td>\n",
       "      <td>Cardiology</td>\n",
       "      <td>NADOLOL</td>\n",
       "      <td>13</td>\n",
       "      <td>NaN</td>\n",
       "    </tr>\n",
       "    <tr>\n",
       "      <th>GH890091</th>\n",
       "      <td>1346358827</td>\n",
       "      <td>Family</td>\n",
       "      <td>HYDROCODONE</td>\n",
       "      <td>331</td>\n",
       "      <td>$8,511.14</td>\n",
       "    </tr>\n",
       "    <tr>\n",
       "      <th>YY219322</th>\n",
       "      <td>1548247315</td>\n",
       "      <td>Psychiatry</td>\n",
       "      <td>ALPRAZOLAM</td>\n",
       "      <td>28</td>\n",
       "      <td>$1,964.49</td>\n",
       "    </tr>\n",
       "  </tbody>\n",
       "</table>\n",
       "</div>"
      ],
      "text/plain": [
       "            doctor_id   specialty   medication  nb_beneficiaries   spending\n",
       "unique_id                                                                  \n",
       "AB789982   1952310666  Psychiatry   CLONAZEPAM               226  $1,848.88\n",
       "AV967778   1952310666  Psychiatry     DIAZEPAM               103    $662.87\n",
       "CC128705   1298765423  Cardiology      NADOLOL                13        NaN\n",
       "GH890091   1346358827      Family  HYDROCODONE               331  $8,511.14\n",
       "YY219322   1548247315  Psychiatry   ALPRAZOLAM                28  $1,964.49"
      ]
     },
     "execution_count": 37,
     "metadata": {},
     "output_type": "execute_result"
    }
   ],
   "source": [
    "\n",
    "spending_df  = pandas.read_table( \"data/spending.csv\", \n",
    "                                  index_col=[\"unique_id\"] )\n",
    "\n",
    "# after specifying the index column\n",
    "# note that index is now unique_id\n",
    "spending_df.head()"
   ]
  },
  {
   "cell_type": "markdown",
   "metadata": {
    "collapsed": true
   },
   "source": [
    "### Indexing DataFrames Columns using Labels\n",
    "\n",
    "- Accessing data in the `DataFrame` can also be done using index or column labels.\n",
    "\n",
    "\n",
    "- Indexing a column takes a column's label or a list of index labels\n",
    "\n",
    "```python\n",
    "spending_df[\"nb_beneficiaries\"]\n",
    "```\n",
    "or \n",
    "```python\n",
    "spending_df[[\"doctor_id\", \"nb_beneficiaries\"]]\n",
    "```\n",
    "\n",
    "- When, a single label is given, `pandas` returns a `Series`\n",
    "  - Remember that a row is simply a Series\n",
    "  \n",
    "  \n",
    "- When, a list of labels is given, `pandas` returns another `DataFrame` \n",
    "\n",
    "  - The returned `DataFrame` is a subset of the original"
   ]
  },
  {
   "cell_type": "code",
   "execution_count": 38,
   "metadata": {},
   "outputs": [
    {
     "data": {
      "text/plain": [
       "unique_id\n",
       "AB789982    226\n",
       "AV967778    103\n",
       "CC128705     13\n",
       "GH890091    331\n",
       "YY219322     28\n",
       "YY190561     86\n",
       "YY572610    191\n",
       "PL346720     87\n",
       "GZ129032     54\n",
       "Name: nb_beneficiaries, dtype: int64"
      ]
     },
     "execution_count": 38,
     "metadata": {},
     "output_type": "execute_result"
    }
   ],
   "source": [
    "spending_df[\"nb_beneficiaries\"]"
   ]
  },
  {
   "cell_type": "code",
   "execution_count": 39,
   "metadata": {},
   "outputs": [
    {
     "data": {
      "text/html": [
       "<div>\n",
       "<style>\n",
       "    .dataframe thead tr:only-child th {\n",
       "        text-align: right;\n",
       "    }\n",
       "\n",
       "    .dataframe thead th {\n",
       "        text-align: left;\n",
       "    }\n",
       "\n",
       "    .dataframe tbody tr th {\n",
       "        vertical-align: top;\n",
       "    }\n",
       "</style>\n",
       "<table border=\"1\" class=\"dataframe\">\n",
       "  <thead>\n",
       "    <tr style=\"text-align: right;\">\n",
       "      <th></th>\n",
       "      <th>doctor_id</th>\n",
       "      <th>nb_beneficiaries</th>\n",
       "    </tr>\n",
       "    <tr>\n",
       "      <th>unique_id</th>\n",
       "      <th></th>\n",
       "      <th></th>\n",
       "    </tr>\n",
       "  </thead>\n",
       "  <tbody>\n",
       "    <tr>\n",
       "      <th>AB789982</th>\n",
       "      <td>1952310666</td>\n",
       "      <td>226</td>\n",
       "    </tr>\n",
       "    <tr>\n",
       "      <th>AV967778</th>\n",
       "      <td>1952310666</td>\n",
       "      <td>103</td>\n",
       "    </tr>\n",
       "    <tr>\n",
       "      <th>CC128705</th>\n",
       "      <td>1298765423</td>\n",
       "      <td>13</td>\n",
       "    </tr>\n",
       "    <tr>\n",
       "      <th>GH890091</th>\n",
       "      <td>1346358827</td>\n",
       "      <td>331</td>\n",
       "    </tr>\n",
       "    <tr>\n",
       "      <th>YY219322</th>\n",
       "      <td>1548247315</td>\n",
       "      <td>28</td>\n",
       "    </tr>\n",
       "    <tr>\n",
       "      <th>YY190561</th>\n",
       "      <td>1548247315</td>\n",
       "      <td>86</td>\n",
       "    </tr>\n",
       "    <tr>\n",
       "      <th>YY572610</th>\n",
       "      <td>1548247315</td>\n",
       "      <td>191</td>\n",
       "    </tr>\n",
       "    <tr>\n",
       "      <th>PL346720</th>\n",
       "      <td>1326175365</td>\n",
       "      <td>87</td>\n",
       "    </tr>\n",
       "    <tr>\n",
       "      <th>GZ129032</th>\n",
       "      <td>1518970284</td>\n",
       "      <td>54</td>\n",
       "    </tr>\n",
       "  </tbody>\n",
       "</table>\n",
       "</div>"
      ],
      "text/plain": [
       "            doctor_id  nb_beneficiaries\n",
       "unique_id                              \n",
       "AB789982   1952310666               226\n",
       "AV967778   1952310666               103\n",
       "CC128705   1298765423                13\n",
       "GH890091   1346358827               331\n",
       "YY219322   1548247315                28\n",
       "YY190561   1548247315                86\n",
       "YY572610   1548247315               191\n",
       "PL346720   1326175365                87\n",
       "GZ129032   1518970284                54"
      ]
     },
     "execution_count": 39,
     "metadata": {},
     "output_type": "execute_result"
    }
   ],
   "source": [
    "spending_df[[\"doctor_id\", \"nb_beneficiaries\"]]"
   ]
  },
  {
   "cell_type": "markdown",
   "metadata": {},
   "source": [
    "### Indexing `DataFrames` Row Using Labels\n",
    "\n",
    "- Row indexing using labels can be carried out using the `loc` (index location) operator\n",
    "\n",
    "\n",
    "  -  The `loc` operator uses `[]` instead of the `()` that methods and functions use.\n",
    " \n",
    "-  `loc` can take a single label or a list of labels \n",
    "\n",
    "```python    \n",
    "spending_df.loc[\"AV967778\"]\n",
    "```\n",
    "\n",
    "or\n",
    "\n",
    "```python    \n",
    "spending_df.loc[[\"AV967778\",\"YY219322\"]]\n",
    "```\n",
    "\n",
    "- When a single index is given, `pandas` returns a `Series`.\n",
    "  - Remember that a row is simply a `Series`.\n",
    "  \n",
    "- When a list of indices is given, `pandas` returns another `DataFrame`\n",
    "  - The returned `DataFrame` is a subset of the original"
   ]
  },
  {
   "cell_type": "code",
   "execution_count": 40,
   "metadata": {},
   "outputs": [
    {
     "data": {
      "text/plain": [
       "doctor_id           1952310666\n",
       "specialty           Psychiatry\n",
       "medication            DIAZEPAM\n",
       "nb_beneficiaries           103\n",
       "spending               $662.87\n",
       "Name: AV967778, dtype: object"
      ]
     },
     "execution_count": 40,
     "metadata": {},
     "output_type": "execute_result"
    }
   ],
   "source": [
    "spending_df.loc[\"AV967778\"]"
   ]
  },
  {
   "cell_type": "code",
   "execution_count": 42,
   "metadata": {},
   "outputs": [
    {
     "data": {
      "text/html": [
       "<div>\n",
       "<style>\n",
       "    .dataframe thead tr:only-child th {\n",
       "        text-align: right;\n",
       "    }\n",
       "\n",
       "    .dataframe thead th {\n",
       "        text-align: left;\n",
       "    }\n",
       "\n",
       "    .dataframe tbody tr th {\n",
       "        vertical-align: top;\n",
       "    }\n",
       "</style>\n",
       "<table border=\"1\" class=\"dataframe\">\n",
       "  <thead>\n",
       "    <tr style=\"text-align: right;\">\n",
       "      <th></th>\n",
       "      <th>doctor_id</th>\n",
       "      <th>specialty</th>\n",
       "      <th>medication</th>\n",
       "      <th>nb_beneficiaries</th>\n",
       "      <th>spending</th>\n",
       "    </tr>\n",
       "    <tr>\n",
       "      <th>unique_id</th>\n",
       "      <th></th>\n",
       "      <th></th>\n",
       "      <th></th>\n",
       "      <th></th>\n",
       "      <th></th>\n",
       "    </tr>\n",
       "  </thead>\n",
       "  <tbody>\n",
       "    <tr>\n",
       "      <th>AV967778</th>\n",
       "      <td>1952310666</td>\n",
       "      <td>Psychiatry</td>\n",
       "      <td>DIAZEPAM</td>\n",
       "      <td>103</td>\n",
       "      <td>$662.87</td>\n",
       "    </tr>\n",
       "    <tr>\n",
       "      <th>YY219322</th>\n",
       "      <td>1548247315</td>\n",
       "      <td>Psychiatry</td>\n",
       "      <td>ALPRAZOLAM</td>\n",
       "      <td>28</td>\n",
       "      <td>$1,964.49</td>\n",
       "    </tr>\n",
       "  </tbody>\n",
       "</table>\n",
       "</div>"
      ],
      "text/plain": [
       "            doctor_id   specialty  medication  nb_beneficiaries   spending\n",
       "unique_id                                                                 \n",
       "AV967778   1952310666  Psychiatry    DIAZEPAM               103    $662.87\n",
       "YY219322   1548247315  Psychiatry  ALPRAZOLAM                28  $1,964.49"
      ]
     },
     "execution_count": 42,
     "metadata": {},
     "output_type": "execute_result"
    }
   ],
   "source": [
    "spending_df.loc[[\"AV967778\",\"YY219322\"]]"
   ]
  },
  {
   "cell_type": "markdown",
   "metadata": {},
   "source": [
    "### Subsetting by Range on Labels\n",
    "\n",
    "- Although not useful or intuitive in this case,  the range operator also works with the index and column labels.\n",
    "\n",
    "\n",
    "- Thefore, the following lines are all valid lines \n",
    "\n",
    "```python    \n",
    "spending_df.loc[\"AB789982\", \"specialty\":\"spending\"]    \n",
    "\n",
    "spending_df.loc[\"AB789982\":\"GZ129032\", \"specialty\"]    \n",
    "\n",
    "spending_df.loc[\"AB789982\":\"GZ129032\",\"specialty\":\"spending\"]    \n",
    "```\n",
    "\n",
    "- As opposed to ranges in lists, the upper limit of the range is included  in the result\n"
   ]
  },
  {
   "cell_type": "code",
   "execution_count": 45,
   "metadata": {},
   "outputs": [
    {
     "data": {
      "text/html": [
       "<div>\n",
       "<style>\n",
       "    .dataframe thead tr:only-child th {\n",
       "        text-align: right;\n",
       "    }\n",
       "\n",
       "    .dataframe thead th {\n",
       "        text-align: left;\n",
       "    }\n",
       "\n",
       "    .dataframe tbody tr th {\n",
       "        vertical-align: top;\n",
       "    }\n",
       "</style>\n",
       "<table border=\"1\" class=\"dataframe\">\n",
       "  <thead>\n",
       "    <tr style=\"text-align: right;\">\n",
       "      <th></th>\n",
       "      <th>specialty</th>\n",
       "      <th>medication</th>\n",
       "      <th>nb_beneficiaries</th>\n",
       "    </tr>\n",
       "    <tr>\n",
       "      <th>unique_id</th>\n",
       "      <th></th>\n",
       "      <th></th>\n",
       "      <th></th>\n",
       "    </tr>\n",
       "  </thead>\n",
       "  <tbody>\n",
       "    <tr>\n",
       "      <th>AB789982</th>\n",
       "      <td>Psychiatry</td>\n",
       "      <td>CLONAZEPAM</td>\n",
       "      <td>226</td>\n",
       "    </tr>\n",
       "    <tr>\n",
       "      <th>AV967778</th>\n",
       "      <td>Psychiatry</td>\n",
       "      <td>DIAZEPAM</td>\n",
       "      <td>103</td>\n",
       "    </tr>\n",
       "    <tr>\n",
       "      <th>CC128705</th>\n",
       "      <td>Cardiology</td>\n",
       "      <td>NADOLOL</td>\n",
       "      <td>13</td>\n",
       "    </tr>\n",
       "    <tr>\n",
       "      <th>GH890091</th>\n",
       "      <td>Family</td>\n",
       "      <td>HYDROCODONE</td>\n",
       "      <td>331</td>\n",
       "    </tr>\n",
       "    <tr>\n",
       "      <th>YY219322</th>\n",
       "      <td>Psychiatry</td>\n",
       "      <td>ALPRAZOLAM</td>\n",
       "      <td>28</td>\n",
       "    </tr>\n",
       "    <tr>\n",
       "      <th>YY190561</th>\n",
       "      <td>Psychiatry</td>\n",
       "      <td>GABAPENTIN</td>\n",
       "      <td>86</td>\n",
       "    </tr>\n",
       "    <tr>\n",
       "      <th>YY572610</th>\n",
       "      <td>Psychiatry</td>\n",
       "      <td>MIRTAZAPINE</td>\n",
       "      <td>191</td>\n",
       "    </tr>\n",
       "    <tr>\n",
       "      <th>PL346720</th>\n",
       "      <td>Family</td>\n",
       "      <td>OXYCODONE HCL</td>\n",
       "      <td>87</td>\n",
       "    </tr>\n",
       "    <tr>\n",
       "      <th>GZ129032</th>\n",
       "      <td>Hemato-oncology</td>\n",
       "      <td>DIGOXIN</td>\n",
       "      <td>54</td>\n",
       "    </tr>\n",
       "  </tbody>\n",
       "</table>\n",
       "</div>"
      ],
      "text/plain": [
       "                 specialty     medication  nb_beneficiaries\n",
       "unique_id                                                  \n",
       "AB789982        Psychiatry     CLONAZEPAM               226\n",
       "AV967778        Psychiatry       DIAZEPAM               103\n",
       "CC128705        Cardiology        NADOLOL                13\n",
       "GH890091            Family    HYDROCODONE               331\n",
       "YY219322        Psychiatry     ALPRAZOLAM                28\n",
       "YY190561        Psychiatry     GABAPENTIN                86\n",
       "YY572610        Psychiatry    MIRTAZAPINE               191\n",
       "PL346720            Family  OXYCODONE HCL                87\n",
       "GZ129032   Hemato-oncology        DIGOXIN                54"
      ]
     },
     "execution_count": 45,
     "metadata": {},
     "output_type": "execute_result"
    }
   ],
   "source": [
    "spending_df.loc[\"AB789982\":\"GZ129032\", \"specialty\":\"nb_beneficiaries\"]"
   ]
  },
  {
   "cell_type": "markdown",
   "metadata": {},
   "source": [
    "\n",
    "##### Indexing review:\n",
    "\n",
    "| Syntax                |   Meaning    |\n",
    "|:--------------------------|:-------------------|\n",
    "| `dataframe[\"col_name\"]`    |  Return `Series` of \"col_name\"'s  |\n",
    "| `dataframe[[\"col_name_1\", \"col_name_2\"] ]`    |  Returns `DataFrame` with  \"col_name_1\" and \"col_name_2\"|\n",
    "| `dataframe.loc[\"label\"]`| returns entry indexed by \"some_label\" |\n",
    "| `dataframe.loc[\"label\", [\"col_3\", 'col_5']]`| return entry indexed by \"some_label\", subsets columns to only \"col_3\" and \"col_5\" |\n",
    "| `dataframe.loc[[\"label_1\", \"label_2\"], ['col_3', 'col_5']]`| returns lines with indices \"label_1\" and \"label\", subsets columns to only \"col_3\" and \"col_5\" |\n",
    "| `dataframe.iloc[23, [0, 1]]`| returns line 23, and only values of columns 0 and 1 |\n",
    "| `dataframe.iloc[[1,2], [0, 1]]`| returns lines 1 and 2, and only values of columns 0 and 1 |\n"
   ]
  },
  {
   "cell_type": "markdown",
   "metadata": {
    "collapsed": true
   },
   "source": [
    "### Practical\n",
    "\n",
    "- Start with a Jupyter Notebook\n",
    "\n",
    "- Reead the file `intro_pandas_practical.tsv` located in the data folder into a new `pandas` DataFrame called `spending_practical_df`.\n",
    "\n",
    "  - Make sure you import the appropriate library first.\n",
    "  \n",
    "- Use an appropriate `pandas` method to display the first five lines of `spending_practical_df`\n",
    "\n",
    "\n",
    "- How many rows and columns does the DataFrame contain?\n",
    "\n",
    "- Write a statement that returns the `spending` Series (column) of  `spending_practical_df`.\n",
    "\n",
    "- Write a single statement that returns lines 1st, 5th  and 10th lines of `spending_practical_df`.\n",
    "\n",
    "- Write a single statement that returns the columns `specialty` and `spending` for the rows with labels 12 and 21 of `spending_practical_df`.\n",
    "\n"
   ]
  }
 ],
 "metadata": {
  "kernelspec": {
   "display_name": "Python 3",
   "language": "python",
   "name": "python3"
  },
  "language_info": {
   "codemirror_mode": {
    "name": "ipython",
    "version": 3
   },
   "file_extension": ".py",
   "mimetype": "text/x-python",
   "name": "python",
   "nbconvert_exporter": "python",
   "pygments_lexer": "ipython3",
   "version": "3.6.3"
  }
 },
 "nbformat": 4,
 "nbformat_minor": 2
}
