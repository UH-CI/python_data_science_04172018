{
 "cells": [
  {
   "cell_type": "code",
   "execution_count": 1,
   "metadata": {
    "collapsed": true
   },
   "outputs": [],
   "source": [
    "import pandas\n",
    "\n"
   ]
  },
  {
   "cell_type": "code",
   "execution_count": 12,
   "metadata": {},
   "outputs": [],
   "source": [
    "spending_practical_df = pandas.read_table(\"data/intro_pandas_practical.tsv\")\n"
   ]
  },
  {
   "cell_type": "code",
   "execution_count": 13,
   "metadata": {},
   "outputs": [
    {
     "data": {
      "text/html": [
       "<div>\n",
       "<style>\n",
       "    .dataframe thead tr:only-child th {\n",
       "        text-align: right;\n",
       "    }\n",
       "\n",
       "    .dataframe thead th {\n",
       "        text-align: left;\n",
       "    }\n",
       "\n",
       "    .dataframe tbody tr th {\n",
       "        vertical-align: top;\n",
       "    }\n",
       "</style>\n",
       "<table border=\"1\" class=\"dataframe\">\n",
       "  <thead>\n",
       "    <tr style=\"text-align: right;\">\n",
       "      <th></th>\n",
       "      <th>unique_id</th>\n",
       "      <th>doctor_id</th>\n",
       "      <th>specialty</th>\n",
       "      <th>medication</th>\n",
       "      <th>nb_beneficiaries</th>\n",
       "      <th>spending</th>\n",
       "    </tr>\n",
       "  </thead>\n",
       "  <tbody>\n",
       "    <tr>\n",
       "      <th>0</th>\n",
       "      <td>BK982218</td>\n",
       "      <td>1750389599</td>\n",
       "      <td>INTERNAL MEDICINE</td>\n",
       "      <td>AZITHROMYCIN</td>\n",
       "      <td>12</td>\n",
       "      <td>77.26</td>\n",
       "    </tr>\n",
       "    <tr>\n",
       "      <th>1</th>\n",
       "      <td>CG916968</td>\n",
       "      <td>1952344418</td>\n",
       "      <td>CARDIOLOGY</td>\n",
       "      <td>SIMVASTATIN</td>\n",
       "      <td>85</td>\n",
       "      <td>767.83</td>\n",
       "    </tr>\n",
       "    <tr>\n",
       "      <th>2</th>\n",
       "      <td>SA964720</td>\n",
       "      <td>1669522744</td>\n",
       "      <td>INTERNAL MEDICINE</td>\n",
       "      <td>INSULIN DETEMIR</td>\n",
       "      <td>14</td>\n",
       "      <td>5409.29</td>\n",
       "    </tr>\n",
       "    <tr>\n",
       "      <th>3</th>\n",
       "      <td>TR390895</td>\n",
       "      <td>1639597115</td>\n",
       "      <td>STUDENT IN AN ORGANIZED HEALTH CARE EDUCATION/...</td>\n",
       "      <td>LOSARTAN POTASSIUM</td>\n",
       "      <td>11</td>\n",
       "      <td>65.62</td>\n",
       "    </tr>\n",
       "    <tr>\n",
       "      <th>4</th>\n",
       "      <td>JA436080</td>\n",
       "      <td>1073781571</td>\n",
       "      <td>NEUROLOGY</td>\n",
       "      <td>LAMOTRIGINE</td>\n",
       "      <td>12</td>\n",
       "      <td>8873.70</td>\n",
       "    </tr>\n",
       "  </tbody>\n",
       "</table>\n",
       "</div>"
      ],
      "text/plain": [
       "  unique_id   doctor_id                                          specialty  \\\n",
       "0  BK982218  1750389599                                  INTERNAL MEDICINE   \n",
       "1  CG916968  1952344418                                         CARDIOLOGY   \n",
       "2  SA964720  1669522744                                  INTERNAL MEDICINE   \n",
       "3  TR390895  1639597115  STUDENT IN AN ORGANIZED HEALTH CARE EDUCATION/...   \n",
       "4  JA436080  1073781571                                          NEUROLOGY   \n",
       "\n",
       "           medication  nb_beneficiaries  spending  \n",
       "0        AZITHROMYCIN                12     77.26  \n",
       "1         SIMVASTATIN                85    767.83  \n",
       "2     INSULIN DETEMIR                14   5409.29  \n",
       "3  LOSARTAN POTASSIUM                11     65.62  \n",
       "4         LAMOTRIGINE                12   8873.70  "
      ]
     },
     "execution_count": 13,
     "metadata": {},
     "output_type": "execute_result"
    }
   ],
   "source": [
    "spending_practical_df.head()"
   ]
  },
  {
   "cell_type": "code",
   "execution_count": 14,
   "metadata": {},
   "outputs": [
    {
     "data": {
      "text/plain": [
       "(54, 6)"
      ]
     },
     "execution_count": 14,
     "metadata": {},
     "output_type": "execute_result"
    }
   ],
   "source": [
    "spending_practical_df.shape"
   ]
  },
  {
   "cell_type": "code",
   "execution_count": 16,
   "metadata": {},
   "outputs": [
    {
     "data": {
      "text/plain": [
       "0        77.26\n",
       "1       767.83\n",
       "2      5409.29\n",
       "3        65.62\n",
       "4      8873.70\n",
       "5       121.34\n",
       "6       310.97\n",
       "7      2726.72\n",
       "8     10253.35\n",
       "9       355.43\n",
       "10     2565.44\n",
       "11      340.75\n",
       "12      349.58\n",
       "13     2791.18\n",
       "14      118.89\n",
       "15     2837.07\n",
       "16    15272.18\n",
       "17      440.79\n",
       "18     3078.49\n",
       "19     2239.34\n",
       "20     8045.03\n",
       "21      618.52\n",
       "22     1456.08\n",
       "23     1491.24\n",
       "24     1730.84\n",
       "25     1219.38\n",
       "26       89.30\n",
       "27     5846.93\n",
       "28      327.12\n",
       "29      311.30\n",
       "30     2052.04\n",
       "31     2547.07\n",
       "32     1608.42\n",
       "33     8934.45\n",
       "34    15640.59\n",
       "35     3147.16\n",
       "36      501.79\n",
       "37      265.49\n",
       "38    10869.06\n",
       "39      218.56\n",
       "40    76346.72\n",
       "41      401.89\n",
       "42      814.71\n",
       "43       74.37\n",
       "44      525.54\n",
       "45     1910.22\n",
       "46      180.08\n",
       "47      615.66\n",
       "48     3758.22\n",
       "49      501.50\n",
       "50     4341.38\n",
       "51    79045.15\n",
       "52      361.43\n",
       "53      248.95\n",
       "Name: spending, dtype: float64"
      ]
     },
     "execution_count": 16,
     "metadata": {},
     "output_type": "execute_result"
    }
   ],
   "source": [
    "spending_practical_df[\"spending\"]"
   ]
  },
  {
   "cell_type": "code",
   "execution_count": 18,
   "metadata": {},
   "outputs": [
    {
     "data": {
      "text/html": [
       "<div>\n",
       "<style>\n",
       "    .dataframe thead tr:only-child th {\n",
       "        text-align: right;\n",
       "    }\n",
       "\n",
       "    .dataframe thead th {\n",
       "        text-align: left;\n",
       "    }\n",
       "\n",
       "    .dataframe tbody tr th {\n",
       "        vertical-align: top;\n",
       "    }\n",
       "</style>\n",
       "<table border=\"1\" class=\"dataframe\">\n",
       "  <thead>\n",
       "    <tr style=\"text-align: right;\">\n",
       "      <th></th>\n",
       "      <th>unique_id</th>\n",
       "      <th>doctor_id</th>\n",
       "      <th>specialty</th>\n",
       "      <th>medication</th>\n",
       "      <th>nb_beneficiaries</th>\n",
       "      <th>spending</th>\n",
       "    </tr>\n",
       "  </thead>\n",
       "  <tbody>\n",
       "    <tr>\n",
       "      <th>0</th>\n",
       "      <td>BK982218</td>\n",
       "      <td>1750389599</td>\n",
       "      <td>INTERNAL MEDICINE</td>\n",
       "      <td>AZITHROMYCIN</td>\n",
       "      <td>12</td>\n",
       "      <td>77.26</td>\n",
       "    </tr>\n",
       "    <tr>\n",
       "      <th>4</th>\n",
       "      <td>JA436080</td>\n",
       "      <td>1073781571</td>\n",
       "      <td>NEUROLOGY</td>\n",
       "      <td>LAMOTRIGINE</td>\n",
       "      <td>12</td>\n",
       "      <td>8873.70</td>\n",
       "    </tr>\n",
       "    <tr>\n",
       "      <th>9</th>\n",
       "      <td>EQ932492</td>\n",
       "      <td>1336217306</td>\n",
       "      <td>INTERNAL MEDICINE</td>\n",
       "      <td>OXYCODONE HCL</td>\n",
       "      <td>11</td>\n",
       "      <td>355.43</td>\n",
       "    </tr>\n",
       "  </tbody>\n",
       "</table>\n",
       "</div>"
      ],
      "text/plain": [
       "  unique_id   doctor_id          specialty     medication  nb_beneficiaries  \\\n",
       "0  BK982218  1750389599  INTERNAL MEDICINE   AZITHROMYCIN                12   \n",
       "4  JA436080  1073781571          NEUROLOGY    LAMOTRIGINE                12   \n",
       "9  EQ932492  1336217306  INTERNAL MEDICINE  OXYCODONE HCL                11   \n",
       "\n",
       "   spending  \n",
       "0     77.26  \n",
       "4   8873.70  \n",
       "9    355.43  "
      ]
     },
     "execution_count": 18,
     "metadata": {},
     "output_type": "execute_result"
    }
   ],
   "source": [
    "spending_practical_df.iloc[[0, 4, 9 ]]"
   ]
  },
  {
   "cell_type": "code",
   "execution_count": 19,
   "metadata": {},
   "outputs": [
    {
     "data": {
      "text/html": [
       "<div>\n",
       "<style>\n",
       "    .dataframe thead tr:only-child th {\n",
       "        text-align: right;\n",
       "    }\n",
       "\n",
       "    .dataframe thead th {\n",
       "        text-align: left;\n",
       "    }\n",
       "\n",
       "    .dataframe tbody tr th {\n",
       "        vertical-align: top;\n",
       "    }\n",
       "</style>\n",
       "<table border=\"1\" class=\"dataframe\">\n",
       "  <thead>\n",
       "    <tr style=\"text-align: right;\">\n",
       "      <th></th>\n",
       "      <th>specialty</th>\n",
       "      <th>spending</th>\n",
       "    </tr>\n",
       "  </thead>\n",
       "  <tbody>\n",
       "    <tr>\n",
       "      <th>12</th>\n",
       "      <td>INTERNAL MEDICINE</td>\n",
       "      <td>349.58</td>\n",
       "    </tr>\n",
       "    <tr>\n",
       "      <th>21</th>\n",
       "      <td>INTERNAL MEDICINE</td>\n",
       "      <td>618.52</td>\n",
       "    </tr>\n",
       "  </tbody>\n",
       "</table>\n",
       "</div>"
      ],
      "text/plain": [
       "            specialty  spending\n",
       "12  INTERNAL MEDICINE    349.58\n",
       "21  INTERNAL MEDICINE    618.52"
      ]
     },
     "execution_count": 19,
     "metadata": {},
     "output_type": "execute_result"
    }
   ],
   "source": [
    "spending_practical_df.loc[[12, 21 ], [\"specialty\", \"spending\"]]"
   ]
  },
  {
   "cell_type": "code",
   "execution_count": null,
   "metadata": {
    "collapsed": true
   },
   "outputs": [],
   "source": []
  }
 ],
 "metadata": {
  "kernelspec": {
   "display_name": "Python 3",
   "language": "python",
   "name": "python3"
  },
  "language_info": {
   "codemirror_mode": {
    "name": "ipython",
    "version": 3
   },
   "file_extension": ".py",
   "mimetype": "text/x-python",
   "name": "python",
   "nbconvert_exporter": "python",
   "pygments_lexer": "ipython3",
   "version": "3.6.3"
  }
 },
 "nbformat": 4,
 "nbformat_minor": 2
}
