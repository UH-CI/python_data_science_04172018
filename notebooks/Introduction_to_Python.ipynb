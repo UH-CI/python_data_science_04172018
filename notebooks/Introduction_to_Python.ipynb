{
 "cells": [
  {
   "cell_type": "code",
   "execution_count": 3,
   "metadata": {},
   "outputs": [
    {
     "data": {
      "text/html": [
       "<style>\n",
       "    @font-face {\n",
       "        font-family: \"Computer Modern\";\n",
       "        src: url('http://9dbb143991406a7c655e-aa5fcb0a5a4ec34cff238a2d56ca4144.r56.cf5.rackcdn.com/cmunss.otf');\n",
       "    }\n",
       "    @font-face {\n",
       "        font-family: \"Computer Modern\";\n",
       "        font-weight: bold;\n",
       "        src: url('http://9dbb143991406a7c655e-aa5fcb0a5a4ec34cff238a2d56ca4144.r56.cf5.rackcdn.com/cmunsx.otf');\n",
       "    }\n",
       "    @font-face {\n",
       "        font-family: \"Computer Modern\";\n",
       "        font-style: oblique;\n",
       "        src: url('http://9dbb143991406a7c655e-aa5fcb0a5a4ec34cff238a2d56ca4144.r56.cf5.rackcdn.com/cmunsi.otf');\n",
       "    }\n",
       "    @font-face {\n",
       "        font-family: \"Computer Modern\";\n",
       "        font-weight: bold;\n",
       "        font-style: oblique;\n",
       "        src: url('http://9dbb143991406a7c655e-aa5fcb0a5a4ec34cff238a2d56ca4144.r56.cf5.rackcdn.com/cmunso.otf');\n",
       "    }\n",
       "    div.cell{\n",
       "        width:900px;\n",
       "        margin-left:5% !important;\n",
       "        margin-right:auto;\n",
       "    }\n",
       "    h1 {\n",
       "        font-family: Helvetica, serif;\n",
       "    }\n",
       "    h4{\n",
       "        margin-top:12px;\n",
       "        margin-bottom: 3px;\n",
       "       }\n",
       "    div.text_cell_render{\n",
       "        font-family: Computer Modern, \"Helvetica Neue\", Arial, Helvetica, Geneva, sans-serif;\n",
       "        line-height: 145%;\n",
       "        font-size: 130%;\n",
       "        width:800px;\n",
       "        margin-left:auto;\n",
       "        margin-right:auto;\n",
       "    }\n",
       "    .CodeMirror{\n",
       "            font-family: \"Source Code Pro\", source-code-pro,Consolas, monospace;\n",
       "    }\n",
       "    .prompt{\n",
       "        display: None;\n",
       "    }\n",
       "    .text_cell_render h5 {\n",
       "        font-weight: 300;\n",
       "        font-size: 26pt;\n",
       "        color: #4057A1;\n",
       "        font-style: italic;\n",
       "        margin-bottom: .5em;\n",
       "        margin-top: 0.5em;\n",
       "        display: block;\n",
       "    }\n",
       "    \n",
       "    .warning{\n",
       "        color: rgb( 240, 20, 20 )\n",
       "        }  \n",
       "</style>\n",
       "<script>\n",
       "    MathJax.Hub.Config({\n",
       "                        TeX: {\n",
       "                           extensions: [\"AMSmath.js\"]\n",
       "                           },\n",
       "                tex2jax: {\n",
       "                    inlineMath: [ ['$','$'], [\"\\\\(\",\"\\\\)\"] ],\n",
       "                    displayMath: [ ['$$','$$'], [\"\\\\[\",\"\\\\]\"] ]\n",
       "                },\n",
       "                displayAlign: 'center', // Change this to 'center' to center equations.\n",
       "                \"HTML-CSS\": {\n",
       "                    styles: {'.MathJax_Display': {\"margin\": 4}}\n",
       "                }\n",
       "        });\n",
       "</script>\n"
      ],
      "text/plain": [
       "<IPython.core.display.HTML object>"
      ]
     },
     "execution_count": 3,
     "metadata": {},
     "output_type": "execute_result"
    }
   ],
   "source": [
    "from IPython.core.display import HTML\n",
    "\n",
    "def set_css_style(css_file_path):\n",
    "    \"\"\"\n",
    "    Read the custom CSS file and load it into Jupyter.\n",
    "    Pass the file path to the CSS file.\n",
    "    \"\"\"\n",
    "    styles = open(css_file_path, \"r\").read()\n",
    "    return HTML(styles)\n",
    "\n",
    "set_css_style('styles/custom.css')"
   ]
  },
  {
   "cell_type": "markdown",
   "metadata": {},
   "source": [
    "## Introduction to Python\n",
    "\n",
    "- Useful Python Operator`.`\n",
    "  - Arithmetic Operators`.`\n",
    "\n",
    "\n",
    "- Essential data types and collections for storing and retrieving data`.`\n",
    "  - Scalar Types`.`\n",
    "  - Collections`.`\n",
    "\n",
    "\n",
    "- Python functions`.`\n",
    "\n",
    "\n",
    "- Function vs. methods`.`\n"
   ]
  },
  {
   "cell_type": "markdown",
   "metadata": {},
   "source": [
    "### Arithmetic Operators in Python-\n",
    "\n",
    "- In the context of data analysis, you can think of Python as a supercharged stylesheet`.`\n",
    "\n",
    "Basic Arithmetic operator in Python are:\n",
    "    \n",
    "| Operator  | Description | Example|\n",
    "|:---------:|-------------|--------|\n",
    "| `+` | Addition | 7 + 3 |\n",
    "| `-` | Subtraction | 7  - 3 |\n",
    "| `*` | Multiplication | 7  * 3 |\n",
    "| `/` | Division | 7  / 3 |\n",
    "| `**` | Power | 7  ** 3 |"
   ]
  },
  {
   "cell_type": "markdown",
   "metadata": {},
   "source": [
    "### Examples Using Arithmetic Operators\n",
    "\n",
    "```Python\n",
    ">>> 7 + 3\n",
    "10\n",
    "\n",
    ">>> 7  - 3\n",
    "4\n",
    "\n",
    ">>> 7  * 3\n",
    "21\n",
    "\n",
    ">>> 7  ** 3\n",
    "343\n",
    "```"
   ]
  },
  {
   "cell_type": "markdown",
   "metadata": {},
   "source": [
    "### Comparison Operators in Python-\n",
    "\n",
    "- In addition to the arithmetic operators, Python also supports comparison operators`.`\n",
    "\n",
    "\n",
    "- An expression with a comparison operator is called boolean expression`.`\n",
    "  - These operators return the __`Boolean`__ `True` or `False.`\n",
    "\n",
    "\n",
    "- Think of this operators as a way to ask a question which outcome is either `True` or `False.`\n",
    "  - For instance (7 < 3) asks the question: is `7 less than 3`?\n",
    "  - In this case, the expression (Python) returns (give us) False since 7 is not smaller than 3.\n",
    "   \n",
    "   \n",
    "\n",
    "| Operator  | Description | Example|\n",
    "|:---------:|-------------|--------|\n",
    "| `<` | Smaller than than | 7 < 3 |\n",
    "| `<=` | Smaller than or equal | 7  <= 3 |\n",
    "| `>` | Greater than | 7  > 3 |\n",
    "| `>=` | Greater than or equal  | 7  >= 3 |\n",
    "| `==` | Equals | 7 == 3 |\n",
    "| `!=` | Different from | 7 != 3 |\n",
    "\n",
    "\n"
   ]
  },
  {
   "cell_type": "markdown",
   "metadata": {},
   "source": [
    "### Examples Using Comparison Operators\n",
    "\n",
    "```Python\n",
    ">>> 7 < 7\n",
    "False\n",
    "\n",
    ">>> 7 <= 7\n",
    "True\n",
    "\n",
    ">>> 7 > 12\n",
    "False\n",
    "\n",
    ">>> 12 > 11\n",
    "True\n",
    "```"
   ]
  },
  {
   "cell_type": "markdown",
   "metadata": {},
   "source": [
    "### Boolean opearators in Python\n",
    "\n",
    "Boolean operators in Python allow us to join two or more multiple boolean expressions into more complex expression.\n",
    "\n",
    "-  The  `Boolean` comparison operators are:\n",
    "\n",
    "| Operator  | Description | Example|\n",
    "|:---------:|-------------|--------|\n",
    "| `and` | Boolean and | (7 > 3) and (3 < 2) |\n",
    "| `or` | Boolean and | (7 > 3) or (3 < 2) |\n",
    "| `not` | Boolean and | not (7 > 3) |\n",
    "\n",
    "- To avoid ambiguity, expression are commonly written with parentheses. \n",
    "\n",
    "```python\n",
    "(7 > 3) and (3 < 2)\n",
    "```\n",
    "    \n",
    "- With `and`, the expression is `True` if all sub-elements of the comparison are `True.`\n",
    "\n",
    "\n",
    "- With `or`, the expression is `True` if at least one of the sub-elements of the comparison is `True``.`\n",
    "\n",
    "\n",
    "- ot negates an expression`.`"
   ]
  },
  {
   "cell_type": "markdown",
   "metadata": {},
   "source": [
    "### Examples Using Boolean Operators\n",
    "\n",
    "\n",
    "```python\n",
    ">>> (12 > 11) and (3 < 2)\n",
    "False\n",
    "\n",
    ">>> (12 > 11) and (1 < 9)\n",
    "True\n",
    "\n",
    ">>> (12 > 11) or (3 < 2)\n",
    "True\n",
    "\n",
    ">>> not (12 > 11)\n",
    "False\n",
    "```"
   ]
  },
  {
   "cell_type": "markdown",
   "metadata": {},
   "source": [
    "## Variables, Scalar Types and collections\n",
    "\n",
    "- Python, like most other programming languages, offers the possibility to save value to variables.\n",
    "- As the name implies, variables hold values that may change thtough out the program`.`\n",
    "\n",
    "- A variable is simply a space in the computer's memory (think of it as a box) that can hold data`.`\n",
    "\n",
    "- A variable is declared using the asignment operator `=`\n",
    "  - This is different from the equality operator `==`\n",
    "\n"
   ]
  },
  {
   "cell_type": "markdown",
   "metadata": {},
   "source": [
    "### Example of assignment\n",
    "```Python\n",
    "age = 18\n",
    "```\n",
    "\n",
    "- `age` is the variable name`.`\n",
    "\n",
    "- `18` is the value stored in the variable `age.`\n",
    "\n",
    "![Jupyter Images](./images/variable.png \"Title\")"
   ]
  },
  {
   "cell_type": "markdown",
   "metadata": {},
   "source": [
    "### Scalar types in Python\n",
    "\n",
    "- To optimize memory usage and to facilitate working with data, Python keeps track of the types of variables it needs to stores`.`\n",
    "\n",
    "  - For instance, by knowing that a variable contains a sequence of characters; called a string, Python will provide functionality to,  upper case or lower case the string, find the position of a character in the string, compute the length of a string, _etc_`.`\n",
    "  \n",
    "- The most commonly used data types in Python are:\n",
    "\n",
    "| Type        | Desciption  |  Example  |\n",
    "|:-------------------------|-------------:|---------------:|\n",
    "| `int`      | Represents integer values (Bignum arithmetic)      | nb_workshop_participants = 35 |  \n",
    "| `float`    | Represents floating point numbers   |  pi = 3.1415 |\n",
    "| `str`      | A list of chatacters  |  city_name = \"Honolulu\"  |\n",
    "| `bool`     | Holds one of the values `True` of `False` |    answer = `True` |\n",
    " \n",
    "\n",
    "- These basic variable types are referred to as __scalars types__`.`\n",
    "  - We will refer to them as `scalars.`\n",
    "  \n"
   ]
  },
  {
   "cell_type": "markdown",
   "metadata": {},
   "source": [
    "### Things to remember about variable names\n",
    "- Variable names are case sensitive`.`\n",
    "  - They are also typically lowercased, with words separated by underscores as necessary to improve readability`.`\n",
    "\n",
    "- Variable names can be used in an expression the same way we use `literals` value`.`\n",
    "\n",
    "```python\n",
    "temp_celcius = 32.6\n",
    "temp_farenheit  = temp_celcius * 9/5 + 32\n",
    "```\n",
    "\n",
    "- Variables can be `initialized` using the result of an expression\n",
    "\n",
    "\n",
    "```python\n",
    "    insured_participant = (age < 18) or (age > 65)\n",
    "```\n"
   ]
  },
  {
   "cell_type": "code",
   "execution_count": 4,
   "metadata": {},
   "outputs": [
    {
     "data": {
      "text/plain": [
       "50.0"
      ]
     },
     "execution_count": 4,
     "metadata": {},
     "output_type": "execute_result"
    }
   ],
   "source": [
    "temp_celcius = 10\n",
    "temp_farenheit  = temp_celcius * 9/5 + 32\n",
    "temp_farenheit"
   ]
  },
  {
   "cell_type": "code",
   "execution_count": 8,
   "metadata": {},
   "outputs": [
    {
     "data": {
      "text/plain": [
       "False"
      ]
     },
     "execution_count": 8,
     "metadata": {},
     "output_type": "execute_result"
    }
   ],
   "source": [
    "age = 32\n",
    " = (age < 18) or (age > 65)\n",
    "insured_participant"
   ]
  },
  {
   "cell_type": "markdown",
   "metadata": {},
   "source": [
    "#### Jupyter Implicit  `print` Functionality\n",
    "\n",
    "- So far, we relied on Jupyter to display the result of an expression or the value stored in a variable when by typing the expression or variable name as the last statement in a cell.\n",
    "\n",
    "  - This only works for the last expression in a cell. For instance, running a single notebook cell with the code below prints the value stored in `temp_celcius` but not the value stored in `temp_farenheit`\n",
    "\n",
    "\n",
    "```python\n",
    ">>> temp_farenheit\n",
    ">>> temp_celcius\n",
    "```"
   ]
  },
  {
   "cell_type": "markdown",
   "metadata": {},
   "source": [
    "#### Jupyter Explicit `print` Functionality\n",
    "\n",
    "- To print the value stored in a variable or the results of statement that compute a value, we need to explicitly call the `print` function. \n",
    "\n",
    "- For example, the code below will print all \n",
    "\n",
    "```python\n",
    ">>> print(temp_farenheit)\n",
    ">>> print(temp_celcius)\n",
    ">>> print(2+5)\n",
    "10\n",
    "50.0\n",
    "10\n",
    "```\n",
    "- `print` can print all scalar types, including string literals (ex. \"I am a string literal\"). \n",
    "- `print` can use various schemes to print more than one statement or variable. \n",
    "  - The easiest way to do this is by separating the various elements using a comma (`,`), which results in the values separated by spaces.\n",
    "\n",
    "```python\n",
    ">>> nb_minutes = 5\n",
    ">>> nb_seconds = nb_minutes * 60\n",
    ">>> print (\"There are\", nb_seconds, \"in\", nb_minutes, \"minutes\")\n",
    "There are 300 in 5 minutes\n",
    "```"
   ]
  },
  {
   "cell_type": "code",
   "execution_count": 22,
   "metadata": {},
   "outputs": [
    {
     "name": "stdout",
     "output_type": "stream",
     "text": [
      "There are 840 second in 14 minutes\n"
     ]
    }
   ],
   "source": [
    "nb_minutes = 14\n",
    "nb_seconds = nb_minutes * 60\n",
    "\n",
    "print (\"There are\", nb_seconds, \"second in\", nb_minutes, \"minutes\")\n"
   ]
  },
  {
   "cell_type": "markdown",
   "metadata": {
    "collapsed": true
   },
   "source": [
    "### Collections\n",
    "\n",
    "- Collections represent the class of variables that can contain a series of scalars`.`\n",
    "\n",
    "\n",
    "- Two popular such types are lists and dictionaries.\n",
    "\n",
    "\n"
   ]
  },
  {
   "cell_type": "markdown",
   "metadata": {},
   "source": [
    "### Lists (Arrays in every other language)\n",
    "- Lists are useful for storing sequences of elements in a given order\n",
    "\n",
    "```python\n",
    ">>> counties = [\"HAWAII\", \"HONOLULU\", \"KALAWAO\", \"Kauai\", \"MAUI\"]\n",
    "```\n",
    "\n",
    "![Jupyter Images](./images/list.png \"Title\")\n",
    "\n",
    "\n",
    "- Lists are useful for storing sequences of elements in a given order\n",
    "- The elements are maintained in the order in which they are specified\n"
   ]
  },
  {
   "cell_type": "code",
   "execution_count": 23,
   "metadata": {},
   "outputs": [
    {
     "data": {
      "text/plain": [
       "'HONOLULU'"
      ]
     },
     "execution_count": 23,
     "metadata": {},
     "output_type": "execute_result"
    }
   ],
   "source": [
    "counties  = [\"HAWAII\", \"HONOLULU\", \"KALAWAO\", \"KAUAI\", \"MAUI\"]\n",
    "\n",
    "counties[1]\n"
   ]
  },
  {
   "cell_type": "code",
   "execution_count": 24,
   "metadata": {},
   "outputs": [
    {
     "name": "stdout",
     "output_type": "stream",
     "text": [
      "The first elements in the list of counties is HAWAII\n",
      "The last elements in the list of counties is MAUI\n"
     ]
    }
   ],
   "source": [
    "counties  = [\"HAWAII\", \"HONOLULU\", \"KALAWAO\", \"KAUAI\", \"MAUI\"]\n",
    "\n",
    "print(\"The first elements in the list of counties is\", counties[0])\n",
    "\n",
    "print(\"The last elements in the list of counties is\", counties[4])\n"
   ]
  },
  {
   "cell_type": "markdown",
   "metadata": {},
   "source": [
    "### List Indexing\n",
    "\n",
    "- Elements are indexed (accessed) in the list using their position; called _index_`.` \n",
    "\n",
    "\n",
    "- The  index (position) of the first element is 0`.`\n",
    "\n",
    "\n",
    "- Indices can be specified in the positive or negative senses\n",
    "  - The position of the last index is -1\n",
    "\n",
    "```python\n",
    ">>> greeting = [\"H\", \"E\", \"L\", \"L\", \"O\", \" \", \"W\", \"O\", \"R\", \"L\", \"D\"]\n",
    "```\n",
    "\n",
    "![](images/array_indexing.png)"
   ]
  },
  {
   "cell_type": "code",
   "execution_count": 28,
   "metadata": {
    "scrolled": true
   },
   "outputs": [
    {
     "name": "stdout",
     "output_type": "stream",
     "text": [
      "The first element is H\n",
      "The position of the last element is D\n",
      "Position 6 constains W\n"
     ]
    }
   ],
   "source": [
    "\n",
    "greeting = [\"H\", \"E\", \"L\", \"L\", \"O\", \" \", \"W\", \"O\", \"R\", \"L\", \"D\"]\n",
    "\n",
    "print (\"The first element is\", greeting[0])\n",
    "print (\"The position of the last element is\", greeting[-1])\n",
    "print (\"Position 6 constains\", greeting[6])\n",
    "\n",
    "\n"
   ]
  },
  {
   "cell_type": "markdown",
   "metadata": {},
   "source": [
    "#### List subsetting\n",
    "```python\n",
    ">>> greetings[0:5]\n",
    "HELLO\n",
    "```\n",
    "- A subset of a list can be accessed using the starting index followed by ':' and the index after the last item wanted.\n"
   ]
  },
  {
   "cell_type": "markdown",
   "metadata": {},
   "source": [
    "### Dictionaries (Also called a Hash in other languages)\n",
    "\n",
    "- Dictionaries contain objects that are labeled using unique indexes as opposed to numbers for arrays`.`\n",
    "\n",
    "```python\n",
    "\n",
    ">>> counties_to_FIPS = { \"HONOLULU\": 15003, \"HAWAII\": 15001, \n",
    "                         \"MAUI\": 15009, \"KAUAI\": 15007,\n",
    "                         \"KALAWAO\": 15005}\n",
    "\n",
    ">>> counties_to_FIPS\n",
    "{ 'HAWAII': 15001,\n",
    "  'HONOLULU': 15003,\n",
    "  'KALAWAO': 15005,\n",
    "  'KAUAI': 15007,\n",
    "  'MAUI': 15009 }\n",
    "```\n",
    "\n"
   ]
  },
  {
   "cell_type": "markdown",
   "metadata": {},
   "source": [
    "# Indexing Dictionary Entries\n",
    "\n",
    "- Dictionaries are unordered, i.e., the order in which is entered is not the same as that in which data is stored`.`\n",
    "\n",
    "![Jupyter Images](./images/dict.png \"Title\")\n",
    "\n",
    "- Elements in a dictionary are accessed using their keys. for example:\n",
    "\n",
    "```python\n",
    ">>> counties_to_FIPS[\"MAUI\"]\n",
    "counties_to_FIPS[\"MAUI\"]\n",
    "```\n"
   ]
  },
  {
   "cell_type": "code",
   "execution_count": 29,
   "metadata": {},
   "outputs": [
    {
     "name": "stdout",
     "output_type": "stream",
     "text": [
      "The fips code for MAUI IS 15009\n",
      "The fips code for HAWAII IS 15001\n"
     ]
    }
   ],
   "source": [
    "counties_to_FIPS = {\"HONOLULU\": 15003, \"HAWAII\": 15001, \"MAUI\": 15009, \"KAUAI\": 15007,  \"KALAWAO\": 15005}\n",
    "print(\"The fips code for MAUI IS\", counties_to_FIPS[\"MAUI\"])\n",
    "print(\"The fips code for HAWAII IS\", counties_to_FIPS[\"HAWAII\"])\n"
   ]
  },
  {
   "cell_type": "markdown",
   "metadata": {},
   "source": [
    "### Python Functions\n",
    "\n",
    "\n",
    "\n",
    "\n",
    "- A function has the following structure and components\n",
    "\n",
    "\n"
   ]
  },
  {
   "cell_type": "markdown",
   "metadata": {},
   "source": [
    "### Example function \n",
    "\n",
    "- A function is a collection (bundle of code) that accomplishes a task.\n",
    "\n",
    "- The code below describes the components and structure of the function for computing the body mass index (BMI):\n",
    "\n",
    "\n",
    "\n",
    "![](images/function.png)\n",
    "\n"
   ]
  },
  {
   "cell_type": "markdown",
   "metadata": {},
   "source": [
    "### Calling a Function\n",
    "\n",
    "- Above, we have called the print function by passing it a set of parameters inside the parentheses`.`\n",
    "\n",
    "```python\n",
    ">>> person_name = \"John\"\n",
    ">>> print(\"Hello there,\", person_name)\n",
    "Hello there, John\n",
    "```\n",
    "\n",
    "- Similarly, we can call `compute_BMI` function by passing two parameters (as described in its definition)\n",
    "```python\n",
    "def compute_BMI(weight_kg, height_cm):\n",
    "```\n",
    "  - the parameters are `weight_kg` and `height_cm`\n",
    "\n",
    "```python\n",
    ">>> compute_BMI(80, 180)\n",
    "24.691358024691358\n",
    "```\n"
   ]
  },
  {
   "cell_type": "markdown",
   "metadata": {},
   "source": [
    "### Python Functions - Cont'd\n",
    "\n",
    "- Functions can use other functions.\n",
    "\n",
    "```python\n",
    "    def require_medical_tests(weight_kg, height_cm):\n",
    "        ....\n",
    "        compute_BMI(weight_kg, height_cm)\n",
    "        ....\n",
    "        \n",
    "```\n",
    "\n",
    "\n",
    "- Functions are not required to have parameters or return values.\n",
    "\n",
    "```\n",
    "def chit_chat():\n",
    "    print(\"Oh hi there!\")\n",
    "    print(\"How are you doing today!\")\n",
    "    print(\"Nice weather, isn't!\")\n",
    "```\n",
    "\n",
    "- This function does not take an input parameter and does not return a value"
   ]
  },
  {
   "cell_type": "markdown",
   "metadata": {},
   "source": [
    "### Returning a value versus None\n",
    "\n",
    "- In reality, a function always returns a value\n",
    "- If `return` is not called explicitly, the value `None` is returned\n",
    "\n",
    "```python\n",
    "def chit_chat():\n",
    "    print(\"Oh hi there!\")\n",
    "    print(\"How are you doing today!\")\n",
    "    print(\"Nice weather, isn't!\")\n",
    "\n",
    ">>> x = chit_chat()\n",
    "Oh hi there!\n",
    "How are you doing today!\n",
    "Nice weather, isn't!\n",
    "\n",
    ">>> print(x)\n",
    "None\n",
    "```\n",
    "- Note the values are outputted and printed to the screen, but the x contains the value 'None'.\n"
   ]
  },
  {
   "cell_type": "markdown",
   "metadata": {},
   "source": [
    "### Python Methods and Properties\n",
    "\n",
    "- In Python, everything is an object\n",
    "\n",
    "  - You can think of objects as self-contained entities which have __properties__ and __methods__\n",
    "\n",
    "\n",
    "  - A property is a variable that is attached to an object. \n",
    "    - To get to that property, we need to go through the object.\n",
    "\n",
    "\n",
    "  - A method is a function that is attached to an object\n",
    "    - To get to that method, we need to go through the object\n",
    "    \n",
    "    \n",
    "![](./images/programmer.png) \n",
    "\n"
   ]
  },
  {
   "cell_type": "markdown",
   "metadata": {},
   "source": [
    "### Object's Methods versus Functions\n",
    "\n",
    "- Methods and functions that belong to objects  \n",
    "  - Example `print()` or `chit_chat()` defined above are not part of an object, they are functions*\n",
    "  \n",
    "\n",
    "\n",
    "- You can call a method by first specifying the object name using the following notation:\n",
    "\n",
    "```python\n",
    "object_name.method(<params>)\n",
    "```\n",
    "\n",
    "For instance, \n",
    "\n",
    "```python\n",
    "programmer.write_code(\"Excel\")\n",
    "```\n",
    "\n",
    "\n",
    "* this an unaccurate simplication that facilitates understanding of python vs. external functionality. "
   ]
  },
  {
   "cell_type": "markdown",
   "metadata": {},
   "source": [
    "### Function and Methods\n",
    "![](./images/functions_methods.png)\n"
   ]
  },
  {
   "cell_type": "markdown",
   "metadata": {},
   "source": [
    "### Variables and Properties \n",
    "\n",
    "- The same distinction between functions and methods applies to variables and properties\n",
    "- Properties are bound to an object and need to see the object's variable name to access it \n",
    "  - Similar to variables, properties are not called with parentheses `()` \n",
    "\n",
    "```\n",
    "programmer.name\n",
    "programmer.age\n",
    "```"
   ]
  },
  {
   "cell_type": "markdown",
   "metadata": {},
   "source": [
    "### Examples of functions from the Python Standard Library\n",
    "\n",
    "The functions `len` and `sorted` are built into Python and can be accessed without prefixing by a variable name\n",
    "\n",
    "```python\n",
    ">>> counties  = [\"HAWAII\", \"HONOLULU\", \"KALAWAO\", \"KAUAI\", \"MAUI\"]\n",
    ">>> len(counties)\n",
    "5\n",
    "\n",
    ">>> sorted(counties)\n",
    "['HAWAII', 'HONOLULU', 'KALAWAO', 'KAUAI', 'MAUI']\n",
    "```"
   ]
  },
  {
   "cell_type": "markdown",
   "metadata": {},
   "source": [
    "### Examples of properties on objects we have seens are:\n",
    "\n",
    "- The properties `real`, `imaginary`, \n",
    "\n",
    "```python\n",
    ">>> some_number = 123\n",
    "\n",
    ">>> some_number.real\n",
    "123\n",
    "\n",
    "    \n",
    ">>> some_number.__class__\n",
    "int   \n",
    "\n",
    ">>> counties_to_FIPS = { \"HONOLULU\": 15003, \"HAWAII\": 15001, \n",
    "                         \"MAUI\": 15009, \"KAUAI\": 15007,  \"KALAWAO\": 15005}\n",
    "\n",
    ">>> counties_to_FIPS.__class__\n",
    "dict\n",
    "\n",
    "```\n",
    "  "
   ]
  },
  {
   "cell_type": "markdown",
   "metadata": {},
   "source": [
    "### Examples of methods on objects we have seens are:\n",
    "\n",
    "```python\n",
    ">>> city_name = \"Honolulu\"\n",
    "\n",
    ">>> city_name.upper()\n",
    "'HONOLULU'\n",
    "\n",
    ">>> city_name.count(\"l\")\n",
    "2\n",
    "\n",
    ">>> counties_to_FIPS = {\"HONOLULU\": 15003, \"HAWAII\": 15001, \"MAUI\": 15009, \"KAUAI\": 15007,  \"KALAWAO\": 15005}\n",
    "\n",
    ">>> counties_to_FIPS.keys()\n",
    "dict_keys(['HONOLULU', 'HAWAII', 'MAUI', 'KAUAI', 'KALAWAO'])\n",
    "\n",
    "```"
   ]
  },
  {
   "cell_type": "markdown",
   "metadata": {
    "collapsed": true
   },
   "source": [
    "### Invoking Help for an object in Jupyter\n",
    "\n",
    "- Use the .<TAb> to see an object's list of properties and attributes,  \n",
    "  - type . (dot) and immediately press tab\n",
    "Ex."
   ]
  },
  {
   "cell_type": "markdown",
   "metadata": {},
   "source": [
    "```python\n",
    "t = \"folic acid\"\n",
    "```\n",
    "\n",
    "![](images/tab.png)"
   ]
  },
  {
   "cell_type": "markdown",
   "metadata": {
    "collapsed": true
   },
   "source": [
    "# Some Useful Standard Library Functions \n",
    "|Function| Desctiption|\n",
    "|:--------|:------------|\n",
    "| `sum(list_of_values)`| Returns the sum of a list of values |\n",
    "| `min(list_of_values)`| Returns the minimum value in a list of values |\n",
    "| `max(list_of_values)`| Returns the maximum value in a list of values |\n",
    "| `sorted(list_of_values)`| Takes as input a list of values of returns a sort copy of it |\n"
   ]
  },
  {
   "cell_type": "markdown",
   "metadata": {},
   "source": [
    "### Practical\n",
    "\n",
    "- Copy and paste the code below into a new cell \n",
    "\n",
    "```\n",
    "farewell = [\"G\", \"O\", \"O\", \"D\", \"B\", \"Y\", \"E\"]\n",
    "farewell[0:5]\n",
    "```\n",
    "- What does the code above do?\n",
    "\n",
    "- Write a function called `third` that takes a list and returns its 3rd element.\n",
    "\n",
    "- Copy the code below to a cell and execute it to make sure that your function works \n",
    "  - The result returned should be 10\n",
    "\n",
    "```\n",
    " third([1,3,10,2,11,29,0])\n",
    "```\n",
    "\n",
    "- Create a dictionary for the numbers 1 thru 6 such that the dictionary keys are the strings \"one\", \"two\", \"three\", \"four\", \"five\", \"six\" with values are the corresponding integers respectively.\n",
    "\n",
    "  - Call you dictionary `nums_to_ints`\n",
    "\n",
    "- Write a statement to display the value of the string \"five\".\n",
    "\n",
    "- use the .TAB functionality in jupyter to nums_to_ints which method of `nums_to_ints` can be used to remove the key \"one\" from the `nums_to_ints` dictionary.\n",
    "\n",
    "  - Hint, remove is also referred as popping\n",
    "\n",
    "- Print your dictionary to make sure the value was removed\n"
   ]
  }
 ],
 "metadata": {
  "kernelspec": {
   "display_name": "Python 3",
   "language": "python",
   "name": "python3"
  },
  "language_info": {
   "codemirror_mode": {
    "name": "ipython",
    "version": 3
   },
   "file_extension": ".py",
   "mimetype": "text/x-python",
   "name": "python",
   "nbconvert_exporter": "python",
   "pygments_lexer": "ipython3",
   "version": "3.6.3"
  }
 },
 "nbformat": 4,
 "nbformat_minor": 2
}
