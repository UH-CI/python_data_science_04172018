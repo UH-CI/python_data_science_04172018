{
 "cells": [
  {
   "cell_type": "code",
   "execution_count": 1,
   "metadata": {
    "collapsed": true,
    "slideshow": {
     "slide_type": "skip"
    }
   },
   "outputs": [],
   "source": [
    "from IPython.display import Image"
   ]
  },
  {
   "cell_type": "code",
   "execution_count": 1,
   "metadata": {
    "slideshow": {
     "slide_type": "skip"
    }
   },
   "outputs": [
    {
     "data": {
      "text/html": [
       "<style>\n",
       "    @font-face {\n",
       "        font-family: \"Computer Modern\";\n",
       "        src: url('http://9dbb143991406a7c655e-aa5fcb0a5a4ec34cff238a2d56ca4144.r56.cf5.rackcdn.com/cmunss.otf');\n",
       "    }\n",
       "    @font-face {\n",
       "        font-family: \"Computer Modern\";\n",
       "        font-weight: bold;\n",
       "        src: url('http://9dbb143991406a7c655e-aa5fcb0a5a4ec34cff238a2d56ca4144.r56.cf5.rackcdn.com/cmunsx.otf');\n",
       "    }\n",
       "    @font-face {\n",
       "        font-family: \"Computer Modern\";\n",
       "        font-style: oblique;\n",
       "        src: url('http://9dbb143991406a7c655e-aa5fcb0a5a4ec34cff238a2d56ca4144.r56.cf5.rackcdn.com/cmunsi.otf');\n",
       "    }\n",
       "    @font-face {\n",
       "        font-family: \"Computer Modern\";\n",
       "        font-weight: bold;\n",
       "        font-style: oblique;\n",
       "        src: url('http://9dbb143991406a7c655e-aa5fcb0a5a4ec34cff238a2d56ca4144.r56.cf5.rackcdn.com/cmunso.otf');\n",
       "    }\n",
       "    div.cell{\n",
       "        width:900px;\n",
       "        margin-left:5% !important;\n",
       "        margin-right:auto;\n",
       "    }\n",
       "    h1 {\n",
       "        font-family: Helvetica, serif;\n",
       "    }\n",
       "    h4{\n",
       "        margin-top:12px;\n",
       "        margin-bottom: 3px;\n",
       "       }\n",
       "    div.text_cell_render{\n",
       "        font-family: Computer Modern, \"Helvetica Neue\", Arial, Helvetica, Geneva, sans-serif;\n",
       "        line-height: 145%;\n",
       "        font-size: 130%;\n",
       "        width:800px;\n",
       "        margin-left:auto;\n",
       "        margin-right:auto;\n",
       "    }\n",
       "    .CodeMirror{\n",
       "            font-family: \"Source Code Pro\", source-code-pro,Consolas, monospace;\n",
       "    }\n",
       "    .prompt{\n",
       "        display: None;\n",
       "    }\n",
       "    .text_cell_render h5 {\n",
       "        font-weight: 300;\n",
       "        font-size: 26pt;\n",
       "        color: #4057A1;\n",
       "        font-style: italic;\n",
       "        margin-bottom: .5em;\n",
       "        margin-top: 0.5em;\n",
       "        display: block;\n",
       "    }\n",
       "    \n",
       "    .warning{\n",
       "        color: rgb( 240, 20, 20 )\n",
       "        }  \n",
       "</style>\n",
       "<script>\n",
       "    MathJax.Hub.Config({\n",
       "                        TeX: {\n",
       "                           extensions: [\"AMSmath.js\"]\n",
       "                           },\n",
       "                tex2jax: {\n",
       "                    inlineMath: [ ['$','$'], [\"\\\\(\",\"\\\\)\"] ],\n",
       "                    displayMath: [ ['$$','$$'], [\"\\\\[\",\"\\\\]\"] ]\n",
       "                },\n",
       "                displayAlign: 'center', // Change this to 'center' to center equations.\n",
       "                \"HTML-CSS\": {\n",
       "                    styles: {'.MathJax_Display': {\"margin\": 4}}\n",
       "                }\n",
       "        });\n",
       "</script>\n"
      ],
      "text/plain": [
       "<IPython.core.display.HTML object>"
      ]
     },
     "execution_count": 1,
     "metadata": {},
     "output_type": "execute_result"
    }
   ],
   "source": [
    "from IPython.core.display import HTML\n",
    "\n",
    "def set_css_style(css_file_path):\n",
    "    \"\"\"\n",
    "    Read the custom CSS file and load it into Jupyter.\n",
    "    Pass the file path to the CSS file.\n",
    "    \"\"\"\n",
    "\n",
    "    styles = open(css_file_path, \"r\").read()\n",
    "    return HTML(styles)\n",
    "\n",
    "set_css_style('styles/custom.css')"
   ]
  },
  {
   "cell_type": "markdown",
   "metadata": {
    "slideshow": {
     "slide_type": "slide"
    }
   },
   "source": [
    "# Preliminaries\n",
    "- Why Python?\n",
    " \n",
    "- Python covered \n",
    " \n",
    "- Functionality Covered \n",
    " \n",
    "- Introduction to Jupyter\n"
   ]
  },
  {
   "cell_type": "markdown",
   "metadata": {
    "slideshow": {
     "slide_type": "slide"
    }
   },
   "source": [
    "### Why Python - 1\n",
    "\n",
    "- Python is a general-purpose programming language and a popular alternative for data analysis\n",
    "  - Can be used to analyze data or to write, a business application (Dropbox) or a full-fledged web application (Instagram).\n",
    "    \n",
    "    \n",
    "- A _de facto_ favorite for working with complex data, where the majority of the time is spent preparing the data for analysis.\n",
    "\n",
    "\n",
    " - Has access to a vibrant ecosystem of statistical tools and libraries (NTS fraction of the data analysis time).\n",
    " \n",
    " \n",
    "- An easy-to-learn language that provides a high-level of abstraction without sacrificing functionality and robustness.\n"
   ]
  },
  {
   "cell_type": "markdown",
   "metadata": {
    "slideshow": {
     "slide_type": "slide"
    }
   },
   "source": [
    "### Why Python - 2\n",
    "\n",
    "- Batteries included \n",
    "\n",
    "|Domain | Python Library |\n",
    "|:-------|:----------------:| \n",
    "| Astronomy | `Astroppy` |\n",
    "| Molecular biology |  `BioPython` | \n",
    "| Neuroscience  | `PsychoPy` |\n",
    "| Seismology | `ObsPy` | \n",
    "| Quantitative finance |  `Zipline` | \n",
    "| Statistics | `Statsmodels` |\n",
    "| Language and topic <br/>modeling | `Gensim` | \n",
    "|_etc_. | ... |\n",
    "  \n",
    "  \n",
    "- A really thriving community with a rich ecosystem of contributions"
   ]
  },
  {
   "cell_type": "markdown",
   "metadata": {
    "slideshow": {
     "slide_type": "slide"
    }
   },
   "source": [
    "### Necessary \"Data Analysis\" Functionality in a Programming Language?\n",
    "\n",
    "- Retrieve and Write data`.`\n",
    " - Understand the different and standard file formats such as Excel, `tsv`, `csv`, `R`, _etc_`.`\n",
    " \n",
    " \n",
    "- Built-in data types and collections to store data during computation`.`\n",
    "  - Example table or Matrices`.`\n",
    "  - Efficient handling of those structures to extract a subset, merge or concatenate datasets, _etc_`.`\n",
    "  \n",
    "  \n",
    "- Conditionals and iteration`.`\n",
    "  - Repeat logic on subset or all entries in a data set`.`\n",
    "  \n",
    "  \n",
    "- Mathematical functionality`.`\n",
    "  - Compute means, averages, rolling windows, _etc_.`.`\n",
    " "
   ]
  },
  {
   "cell_type": "markdown",
   "metadata": {
    "slideshow": {
     "slide_type": "slide"
    }
   },
   "source": [
    "### General Functionality in a Programming Language?\n",
    "\n",
    "- Features that facilitate network communication`.` \n",
    "\n",
    "- Ability to write user interface`.` \n",
    "\n",
    "- Software engineering concepts such as class, inheritance, _etc_`.`\n",
    "\n",
    "- Functionality for parallel processing`.`\n",
    "\n",
    "- Those general concepts, although useful, are not necessary`.`"
   ]
  },
  {
   "cell_type": "markdown",
   "metadata": {
    "slideshow": {
     "slide_type": "slide"
    }
   },
   "source": [
    "### Python Covered in This Workshop\n",
    "\n",
    "- Python as a tool for Data Analysis`.`\n",
    "  - We will not cover the functionality required to develop a full-fledged program but rather on the functionality used working with data`.`\n",
    "\n",
    "\n",
    "\n",
    "- We will use principally pandas and will explore `matplotlib` and `seaborn` for visualizing data\n",
    " - Think of pandas as Excel on steroids`.`\n"
   ]
  },
  {
   "cell_type": "markdown",
   "metadata": {
    "slideshow": {
     "slide_type": "slide"
    }
   },
   "source": [
    "### Python Covered in This Workshop - Cont'd \n",
    "\n",
    "- Preliminaries`.`\n",
    "- Introduction to Python`.`\n",
    "- Introduction to Pandas`.`\n",
    "- Exploring Data in pandas`.`\n",
    "- Common DataFrame operation and missing Data`.`\n",
    "- DataFrame Groups`.`\n",
    "- Combining and stacking Data in Pandas`.`\n",
    "- Plotting and viz - 1`.`\n",
    "- Plotting and viz - 2`.`\n",
    " "
   ]
  },
  {
   "cell_type": "markdown",
   "metadata": {
    "slideshow": {
     "slide_type": "slide"
    }
   },
   "source": [
    "### About the Workshop\n",
    "\n",
    "- Interactive`.`\n",
    "\n",
    "\n",
    "- Short module (~30-45 minutes)`.`\n",
    "\n",
    "\n",
    "- Presentation slides based on the ipython notebook)`.`\n",
    "  - Jupyter notebook contain much information for future reference`.`\n",
    "\n",
    "\n",
    "- Practical Sessions at the end of each module (~20-25 minutes)`.`\n",
    "\n",
    "\n",
    "- Last half-day reserved for`:`\n",
    "  1. Catching up on previous practical`.`\n",
    "  2. Working on a full dataset provided by the instructors`.`\n",
    "  3. Working on your own dataset.\n",
    "    - Let us know today`!`\n",
    "    "
   ]
  },
  {
   "cell_type": "markdown",
   "metadata": {
    "slideshow": {
     "slide_type": "slide"
    }
   },
   "source": [
    "### Python versions\n",
    "\n",
    "- There are two currently used versions of Python (Python 2  and Python 3)`.`\n",
    "\n",
    "\n",
    "- Python code in one version is not guaranteed to work for the other version as some new functionality in v.3 is not available in v.2, and some constructs in v.2 are no longer accepted syntax in 3`.`\n",
    "    - Minor changes to convert Python 2 to 3`.`\n",
    "\n",
    "\n",
    "- Python 2 (more recent version is 2.7) will not be supported past 2020`.`\n",
    "\n",
    "\n",
    "- We will be using Python 3 in this workshop`.`"
   ]
  },
  {
   "cell_type": "markdown",
   "metadata": {
    "slideshow": {
     "slide_type": "slide"
    }
   },
   "source": [
    "### Running (interpreting) Python Code\n",
    "\n",
    "- Series of Python statements (commands) are bundled into a script (program) that, by convention, has the \".py\" extension`.`\n",
    "   - For example, you could bundle your analysis int a program called `compute_co-prescribed_drugs.py``.`\n",
    "\n",
    "\n",
    "- Python is an interpreted language`.`\n",
    "  - Statements are executed successively`.`\n",
    "\n",
    "\n",
    "\n",
    "- A Python program is run by executing it using the python interpreter\n",
    "\n",
    "```bash\n",
    "    python plot_distribution.py\n",
    "```"
   ]
  },
  {
   "cell_type": "markdown",
   "metadata": {
    "slideshow": {
     "slide_type": "slide"
    }
   },
   "source": [
    "### Working in an Read–Eval–Print Loop Environment \n",
    "\n",
    "- In scientific (or engineering) computing, it’s common to use the Python Shell in a process referred to a Read–Eval–Print Loop (__REPL__)`.`\n",
    "\n",
    "\n",
    "\n",
    "- In short, you type, a command, the command is evaluated, the result of the command is printed and you repeat the process (__l__oop) until you complete your task`.`\n",
    "\n",
    "\n",
    "\n",
    "- The   $~~>>>$ symbols are used to prefix the code that we type into the interpreter\n",
    "  - The commands we type are called __statements__`.`\n",
    "  - So the statements that follow the $~~>>>$ are what is executed\n",
    " \n",
    " \n",
    "- Outputs are printed withou any prefix`.`\n",
    "\n",
    "\n"
   ]
  },
  {
   "cell_type": "markdown",
   "metadata": {
    "slideshow": {
     "slide_type": "slide"
    }
   },
   "source": [
    "### The interpreter \n",
    "When not already running a command, the Python Interpreter is ready receive new command.\n",
    "\n",
    "```python\n",
    ">>>\n",
    "```"
   ]
  },
  {
   "cell_type": "markdown",
   "metadata": {
    "slideshow": {
     "slide_type": "slide"
    }
   },
   "source": [
    "### A First Command\n",
    "\n",
    "```python\n",
    ">>> 2+4\n",
    "6\n",
    "\n",
    ">>>\n",
    "```"
   ]
  },
  {
   "cell_type": "markdown",
   "metadata": {
    "slideshow": {
     "slide_type": "slide"
    }
   },
   "source": [
    "### More Commands\n",
    "\n",
    "```python\n",
    ">>> 2+4\n",
    "6\n",
    "\n",
    ">>> 39/4 \n",
    "9.75\n",
    "\n",
    "```\n",
    "\n",
    "- _etc_."
   ]
  },
  {
   "cell_type": "markdown",
   "metadata": {
    "slideshow": {
     "slide_type": "slide"
    }
   },
   "source": [
    "### What are Jupyter Notebooks\n",
    "\n",
    "- A web-based environment that is used for programming and documenting code`.`\n",
    "  - Includes pretty-printed code and output, formatted text, interactive elements, _etc., in a single document`.`\n",
    "    - Similar to `Matlab`, `Mathematica` and `SAGE` and other notebooks\n",
    "\n",
    "\n",
    "\n",
    "- In addition to Python, Python notebooks support other languages such as R, Scala, _etc_."
   ]
  },
  {
   "cell_type": "markdown",
   "metadata": {
    "slideshow": {
     "slide_type": "slide"
    }
   },
   "source": [
    "### Jupyter Notebook Screenshot\n",
    "![](images/example_chunk_jupyyter.png)"
   ]
  },
  {
   "cell_type": "markdown",
   "metadata": {
    "slideshow": {
     "slide_type": "slide"
    }
   },
   "source": [
    "### Why Use Jupyter Notebooks?\n",
    "\n",
    "- Create readable analyses of interactive code, which is notoriously difficult to document`.`\n",
    "\n",
    "\n",
    "\n",
    "- Facilitate collaboration as notebooks can be shared in a variety of formats with people with different levels of expertise`.` \n",
    "  - Converted into `pdf` documents, slides, shareable `HTML` pages _etc_.\n",
    "    - These slides are automatically generated from the workshop's Python Notebook`.`\n",
    "\n",
    "\n",
    "- Code and idea can be well illustrated with text and, if needed, rich media`.`\n",
    "\n",
    "\n",
    "- Ideal for teaching and explaining complex ideas`.`\n",
    "  - Breaking down concepts into small, well-documented chunks of code`.`"
   ]
  },
  {
   "cell_type": "markdown",
   "metadata": {
    "slideshow": {
     "slide_type": "slide"
    }
   },
   "source": [
    "### Jupyter Notebooks\n",
    "![](./images/Jupyter_Nature.png)"
   ]
  },
  {
   "cell_type": "markdown",
   "metadata": {
    "slideshow": {
     "slide_type": "slide"
    }
   },
   "source": [
    "### Running Jupyter notebook\n",
    "\n",
    "- After installing either Anaconda or Miniconda as described on the workshop page, launch a Jupyter notebook by typing this command from the terminal`:`\n",
    "\n",
    "```bash\n",
    "jupyter notebook\n",
    "```\n",
    "\n",
    "- The notebook should open automatically in your browser`.`\n",
    "\n",
    "  - If it does not or if you wish to use a different browser, open a page and browse to the URL`:`\n",
    "  \n",
    "              http://localhost:8888\n",
    "  "
   ]
  },
  {
   "cell_type": "markdown",
   "metadata": {
    "slideshow": {
     "slide_type": "slide"
    }
   },
   "source": [
    "### Jupyter Notebooks Tree (Dashboard)\n",
    "![](./images/jupyter_tree.png)"
   ]
  },
  {
   "cell_type": "markdown",
   "metadata": {
    "slideshow": {
     "slide_type": "slide"
    }
   },
   "source": [
    "### Jupyter Notebook Behind the Scenes\n",
    "\n",
    "- After typing the command Jupyter notebook, the following happens:\n",
    "\n",
    "\n",
    "  - A Jupyter Notebook server is automatically created on your local machine`.`\n",
    "    - The Jupyter Notebook server runs on your machine only and does not use an internet connection`.`\n",
    "\n",
    "  -  The Jupyter Notebook server opens the Jupyter notebook client, also known as the notebook user interface, in your default web browser`.`\n",
    "\n",
    "\n",
    "- To create a new Python notebook select the “New” drop-down on the upper right of the screen`.`"
   ]
  },
  {
   "cell_type": "markdown",
   "metadata": {
    "slideshow": {
     "slide_type": "slide"
    }
   },
   "source": [
    "### Create a new notebook \n",
    "\n",
    "- The dashboard show file and folder at the path from which it was started`.`\n",
    "\n",
    "- To create a new Python notebook select the “New” dropdown on the upper right of the screen`.`\n",
    "\n",
    "![Jupyter Images](images/jupyter_new_notebook.png \"Title\")\n"
   ]
  },
  {
   "cell_type": "markdown",
   "metadata": {
    "slideshow": {
     "slide_type": "slide"
    }
   },
   "source": [
    "### Components of a notebook\n",
    "\n",
    "- A notebook is comprised of one or more cells`.`\n",
    "  - Each cell can contain Python statements (Code) or text (Markdown)`.`\n",
    "    - Markdown is a syntax that facilitates formatting text`.`\n",
    "\n",
    "    ![](images/jupyter_cell.png)\n"
   ]
  },
  {
   "cell_type": "markdown",
   "metadata": {
    "slideshow": {
     "slide_type": "slide"
    }
   },
   "source": [
    "### Components of a notebook\n",
    "\n",
    "- A notebook is comprised of one or more cells`.`\n",
    "\n",
    "  - Each cell can contain Python statements (__Code__) or text (__Markdown__)`.`\n",
    "\n",
    "    - Markdown is a syntax that facilitates formatting text`.`\n",
    "    - See [here](https://github.com/adam-p/markdown-here/wiki/Markdown-Cheatsheet) for a quick overview of the syntax`.` \n",
    "\n",
    "    ![](images/jupyter_cell.png)\n"
   ]
  },
  {
   "cell_type": "markdown",
   "metadata": {
    "slideshow": {
     "slide_type": "slide"
    }
   },
   "source": [
    "### Executing  a cell\n",
    "\n",
    "- You can run a cell (render markdown or execute code) by pressing `SHIFT+ENTER`\n",
    "\n",
    "![Jupyter Images](images/jupyter_example.png)\n"
   ]
  },
  {
   "cell_type": "markdown",
   "metadata": {
    "slideshow": {
     "slide_type": "slide"
    }
   },
   "source": [
    "### Jupyter Notebook File\n",
    "\n",
    "- You can click/edit the temporary tile (`Untitled`) to change the file name`.`\n",
    "- The notebook files have the `ipynb` extension`.`\n",
    "- The files are stored in a format called `JSON.`\n",
    "  - They are not meant to be human readable/editable. Therefore you will need to open them on Jupyter to edit or run them`.`\n"
   ]
  },
  {
   "cell_type": "markdown",
   "metadata": {},
   "source": [
    "### Practical 1: Getting Familiar with the Jupyter notebook.\n",
    "\n",
    "`1.` Create a `Python 3` notebook.\n",
    "\n",
    "  - Open a Terminal and type the following command:\n",
    "\n",
    "```bash\n",
    "     jupyter notebook\n",
    " ```\n",
    "  - Create a new Python 3 file. By default, the file is created in the folder from which the notebook was started.\n",
    "\n",
    "  - Name the file `Test_notebook` \n",
    "\n",
    "`2.` Change the type of the first cell to Markdown, paste the code below into it and render it by pressing __`SHIFT+ENTER`__\n",
    "\n",
    "```\n",
    "### Analysis of Experimental Data From Kaneohe Bay\n",
    "\n",
    "This notebook plots the distribution of temperatures in `Celcius` measured at Kaneohe Bay (decimal degrees: 21.4293766,-157.7912551), during 132 consecutive days.\n",
    "\n",
    "\n",
    "![Jupyter Images](images/map.png)\n",
    "\n",
    "\n",
    "The data was collected by John Doe on 01/01/2017.\n",
    "This notebook was created by Jane Doe on 04/01/2017.\n",
    "\n",
    "```\n",
    "\n",
    "`3.` Create a Code cell and paste the following code into it and execute by pressing __`SHIFT+ENTER`__\n",
    "\n",
    "```python\n",
    "import matplotlib.pyplot as plt\n",
    "import pandas as pd\n",
    "%matplotlib inline\n",
    "\n",
    "fig, axs = plt.subplots(1,2, figsize=(15, 5))\n",
    "temperatures = pd.read_csv(\"https://www.dropbox.com/s/920mlvt77nh3z23/experiment_john_doe.csv?dl=1\")\n",
    "temperatures.plot(ax=axs[0])\n",
    "temperatures.plot(kind='kde', ax=axs[1])\n",
    "```\n",
    "\n",
    "`4.` Close your notebook browser page and stop the server that you started in the `terminal window by typing __CTRL+C__`.\n",
    "\n",
    "`5.` Navigate to the folder where you created the `ipython` notebook file. Open the file using the following command:\n",
    "\n",
    "```bash \n",
    "jupyter notebook first_test.ipynb\n",
    "```\n",
    "\n",
    "`6.` It is customary to have the imports and configuration statement -- those are the three first lines in the Code cell above -- in a separate cell. In what follows, you will move the imports and configuration statements to a new `Code` cell, which you will place at the top of the notebook.\n",
    "\n",
    "\n",
    "- Create a new Code cell and move onto it the lines starting with `import` and `%matplotlib` from the old Code cell.\n",
    "\n",
    "- Click on the new cell and use the up arrow (button's menu) to move the newly created cell to the top of your notebook.\n",
    "\n",
    "- Re-run all the cells to make sure everything works.\n",
    "- Note that you can run each cell independently using __`SHIFT+ENTER`__ or by choosing `Cell-> Run All` from the top menu.\n",
    "\n",
    "\n",
    "7. The final notebook should look as in the image below.\n",
    "\n",
    "![](images/practical_1_output.png)"
   ]
  }
 ],
 "metadata": {
  "celltoolbar": "Slideshow",
  "kernelspec": {
   "display_name": "Python 3",
   "language": "python",
   "name": "python3"
  },
  "language_info": {
   "codemirror_mode": {
    "name": "ipython",
    "version": 3
   },
   "file_extension": ".py",
   "mimetype": "text/x-python",
   "name": "python",
   "nbconvert_exporter": "python",
   "pygments_lexer": "ipython3",
   "version": "3.6.3"
  }
 },
 "nbformat": 4,
 "nbformat_minor": 2
}
