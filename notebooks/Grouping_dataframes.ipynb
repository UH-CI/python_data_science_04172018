{
 "cells": [
  {
   "cell_type": "code",
   "execution_count": 4,
   "metadata": {
    "slideshow": {
     "slide_type": "skip"
    }
   },
   "outputs": [
    {
     "data": {
      "text/html": [
       "<style>\n",
       "    @font-face {\n",
       "        font-family: \"Computer Modern\";\n",
       "        src: url('http://9dbb143991406a7c655e-aa5fcb0a5a4ec34cff238a2d56ca4144.r56.cf5.rackcdn.com/cmunss.otf');\n",
       "    }\n",
       "    @font-face {\n",
       "        font-family: \"Computer Modern\";\n",
       "        font-weight: bold;\n",
       "        src: url('http://9dbb143991406a7c655e-aa5fcb0a5a4ec34cff238a2d56ca4144.r56.cf5.rackcdn.com/cmunsx.otf');\n",
       "    }\n",
       "    @font-face {\n",
       "        font-family: \"Computer Modern\";\n",
       "        font-style: oblique;\n",
       "        src: url('http://9dbb143991406a7c655e-aa5fcb0a5a4ec34cff238a2d56ca4144.r56.cf5.rackcdn.com/cmunsi.otf');\n",
       "    }\n",
       "    @font-face {\n",
       "        font-family: \"Computer Modern\";\n",
       "        font-weight: bold;\n",
       "        font-style: oblique;\n",
       "        src: url('http://9dbb143991406a7c655e-aa5fcb0a5a4ec34cff238a2d56ca4144.r56.cf5.rackcdn.com/cmunso.otf');\n",
       "    }\n",
       "    div.cell{\n",
       "        width:900px;\n",
       "        margin-left:5% !important;\n",
       "        margin-right:auto;\n",
       "    }\n",
       "    h1 {\n",
       "        font-family: Helvetica, serif;\n",
       "    }\n",
       "    h4{\n",
       "        margin-top:12px;\n",
       "        margin-bottom: 3px;\n",
       "       }\n",
       "    div.text_cell_render{\n",
       "        font-family: Computer Modern, \"Helvetica Neue\", Arial, Helvetica, Geneva, sans-serif;\n",
       "        line-height: 145%;\n",
       "        font-size: 130%;\n",
       "        width:800px;\n",
       "        margin-left:auto;\n",
       "        margin-right:auto;\n",
       "    }\n",
       "    .CodeMirror{\n",
       "            font-family: \"Source Code Pro\", source-code-pro,Consolas, monospace;\n",
       "    }\n",
       "    .prompt{\n",
       "        display: None;\n",
       "    }\n",
       "    .text_cell_render h5 {\n",
       "        font-weight: 300;\n",
       "        font-size: 26pt;\n",
       "        color: #4057A1;\n",
       "        font-style: italic;\n",
       "        margin-bottom: .5em;\n",
       "        margin-top: 0.5em;\n",
       "        display: block;\n",
       "    }\n",
       "    \n",
       "    .warning{\n",
       "        color: rgb( 240, 20, 20 )\n",
       "        }  \n",
       "</style>\n",
       "<script>\n",
       "    MathJax.Hub.Config({\n",
       "                        TeX: {\n",
       "                           extensions: [\"AMSmath.js\"]\n",
       "                           },\n",
       "                tex2jax: {\n",
       "                    inlineMath: [ ['$','$'], [\"\\\\(\",\"\\\\)\"] ],\n",
       "                    displayMath: [ ['$$','$$'], [\"\\\\[\",\"\\\\]\"] ]\n",
       "                },\n",
       "                displayAlign: 'center', // Change this to 'center' to center equations.\n",
       "                \"HTML-CSS\": {\n",
       "                    styles: {'.MathJax_Display': {\"margin\": 4}}\n",
       "                }\n",
       "        });\n",
       "</script>\n"
      ],
      "text/plain": [
       "<IPython.core.display.HTML object>"
      ]
     },
     "execution_count": 4,
     "metadata": {},
     "output_type": "execute_result"
    }
   ],
   "source": [
    "from IPython.core.display import HTML\n",
    "import pandas as pd \n",
    "\n",
    "pd.set_option('display.float_format', lambda x: '%.3f' % x)\n",
    "\n",
    "def set_css_style(css_file_path):\n",
    "    \"\"\"\n",
    "    Read the custom CSS file and load it into Jupyter.\n",
    "    Pass the file path to the CSS file.\n",
    "    \"\"\"\n",
    "    styles = open(css_file_path, \"r\").read()\n",
    "    return HTML(styles)\n",
    "\n",
    "set_css_style('styles/custom.css')\n"
   ]
  },
  {
   "cell_type": "markdown",
   "metadata": {
    "slideshow": {
     "slide_type": "slide"
    }
   },
   "source": [
    "### About the Data\n",
    "- We will be working with the data in the `spending_10k.csv` TSV file.\n",
    "- The file contains a larger dataset (`10,000` entries) of the `spending.tsv` data explored in earlier modules.\n",
    "- The data has the same column names\n"
   ]
  },
  {
   "cell_type": "code",
   "execution_count": 5,
   "metadata": {
    "slideshow": {
     "slide_type": "slide"
    }
   },
   "outputs": [
    {
     "data": {
      "text/html": [
       "<div>\n",
       "<style>\n",
       "    .dataframe thead tr:only-child th {\n",
       "        text-align: right;\n",
       "    }\n",
       "\n",
       "    .dataframe thead th {\n",
       "        text-align: left;\n",
       "    }\n",
       "\n",
       "    .dataframe tbody tr th {\n",
       "        vertical-align: top;\n",
       "    }\n",
       "</style>\n",
       "<table border=\"1\" class=\"dataframe\">\n",
       "  <thead>\n",
       "    <tr style=\"text-align: right;\">\n",
       "      <th></th>\n",
       "      <th>doctor_id</th>\n",
       "      <th>specialty</th>\n",
       "      <th>medication</th>\n",
       "      <th>nb_beneficiaries</th>\n",
       "      <th>spending</th>\n",
       "    </tr>\n",
       "    <tr>\n",
       "      <th>unique_id</th>\n",
       "      <th></th>\n",
       "      <th></th>\n",
       "      <th></th>\n",
       "      <th></th>\n",
       "      <th></th>\n",
       "    </tr>\n",
       "  </thead>\n",
       "  <tbody>\n",
       "    <tr>\n",
       "      <th>NX531425</th>\n",
       "      <td>1255626040</td>\n",
       "      <td>FAMILY PRACTICE</td>\n",
       "      <td>METFORMIN HCL</td>\n",
       "      <td>30</td>\n",
       "      <td>135.240</td>\n",
       "    </tr>\n",
       "    <tr>\n",
       "      <th>QG879256</th>\n",
       "      <td>1699761833</td>\n",
       "      <td>FAMILY PRACTICE</td>\n",
       "      <td>ALLOPURINOL</td>\n",
       "      <td>30</td>\n",
       "      <td>715.760</td>\n",
       "    </tr>\n",
       "    <tr>\n",
       "      <th>FW363228</th>\n",
       "      <td>1538148804</td>\n",
       "      <td>INTERNAL MEDICINE</td>\n",
       "      <td>LOSARTAN POTASSIUM</td>\n",
       "      <td>146</td>\n",
       "      <td>1056.470</td>\n",
       "    </tr>\n",
       "    <tr>\n",
       "      <th>WD733417</th>\n",
       "      <td>1730200619</td>\n",
       "      <td>PSYCHIATRY</td>\n",
       "      <td>OLANZAPINE</td>\n",
       "      <td>13</td>\n",
       "      <td>28226.970</td>\n",
       "    </tr>\n",
       "    <tr>\n",
       "      <th>XW149832</th>\n",
       "      <td>1023116894</td>\n",
       "      <td>FAMILY PRACTICE</td>\n",
       "      <td>PRAVASTATIN SODIUM</td>\n",
       "      <td>348</td>\n",
       "      <td>8199.480</td>\n",
       "    </tr>\n",
       "    <tr>\n",
       "      <th>QT485324</th>\n",
       "      <td>1952359671</td>\n",
       "      <td>FAMILY PRACTICE</td>\n",
       "      <td>HYDROCHLOROTHIAZIDE</td>\n",
       "      <td>57</td>\n",
       "      <td>247.010</td>\n",
       "    </tr>\n",
       "    <tr>\n",
       "      <th>NA293426</th>\n",
       "      <td>1841235223</td>\n",
       "      <td>FAMILY PRACTICE</td>\n",
       "      <td>SEVELAMER CARBONATE</td>\n",
       "      <td>11</td>\n",
       "      <td>4869.320</td>\n",
       "    </tr>\n",
       "    <tr>\n",
       "      <th>IF945618</th>\n",
       "      <td>1326095662</td>\n",
       "      <td>INTERNAL MEDICINE</td>\n",
       "      <td>FLUTICASONE/SALMETEROL</td>\n",
       "      <td>20</td>\n",
       "      <td>7832.460</td>\n",
       "    </tr>\n",
       "    <tr>\n",
       "      <th>PH384257</th>\n",
       "      <td>1821126830</td>\n",
       "      <td>HEMATOLOGY/ONCOLOGY</td>\n",
       "      <td>ZOLPIDEM TARTRATE</td>\n",
       "      <td>14</td>\n",
       "      <td>65.210</td>\n",
       "    </tr>\n",
       "    <tr>\n",
       "      <th>JY407340</th>\n",
       "      <td>1710986088</td>\n",
       "      <td>INTERNAL MEDICINE</td>\n",
       "      <td>MECLIZINE HCL</td>\n",
       "      <td>47</td>\n",
       "      <td>861.670</td>\n",
       "    </tr>\n",
       "  </tbody>\n",
       "</table>\n",
       "</div>"
      ],
      "text/plain": [
       "            doctor_id            specialty              medication  \\\n",
       "unique_id                                                            \n",
       "NX531425   1255626040      FAMILY PRACTICE           METFORMIN HCL   \n",
       "QG879256   1699761833      FAMILY PRACTICE             ALLOPURINOL   \n",
       "FW363228   1538148804    INTERNAL MEDICINE      LOSARTAN POTASSIUM   \n",
       "WD733417   1730200619           PSYCHIATRY              OLANZAPINE   \n",
       "XW149832   1023116894      FAMILY PRACTICE      PRAVASTATIN SODIUM   \n",
       "QT485324   1952359671      FAMILY PRACTICE     HYDROCHLOROTHIAZIDE   \n",
       "NA293426   1841235223      FAMILY PRACTICE     SEVELAMER CARBONATE   \n",
       "IF945618   1326095662    INTERNAL MEDICINE  FLUTICASONE/SALMETEROL   \n",
       "PH384257   1821126830  HEMATOLOGY/ONCOLOGY       ZOLPIDEM TARTRATE   \n",
       "JY407340   1710986088    INTERNAL MEDICINE           MECLIZINE HCL   \n",
       "\n",
       "           nb_beneficiaries  spending  \n",
       "unique_id                              \n",
       "NX531425                 30   135.240  \n",
       "QG879256                 30   715.760  \n",
       "FW363228                146  1056.470  \n",
       "WD733417                 13 28226.970  \n",
       "XW149832                348  8199.480  \n",
       "QT485324                 57   247.010  \n",
       "NA293426                 11  4869.320  \n",
       "IF945618                 20  7832.460  \n",
       "PH384257                 14    65.210  \n",
       "JY407340                 47   861.670  "
      ]
     },
     "execution_count": 5,
     "metadata": {},
     "output_type": "execute_result"
    }
   ],
   "source": [
    "spending_df = pd.read_table('data/spending_10k.tsv', index_col=\"unique_id\", dtype={\"doctor_id\":\"object\"})\n",
    "spending_df.head(10)"
   ]
  },
  {
   "cell_type": "markdown",
   "metadata": {
    "slideshow": {
     "slide_type": "slide"
    }
   },
   "source": [
    "### Overview\n",
    "\n",
    "\n",
    "- In this section, we will tackle the handy `groupby` method.\n",
    "\n",
    "\n",
    "- We also cover the split-apply-combine scheme to:\n",
    "  - Aggregate data in each group\n",
    "  - Transform data in each group\n",
    "  - Filter the data in each group\n",
    "  - Thin the data in each group\n"
   ]
  },
  {
   "cell_type": "markdown",
   "metadata": {
    "slideshow": {
     "slide_type": "slide"
    }
   },
   "source": [
    "### `group_by` and DataFrame groups\n",
    "\n",
    "- The `groupby()` method is used to group the data using values on one or more columns.\n",
    "\n",
    "- `groupby` takes as input one or more column labels, which it uses to group the data.\n",
    "\n",
    "```python\n",
    "df_1.groupby(\"X\")\n",
    "```\n",
    "\n",
    "\n",
    "![](images/groupby.png)\n",
    "\n"
   ]
  },
  {
   "cell_type": "markdown",
   "metadata": {
    "slideshow": {
     "slide_type": "slide"
    }
   },
   "source": [
    "### Identifying Groups from a GroupBy Object\n",
    "\n",
    "\n",
    "```python\n",
    "spending_df.groupby('specialty')\n",
    "```\n",
    "\n",
    "![](images/group_by_specialty.png)\n",
    "\n",
    "- The `groupby` method returns an object of type `DataFrameGroupBy.`\n",
    "  - This is not a `DataFrame`, and does not, therefore, have the `DataFrame` methods discussed in previous modules. \n",
    "\n",
    "\n"
   ]
  },
  {
   "cell_type": "markdown",
   "metadata": {
    "slideshow": {
     "slide_type": "slide"
    }
   },
   "source": [
    "### Extracting Groups From `DataFrameGroupBy` Object\n",
    "\n",
    "- The `DataFrameGroupBy` object has a handy method called `get_group`, which returns all the entries of a specified group\n",
    "  - The entries of a group are the lines which match on the key used in the `groupby` operation.\n",
    "\n",
    "\n",
    "- The example below returns all the entries of the  `\"ADDICTION MEDICINE\"` group.\n",
    "  - Those are the lines for which the `specialty` is `\"ADDICTION MEDICINE\"`"
   ]
  },
  {
   "cell_type": "code",
   "execution_count": 6,
   "metadata": {
    "slideshow": {
     "slide_type": "slide"
    }
   },
   "outputs": [
    {
     "data": {
      "text/html": [
       "<div>\n",
       "<style>\n",
       "    .dataframe thead tr:only-child th {\n",
       "        text-align: right;\n",
       "    }\n",
       "\n",
       "    .dataframe thead th {\n",
       "        text-align: left;\n",
       "    }\n",
       "\n",
       "    .dataframe tbody tr th {\n",
       "        vertical-align: top;\n",
       "    }\n",
       "</style>\n",
       "<table border=\"1\" class=\"dataframe\">\n",
       "  <thead>\n",
       "    <tr style=\"text-align: right;\">\n",
       "      <th></th>\n",
       "      <th>doctor_id</th>\n",
       "      <th>specialty</th>\n",
       "      <th>medication</th>\n",
       "      <th>nb_beneficiaries</th>\n",
       "      <th>spending</th>\n",
       "    </tr>\n",
       "    <tr>\n",
       "      <th>unique_id</th>\n",
       "      <th></th>\n",
       "      <th></th>\n",
       "      <th></th>\n",
       "      <th></th>\n",
       "      <th></th>\n",
       "    </tr>\n",
       "  </thead>\n",
       "  <tbody>\n",
       "    <tr>\n",
       "      <th>VG585760</th>\n",
       "      <td>1801032297</td>\n",
       "      <td>ADDICTION MEDICINE</td>\n",
       "      <td>LAMOTRIGINE</td>\n",
       "      <td>11</td>\n",
       "      <td>82.620</td>\n",
       "    </tr>\n",
       "    <tr>\n",
       "      <th>GJ278932</th>\n",
       "      <td>1134139991</td>\n",
       "      <td>ADDICTION MEDICINE</td>\n",
       "      <td>BUSPIRONE HCL</td>\n",
       "      <td>49</td>\n",
       "      <td>817.880</td>\n",
       "    </tr>\n",
       "    <tr>\n",
       "      <th>TX420809</th>\n",
       "      <td>1801032297</td>\n",
       "      <td>ADDICTION MEDICINE</td>\n",
       "      <td>LORAZEPAM</td>\n",
       "      <td>14</td>\n",
       "      <td>19.560</td>\n",
       "    </tr>\n",
       "  </tbody>\n",
       "</table>\n",
       "</div>"
      ],
      "text/plain": [
       "            doctor_id           specialty     medication  nb_beneficiaries  \\\n",
       "unique_id                                                                    \n",
       "VG585760   1801032297  ADDICTION MEDICINE    LAMOTRIGINE                11   \n",
       "GJ278932   1134139991  ADDICTION MEDICINE  BUSPIRONE HCL                49   \n",
       "TX420809   1801032297  ADDICTION MEDICINE      LORAZEPAM                14   \n",
       "\n",
       "           spending  \n",
       "unique_id            \n",
       "VG585760     82.620  \n",
       "GJ278932    817.880  \n",
       "TX420809     19.560  "
      ]
     },
     "execution_count": 6,
     "metadata": {},
     "output_type": "execute_result"
    }
   ],
   "source": [
    "spending_by_specialty = spending_df.groupby('specialty')\n",
    "\n",
    "spending_by_specialty.get_group(\"ADDICTION MEDICINE\")"
   ]
  },
  {
   "cell_type": "markdown",
   "metadata": {
    "slideshow": {
     "slide_type": "slide"
    }
   },
   "source": [
    "### `groupby` and Group-Specific Processing\n",
    "\n",
    "\n",
    "- Getting groups can be easily implemented using indexing by writing, for instance:\n",
    "\n",
    "```python\n",
    "spending_df[spending_df[\"specialty\"] == \"ADDICTION MEDICINE\"]\n",
    "```\n",
    "\n",
    "- An ideal use-case for `groupby` consists of applying operations to each group independently.\n",
    "\n",
    "- For instance, to compute the total spending by `specialty`, we need to:\n",
    "  - Split the data by `specialty`\n",
    "  - Sum the total `spending` for each group\n",
    "  - Combine the sums for each group into a new `DataFrame`\n",
    "\n"
   ]
  },
  {
   "cell_type": "markdown",
   "metadata": {
    "slideshow": {
     "slide_type": "slide"
    }
   },
   "source": [
    "\n",
    "![](images/example_group_by_2.png)"
   ]
  },
  {
   "cell_type": "markdown",
   "metadata": {
    "slideshow": {
     "slide_type": "slide"
    }
   },
   "source": [
    "\n",
    "### Split Apply Combine Paradigm\n",
    "\n",
    "- `groupby()` is often applied in the context of the data processing paradigm called \"split-apply-combine\"\n",
    "\n",
    "  - Split: you need to split the data into chunks defined using one or more columns\n",
    "  - Apply: apply some operation on the chunks generated. \n",
    "    - Ex. Count the number of rows in each chunk, average the values, etc...\n",
    "  - Combine: combine the results of the applied operation into a new `DataFrame`\n",
    "\n",
    "\n"
   ]
  },
  {
   "cell_type": "markdown",
   "metadata": {
    "slideshow": {
     "slide_type": "slide"
    }
   },
   "source": [
    "### Split-Apply-Combine Example\n",
    "\n",
    "![](images/split_apply_combine_example.png)\n",
    "\n",
    "- The class of Split-Apply-Combine applied here is referred to as aggregation.\n",
    "  - Aggregations refer to any operation that reduces data to a single value."
   ]
  },
  {
   "cell_type": "markdown",
   "metadata": {
    "slideshow": {
     "slide_type": "slide"
    }
   },
   "source": [
    "### The 3 ( or 3  $\\frac{1}{2}$) Classes of Opearations on Groups\n",
    "\n",
    "\n",
    "- Three are ( 3 $\\frac{1}{2}$) classes of split-apply-combine operations that can be applied to group data.\n",
    "\n",
    "\n",
    "1\\.$~~$__Aggregations__ generate a single value for each group\n",
    "  \n",
    "2\\.$~~$ __Transformations__ convert the data and generate a group of the same size as the original group.\n",
    "\n",
    "3\\.$~~$ __Filters__ retain or discard a group based on group-specific boolean computations.\n",
    "\n",
    "\n",
    "3$\\frac{1}{2}$\\.$~$\"__Thinning__\" drops entries in a group based on some defined logic.\n"
   ]
  },
  {
   "cell_type": "markdown",
   "metadata": {
    "collapsed": true,
    "slideshow": {
     "slide_type": "slide"
    }
   },
   "source": [
    "### Aggregations\n",
    "\n",
    "- __Aggregations__ aggregate the data in each group, i.e., they reduce the data to a single value. This includes, for instance, computing group sums, means, maximums, minimums, _etc_.\n",
    "\n",
    "\n",
    "- The diagram below illustrates grouping by values of column `X` and computing the average over the values of column `Y.`\n",
    "\n",
    "\n"
   ]
  },
  {
   "cell_type": "markdown",
   "metadata": {
    "slideshow": {
     "slide_type": "slide"
    }
   },
   "source": [
    "![](./images/aggregate.png)\n"
   ]
  },
  {
   "cell_type": "markdown",
   "metadata": {
    "slideshow": {
     "slide_type": "slide"
    }
   },
   "source": [
    "\n",
    "__Transformations cont'd__\n",
    "\n",
    "- transform the data in a way that is group-specific.\n",
    "  -  Ex. for specialty, we want to transform the column `nb_number` into the values small, large or medium, depending on whether the nb_beneficiaries value is, respectively, much smaller than the mean, much larger than the mean or close to the mean.\n",
    "\n",
    "\n",
    "  - The number of entries per group resulting from a transformation is the same as the number of entries in the group before the transformation.\n",
    "\n"
   ]
  },
  {
   "cell_type": "markdown",
   "metadata": {
    "slideshow": {
     "slide_type": "slide"
    }
   },
   "source": [
    "- The diagram below shows an example where the data in column \"Y\" in transformed by dividing it by the group mean.\n",
    "\n",
    "![](./images/transform.png)\n"
   ]
  },
  {
   "cell_type": "markdown",
   "metadata": {
    "slideshow": {
     "slide_type": "slide"
    }
   },
   "source": [
    "__Filtering__  group consist of dropping or retaining that group in a way that depends on a group-specific computation that returns `True` or `False`. \n",
    "\n",
    "- For instance, we can filter specialties that don't have enough entries or for which the mean `spending` if below a certain threshold.\n",
    "  - Groups are either retained or discarded. Groups that are retained are unmodified.\n"
   ]
  },
  {
   "cell_type": "markdown",
   "metadata": {
    "slideshow": {
     "slide_type": "slide"
    }
   },
   "source": [
    "- The diagram below shows an example where groups are filtered if their sum for column `Y` is less than 10.\n",
    "\n",
    "![](images/filter.png)"
   ]
  },
  {
   "cell_type": "markdown",
   "metadata": {
    "collapsed": true,
    "slideshow": {
     "slide_type": "slide"
    }
   },
   "source": [
    "__Thinning__ the data consist of reducing the number of entries using a group-specific operation. Thinning can be useful to sub-sample the data at the group level, or for returning the top `n` entries in each group (), etc.\n",
    "\n",
    "  - As opposed to aggregating functions, thinning does not have to reduce the group into a single entry; although it could\n",
    "\n",
    "    \n",
    "![](images/thin.png) "
   ]
  },
  {
   "cell_type": "markdown",
   "metadata": {
    "slideshow": {
     "slide_type": "slide"
    }
   },
   "source": [
    "\n",
    "##### Aggregating the Data Using `groupby`\n",
    "\n",
    "- Aggregation is commonly used to compute summary statistics on each of the groups.\n",
    "\n",
    "- Some of the interesting/important summary aggregation methods `DataFrameGroupBy`  objects are:\n",
    "\n",
    "\n",
    "|Methods| Decription|\n",
    "|:----------|:----------------|\n",
    "| `mean`, `median` | Computes the mean and the median in each group| \n",
    "| `min` , `max` | computes the min and max in each group| \n",
    "| `size` | computes the number of values in each group| \n",
    "\n",
    "\n"
   ]
  },
  {
   "cell_type": "markdown",
   "metadata": {
    "slideshow": {
     "slide_type": "slide"
    }
   },
   "source": [
    "##### Aggregating the Data Using `groupby` Cont'd \n",
    "\n",
    "\n",
    "- The functions above all use the same syntax, which leverages method chaining:\n",
    " \n",
    "```python\n",
    "spending_df.groupby('specialty').sum()\n",
    "# or\n",
    "spending_df.groupby('specialty').min()\n",
    "```\n",
    "- You can modify the behavior of the aggregation methods using their parameters.\n"
   ]
  },
  {
   "cell_type": "code",
   "execution_count": 7,
   "metadata": {
    "slideshow": {
     "slide_type": "slide"
    }
   },
   "outputs": [
    {
     "data": {
      "text/html": [
       "<div>\n",
       "<style>\n",
       "    .dataframe thead tr:only-child th {\n",
       "        text-align: right;\n",
       "    }\n",
       "\n",
       "    .dataframe thead th {\n",
       "        text-align: left;\n",
       "    }\n",
       "\n",
       "    .dataframe tbody tr th {\n",
       "        vertical-align: top;\n",
       "    }\n",
       "</style>\n",
       "<table border=\"1\" class=\"dataframe\">\n",
       "  <thead>\n",
       "    <tr style=\"text-align: right;\">\n",
       "      <th></th>\n",
       "      <th>nb_beneficiaries</th>\n",
       "      <th>spending</th>\n",
       "    </tr>\n",
       "    <tr>\n",
       "      <th>specialty</th>\n",
       "      <th></th>\n",
       "      <th></th>\n",
       "    </tr>\n",
       "  </thead>\n",
       "  <tbody>\n",
       "    <tr>\n",
       "      <th>ADDICTION MEDICINE</th>\n",
       "      <td>74</td>\n",
       "      <td>920.060</td>\n",
       "    </tr>\n",
       "    <tr>\n",
       "      <th>ALLERGY/IMMUNOLOGY</th>\n",
       "      <td>1063</td>\n",
       "      <td>189174.060</td>\n",
       "    </tr>\n",
       "    <tr>\n",
       "      <th>ANESTHESIOLOGY</th>\n",
       "      <td>1673</td>\n",
       "      <td>142804.730</td>\n",
       "    </tr>\n",
       "    <tr>\n",
       "      <th>CARDIAC ELECTROPHYSIOLOGY</th>\n",
       "      <td>1041</td>\n",
       "      <td>225543.620</td>\n",
       "    </tr>\n",
       "    <tr>\n",
       "      <th>CARDIAC SURGERY</th>\n",
       "      <td>33</td>\n",
       "      <td>12432.920</td>\n",
       "    </tr>\n",
       "  </tbody>\n",
       "</table>\n",
       "</div>"
      ],
      "text/plain": [
       "                           nb_beneficiaries   spending\n",
       "specialty                                             \n",
       "ADDICTION MEDICINE                       74    920.060\n",
       "ALLERGY/IMMUNOLOGY                     1063 189174.060\n",
       "ANESTHESIOLOGY                         1673 142804.730\n",
       "CARDIAC ELECTROPHYSIOLOGY              1041 225543.620\n",
       "CARDIAC SURGERY                          33  12432.920"
      ]
     },
     "execution_count": 7,
     "metadata": {},
     "output_type": "execute_result"
    }
   ],
   "source": [
    "spending_df.groupby('specialty').sum(numeric_only= True).head()\n"
   ]
  },
  {
   "cell_type": "markdown",
   "metadata": {
    "slideshow": {
     "slide_type": "slide"
    }
   },
   "source": [
    "\n",
    "### Applying Functions to Group Columns\n",
    "\n",
    "- the method called `agg` can be used where complex or custom aggregation logic is required,  \n",
    " The method `agg` takes a function (or a list of functions) and uses it (them) to aggregate the group.\n",
    "\n",
    "- Example, we can use `sum_spending_CAD` to return the sum of the spending in Canadian Dollars.\n",
    "\n"
   ]
  },
  {
   "cell_type": "markdown",
   "metadata": {
    "slideshow": {
     "slide_type": "slide"
    }
   },
   "source": [
    "```python\n",
    "def sum_spending_CAD(x):\n",
    "    return x.sum() * 1.26\n",
    "\n",
    "spending_by_specialty['spending'].agg(sum_spending_CAD)\n",
    "```\n",
    "\n",
    "\n",
    "- Note that `agg` can also take a dictionary of functions to aggregate on.\n",
    "\n",
    "```python \n",
    "spending_by_specialty.agg({'nb_beneficiaries' :sum,\n",
    "                           'spending' : max)\n",
    "```"
   ]
  },
  {
   "cell_type": "code",
   "execution_count": 13,
   "metadata": {
    "slideshow": {
     "slide_type": "slide"
    }
   },
   "outputs": [
    {
     "data": {
      "text/html": [
       "<div>\n",
       "<style>\n",
       "    .dataframe thead tr:only-child th {\n",
       "        text-align: right;\n",
       "    }\n",
       "\n",
       "    .dataframe thead th {\n",
       "        text-align: left;\n",
       "    }\n",
       "\n",
       "    .dataframe tbody tr th {\n",
       "        vertical-align: top;\n",
       "    }\n",
       "</style>\n",
       "<table border=\"1\" class=\"dataframe\">\n",
       "  <thead>\n",
       "    <tr style=\"text-align: right;\">\n",
       "      <th></th>\n",
       "      <th>nb_beneficiaries</th>\n",
       "      <th>spending</th>\n",
       "    </tr>\n",
       "    <tr>\n",
       "      <th>specialty</th>\n",
       "      <th></th>\n",
       "      <th></th>\n",
       "    </tr>\n",
       "  </thead>\n",
       "  <tbody>\n",
       "    <tr>\n",
       "      <th>ADDICTION MEDICINE</th>\n",
       "      <td>74</td>\n",
       "      <td>1159.276</td>\n",
       "    </tr>\n",
       "    <tr>\n",
       "      <th>ALLERGY/IMMUNOLOGY</th>\n",
       "      <td>1063</td>\n",
       "      <td>238359.316</td>\n",
       "    </tr>\n",
       "    <tr>\n",
       "      <th>ANESTHESIOLOGY</th>\n",
       "      <td>1673</td>\n",
       "      <td>179933.960</td>\n",
       "    </tr>\n",
       "    <tr>\n",
       "      <th>CARDIAC ELECTROPHYSIOLOGY</th>\n",
       "      <td>1041</td>\n",
       "      <td>284184.961</td>\n",
       "    </tr>\n",
       "    <tr>\n",
       "      <th>CARDIAC SURGERY</th>\n",
       "      <td>33</td>\n",
       "      <td>15665.479</td>\n",
       "    </tr>\n",
       "  </tbody>\n",
       "</table>\n",
       "</div>"
      ],
      "text/plain": [
       "                           nb_beneficiaries   spending\n",
       "specialty                                             \n",
       "ADDICTION MEDICINE                       74   1159.276\n",
       "ALLERGY/IMMUNOLOGY                     1063 238359.316\n",
       "ANESTHESIOLOGY                         1673 179933.960\n",
       "CARDIAC ELECTROPHYSIOLOGY              1041 284184.961\n",
       "CARDIAC SURGERY                          33  15665.479"
      ]
     },
     "execution_count": 13,
     "metadata": {},
     "output_type": "execute_result"
    }
   ],
   "source": [
    "def sum_spending_CAD(x):\n",
    "    return x.sum() * 1.26\n",
    "\n",
    "spending_by_specialty[['nb_beneficiaries', 'spending']].agg(\n",
    "                                    {  'nb_beneficiaries': sum, \n",
    "                                       'spending': sum_spending_CAD\n",
    "                                    }).head()"
   ]
  },
  {
   "cell_type": "code",
   "execution_count": 14,
   "metadata": {
    "slideshow": {
     "slide_type": "slide"
    }
   },
   "outputs": [
    {
     "data": {
      "text/html": [
       "<div>\n",
       "<style>\n",
       "    .dataframe thead tr:only-child th {\n",
       "        text-align: right;\n",
       "    }\n",
       "\n",
       "    .dataframe thead th {\n",
       "        text-align: left;\n",
       "    }\n",
       "\n",
       "    .dataframe tbody tr th {\n",
       "        vertical-align: top;\n",
       "    }\n",
       "</style>\n",
       "<table border=\"1\" class=\"dataframe\">\n",
       "  <thead>\n",
       "    <tr style=\"text-align: right;\">\n",
       "      <th></th>\n",
       "      <th>sum</th>\n",
       "      <th>min</th>\n",
       "      <th>max</th>\n",
       "    </tr>\n",
       "    <tr>\n",
       "      <th>specialty</th>\n",
       "      <th></th>\n",
       "      <th></th>\n",
       "      <th></th>\n",
       "    </tr>\n",
       "  </thead>\n",
       "  <tbody>\n",
       "    <tr>\n",
       "      <th>ADDICTION MEDICINE</th>\n",
       "      <td>920.060</td>\n",
       "      <td>19.560</td>\n",
       "      <td>817.880</td>\n",
       "    </tr>\n",
       "    <tr>\n",
       "      <th>ALLERGY/IMMUNOLOGY</th>\n",
       "      <td>189174.060</td>\n",
       "      <td>109.800</td>\n",
       "      <td>52389.610</td>\n",
       "    </tr>\n",
       "    <tr>\n",
       "      <th>ANESTHESIOLOGY</th>\n",
       "      <td>142804.730</td>\n",
       "      <td>35.330</td>\n",
       "      <td>34073.910</td>\n",
       "    </tr>\n",
       "    <tr>\n",
       "      <th>CARDIAC ELECTROPHYSIOLOGY</th>\n",
       "      <td>225543.620</td>\n",
       "      <td>69.850</td>\n",
       "      <td>89101.540</td>\n",
       "    </tr>\n",
       "    <tr>\n",
       "      <th>CARDIAC SURGERY</th>\n",
       "      <td>12432.920</td>\n",
       "      <td>442.910</td>\n",
       "      <td>11990.010</td>\n",
       "    </tr>\n",
       "  </tbody>\n",
       "</table>\n",
       "</div>"
      ],
      "text/plain": [
       "                                 sum     min       max\n",
       "specialty                                             \n",
       "ADDICTION MEDICINE           920.060  19.560   817.880\n",
       "ALLERGY/IMMUNOLOGY        189174.060 109.800 52389.610\n",
       "ANESTHESIOLOGY            142804.730  35.330 34073.910\n",
       "CARDIAC ELECTROPHYSIOLOGY 225543.620  69.850 89101.540\n",
       "CARDIAC SURGERY            12432.920 442.910 11990.010"
      ]
     },
     "execution_count": 14,
     "metadata": {},
     "output_type": "execute_result"
    }
   ],
   "source": [
    "spending_by_specialty['spending'].agg([sum, min, max]).head()"
   ]
  },
  {
   "cell_type": "code",
   "execution_count": 15,
   "metadata": {
    "slideshow": {
     "slide_type": "slide"
    }
   },
   "outputs": [
    {
     "data": {
      "text/html": [
       "<div>\n",
       "<style>\n",
       "    .dataframe thead tr:only-child th {\n",
       "        text-align: right;\n",
       "    }\n",
       "\n",
       "    .dataframe thead th {\n",
       "        text-align: left;\n",
       "    }\n",
       "\n",
       "    .dataframe tbody tr th {\n",
       "        vertical-align: top;\n",
       "    }\n",
       "</style>\n",
       "<table border=\"1\" class=\"dataframe\">\n",
       "  <thead>\n",
       "    <tr style=\"text-align: right;\">\n",
       "      <th></th>\n",
       "      <th>nb_beneficiaries</th>\n",
       "      <th>spending</th>\n",
       "    </tr>\n",
       "    <tr>\n",
       "      <th>specialty</th>\n",
       "      <th></th>\n",
       "      <th></th>\n",
       "    </tr>\n",
       "  </thead>\n",
       "  <tbody>\n",
       "    <tr>\n",
       "      <th>ADDICTION MEDICINE</th>\n",
       "      <td>74</td>\n",
       "      <td>817.880</td>\n",
       "    </tr>\n",
       "    <tr>\n",
       "      <th>ALLERGY/IMMUNOLOGY</th>\n",
       "      <td>1063</td>\n",
       "      <td>52389.610</td>\n",
       "    </tr>\n",
       "    <tr>\n",
       "      <th>ANESTHESIOLOGY</th>\n",
       "      <td>1673</td>\n",
       "      <td>34073.910</td>\n",
       "    </tr>\n",
       "    <tr>\n",
       "      <th>CARDIAC ELECTROPHYSIOLOGY</th>\n",
       "      <td>1041</td>\n",
       "      <td>89101.540</td>\n",
       "    </tr>\n",
       "    <tr>\n",
       "      <th>CARDIAC SURGERY</th>\n",
       "      <td>33</td>\n",
       "      <td>11990.010</td>\n",
       "    </tr>\n",
       "  </tbody>\n",
       "</table>\n",
       "</div>"
      ],
      "text/plain": [
       "                           nb_beneficiaries  spending\n",
       "specialty                                            \n",
       "ADDICTION MEDICINE                       74   817.880\n",
       "ALLERGY/IMMUNOLOGY                     1063 52389.610\n",
       "ANESTHESIOLOGY                         1673 34073.910\n",
       "CARDIAC ELECTROPHYSIOLOGY              1041 89101.540\n",
       "CARDIAC SURGERY                          33 11990.010"
      ]
     },
     "execution_count": 15,
     "metadata": {},
     "output_type": "execute_result"
    }
   ],
   "source": [
    "spending_by_specialty.agg({'nb_beneficiaries' :sum,\n",
    "                           'spending' : max}).head()\n"
   ]
  },
  {
   "cell_type": "markdown",
   "metadata": {
    "slideshow": {
     "slide_type": "slide"
    }
   },
   "source": [
    "##### Transforming the Data in `groupby`\n",
    "\n",
    "- As opposed to aggregations, which reduce the data into a single value, transformations modify the data but don't change the shape of the groups\n",
    "\n",
    "- Transformation as useful to applying operations that are group specific.\n",
    "\n"
   ]
  },
  {
   "cell_type": "markdown",
   "metadata": {
    "slideshow": {
     "slide_type": "slide"
    }
   },
   "source": [
    "##### Transforming the Data in `groupby` Cont'd\n",
    "\n",
    "\n",
    "- The example below computes the percent contribution of each entry to each specialty by applying a transformation that normalizes the entry's spending over the total spending in that specialty. \n",
    "\n",
    "![](images/transform_spending.png)\n"
   ]
  },
  {
   "cell_type": "code",
   "execution_count": 16,
   "metadata": {
    "slideshow": {
     "slide_type": "slide"
    }
   },
   "outputs": [
    {
     "data": {
      "text/plain": [
       "unique_id\n",
       "VG585760    82.620\n",
       "GJ278932   817.880\n",
       "TX420809    19.560\n",
       "Name: spending, dtype: float64"
      ]
     },
     "execution_count": 16,
     "metadata": {},
     "output_type": "execute_result"
    }
   ],
   "source": [
    "spending_by_specialty[\"spending\"].get_group(\"ADDICTION MEDICINE\")"
   ]
  },
  {
   "cell_type": "markdown",
   "metadata": {
    "slideshow": {
     "slide_type": "slide"
    }
   },
   "source": [
    "### Applying a Transformation\n",
    "\n",
    "- Applying a transformation is done using the method called `transform`.\n",
    "\n",
    "\n",
    "- The method `transform` takes as input a function name, which it calls on each group of the `DataFrameGroupBy` object"
   ]
  },
  {
   "cell_type": "code",
   "execution_count": 17,
   "metadata": {
    "slideshow": {
     "slide_type": "slide"
    }
   },
   "outputs": [
    {
     "data": {
      "text/html": [
       "<div>\n",
       "<style>\n",
       "    .dataframe thead tr:only-child th {\n",
       "        text-align: right;\n",
       "    }\n",
       "\n",
       "    .dataframe thead th {\n",
       "        text-align: left;\n",
       "    }\n",
       "\n",
       "    .dataframe tbody tr th {\n",
       "        vertical-align: top;\n",
       "    }\n",
       "</style>\n",
       "<table border=\"1\" class=\"dataframe\">\n",
       "  <thead>\n",
       "    <tr style=\"text-align: right;\">\n",
       "      <th></th>\n",
       "      <th>doctor_id</th>\n",
       "      <th>specialty</th>\n",
       "      <th>medication</th>\n",
       "      <th>nb_beneficiaries</th>\n",
       "      <th>spending</th>\n",
       "      <th>spending_pct</th>\n",
       "    </tr>\n",
       "    <tr>\n",
       "      <th>unique_id</th>\n",
       "      <th></th>\n",
       "      <th></th>\n",
       "      <th></th>\n",
       "      <th></th>\n",
       "      <th></th>\n",
       "      <th></th>\n",
       "    </tr>\n",
       "  </thead>\n",
       "  <tbody>\n",
       "    <tr>\n",
       "      <th>VG585760</th>\n",
       "      <td>1801032297</td>\n",
       "      <td>ADDICTION MEDICINE</td>\n",
       "      <td>LAMOTRIGINE</td>\n",
       "      <td>11</td>\n",
       "      <td>82.620</td>\n",
       "      <td>8.980</td>\n",
       "    </tr>\n",
       "    <tr>\n",
       "      <th>GJ278932</th>\n",
       "      <td>1134139991</td>\n",
       "      <td>ADDICTION MEDICINE</td>\n",
       "      <td>BUSPIRONE HCL</td>\n",
       "      <td>49</td>\n",
       "      <td>817.880</td>\n",
       "      <td>88.894</td>\n",
       "    </tr>\n",
       "    <tr>\n",
       "      <th>TX420809</th>\n",
       "      <td>1801032297</td>\n",
       "      <td>ADDICTION MEDICINE</td>\n",
       "      <td>LORAZEPAM</td>\n",
       "      <td>14</td>\n",
       "      <td>19.560</td>\n",
       "      <td>2.126</td>\n",
       "    </tr>\n",
       "  </tbody>\n",
       "</table>\n",
       "</div>"
      ],
      "text/plain": [
       "            doctor_id           specialty     medication  nb_beneficiaries  \\\n",
       "unique_id                                                                    \n",
       "VG585760   1801032297  ADDICTION MEDICINE    LAMOTRIGINE                11   \n",
       "GJ278932   1134139991  ADDICTION MEDICINE  BUSPIRONE HCL                49   \n",
       "TX420809   1801032297  ADDICTION MEDICINE      LORAZEPAM                14   \n",
       "\n",
       "           spending  spending_pct  \n",
       "unique_id                          \n",
       "VG585760     82.620         8.980  \n",
       "GJ278932    817.880        88.894  \n",
       "TX420809     19.560         2.126  "
      ]
     },
     "execution_count": 17,
     "metadata": {},
     "output_type": "execute_result"
    }
   ],
   "source": [
    "def my_function(x):\n",
    "    return (x   / x.sum() ) * 100\n",
    "    \n",
    "\n",
    "\n",
    "# below transform the spending into a percentage and save it a new column\n",
    "# called `spending_pct`\n",
    "spending_df[\"spending_pct\"] = spending_by_specialty['spending'].transform(my_function)\n",
    "\n",
    "\n",
    "spending_df[spending_df['specialty'] == \"ADDICTION MEDICINE\"]\n"
   ]
  },
  {
   "cell_type": "code",
   "execution_count": 18,
   "metadata": {
    "slideshow": {
     "slide_type": "slide"
    }
   },
   "outputs": [
    {
     "data": {
      "text/html": [
       "<div>\n",
       "<style>\n",
       "    .dataframe thead tr:only-child th {\n",
       "        text-align: right;\n",
       "    }\n",
       "\n",
       "    .dataframe thead th {\n",
       "        text-align: left;\n",
       "    }\n",
       "\n",
       "    .dataframe tbody tr th {\n",
       "        vertical-align: top;\n",
       "    }\n",
       "</style>\n",
       "<table border=\"1\" class=\"dataframe\">\n",
       "  <thead>\n",
       "    <tr style=\"text-align: right;\">\n",
       "      <th></th>\n",
       "      <th>doctor_id</th>\n",
       "      <th>specialty</th>\n",
       "      <th>medication</th>\n",
       "      <th>nb_beneficiaries</th>\n",
       "      <th>spending</th>\n",
       "      <th>spending_pct</th>\n",
       "    </tr>\n",
       "    <tr>\n",
       "      <th>unique_id</th>\n",
       "      <th></th>\n",
       "      <th></th>\n",
       "      <th></th>\n",
       "      <th></th>\n",
       "      <th></th>\n",
       "      <th></th>\n",
       "    </tr>\n",
       "  </thead>\n",
       "  <tbody>\n",
       "    <tr>\n",
       "      <th>GJ278932</th>\n",
       "      <td>1134139991</td>\n",
       "      <td>ADDICTION MEDICINE</td>\n",
       "      <td>BUSPIRONE HCL</td>\n",
       "      <td>49</td>\n",
       "      <td>817.880</td>\n",
       "      <td>88.894</td>\n",
       "    </tr>\n",
       "    <tr>\n",
       "      <th>VG585760</th>\n",
       "      <td>1801032297</td>\n",
       "      <td>ADDICTION MEDICINE</td>\n",
       "      <td>LAMOTRIGINE</td>\n",
       "      <td>11</td>\n",
       "      <td>82.620</td>\n",
       "      <td>8.980</td>\n",
       "    </tr>\n",
       "    <tr>\n",
       "      <th>TX420809</th>\n",
       "      <td>1801032297</td>\n",
       "      <td>ADDICTION MEDICINE</td>\n",
       "      <td>LORAZEPAM</td>\n",
       "      <td>14</td>\n",
       "      <td>19.560</td>\n",
       "      <td>2.126</td>\n",
       "    </tr>\n",
       "    <tr>\n",
       "      <th>XY715196</th>\n",
       "      <td>1376691626</td>\n",
       "      <td>ALLERGY/IMMUNOLOGY</td>\n",
       "      <td>FLUTICASONE/SALMETEROL</td>\n",
       "      <td>102</td>\n",
       "      <td>52389.610</td>\n",
       "      <td>27.694</td>\n",
       "    </tr>\n",
       "    <tr>\n",
       "      <th>DL492570</th>\n",
       "      <td>1962588053</td>\n",
       "      <td>ALLERGY/IMMUNOLOGY</td>\n",
       "      <td>OMALIZUMAB</td>\n",
       "      <td>12</td>\n",
       "      <td>29153.710</td>\n",
       "      <td>15.411</td>\n",
       "    </tr>\n",
       "  </tbody>\n",
       "</table>\n",
       "</div>"
      ],
      "text/plain": [
       "            doctor_id           specialty              medication  \\\n",
       "unique_id                                                           \n",
       "GJ278932   1134139991  ADDICTION MEDICINE           BUSPIRONE HCL   \n",
       "VG585760   1801032297  ADDICTION MEDICINE             LAMOTRIGINE   \n",
       "TX420809   1801032297  ADDICTION MEDICINE               LORAZEPAM   \n",
       "XY715196   1376691626  ALLERGY/IMMUNOLOGY  FLUTICASONE/SALMETEROL   \n",
       "DL492570   1962588053  ALLERGY/IMMUNOLOGY              OMALIZUMAB   \n",
       "\n",
       "           nb_beneficiaries  spending  spending_pct  \n",
       "unique_id                                            \n",
       "GJ278932                 49   817.880        88.894  \n",
       "VG585760                 11    82.620         8.980  \n",
       "TX420809                 14    19.560         2.126  \n",
       "XY715196                102 52389.610        27.694  \n",
       "DL492570                 12 29153.710        15.411  "
      ]
     },
     "execution_count": 18,
     "metadata": {},
     "output_type": "execute_result"
    }
   ],
   "source": [
    "# The code below allows us to sort and view the important drugs \n",
    "# by spending in each specialty.  Note, however, that we still have duplicates of \n",
    "# drugs (ex. ALBUTEROL SULFATE) since the same drug can occur in more than  one entry\n",
    "spending_df.sort_values(['specialty', 'spending_pct'], ascending=[True, False]).head(30).head()"
   ]
  },
  {
   "cell_type": "markdown",
   "metadata": {
    "slideshow": {
     "slide_type": "slide"
    }
   },
   "source": [
    "#### More complex Transformations\n",
    "\n",
    "- As noted above, drugs are still duplicated across `doctor_ids` within the same `specialty.`\n",
    "\n",
    "- To see the percent spending by `drug` column, we need to group on both the `specialy` and the `medication` and sum the `spending_pct` computed previously\n",
    "\n",
    "```python\n",
    "medication_spendng_pct =  spending_df.groupby([\"specialty\", \"medication\"])[\"spending_pct\"].sum()\n",
    "```\n",
    "\n"
   ]
  },
  {
   "cell_type": "markdown",
   "metadata": {
    "slideshow": {
     "slide_type": "slide"
    }
   },
   "source": [
    "#### More complex Transformations- cont'd\n",
    "\n",
    "- Since we are grouping on two columns, the resulting index of `medication_spending_pct_serie` will also contain two columns\n",
    "\n",
    "\n",
    "- We need to reset (or drop) the index using the method `reset_index` before we can sort on specialty and spending_pct as we did above\n",
    "\n",
    "\n",
    "```python\n",
    "medication_spendng_pct = spending_df.groupby([\"specialty\", \"medication\"])[\"spending_pct\"].sum().reset_index()\n",
    "\n",
    "\n",
    "medication_spendng_pct.sort_value([\"specialty\", \"spending_pct\"], ascending=[True, False])\n",
    "```"
   ]
  },
  {
   "cell_type": "code",
   "execution_count": 21,
   "metadata": {
    "slideshow": {
     "slide_type": "slide"
    }
   },
   "outputs": [
    {
     "data": {
      "text/html": [
       "<div>\n",
       "<style>\n",
       "    .dataframe thead tr:only-child th {\n",
       "        text-align: right;\n",
       "    }\n",
       "\n",
       "    .dataframe thead th {\n",
       "        text-align: left;\n",
       "    }\n",
       "\n",
       "    .dataframe tbody tr th {\n",
       "        vertical-align: top;\n",
       "    }\n",
       "</style>\n",
       "<table border=\"1\" class=\"dataframe\">\n",
       "  <thead>\n",
       "    <tr style=\"text-align: right;\">\n",
       "      <th></th>\n",
       "      <th>specialty</th>\n",
       "      <th>medication</th>\n",
       "      <th>spending_pct</th>\n",
       "    </tr>\n",
       "  </thead>\n",
       "  <tbody>\n",
       "    <tr>\n",
       "      <th>0</th>\n",
       "      <td>ADDICTION MEDICINE</td>\n",
       "      <td>BUSPIRONE HCL</td>\n",
       "      <td>88.894</td>\n",
       "    </tr>\n",
       "    <tr>\n",
       "      <th>1</th>\n",
       "      <td>ADDICTION MEDICINE</td>\n",
       "      <td>LAMOTRIGINE</td>\n",
       "      <td>8.980</td>\n",
       "    </tr>\n",
       "    <tr>\n",
       "      <th>2</th>\n",
       "      <td>ADDICTION MEDICINE</td>\n",
       "      <td>LORAZEPAM</td>\n",
       "      <td>2.126</td>\n",
       "    </tr>\n",
       "    <tr>\n",
       "      <th>12</th>\n",
       "      <td>ALLERGY/IMMUNOLOGY</td>\n",
       "      <td>FLUTICASONE/SALMETEROL</td>\n",
       "      <td>41.899</td>\n",
       "    </tr>\n",
       "    <tr>\n",
       "      <th>16</th>\n",
       "      <td>ALLERGY/IMMUNOLOGY</td>\n",
       "      <td>MOMETASONE FUROATE</td>\n",
       "      <td>18.141</td>\n",
       "    </tr>\n",
       "  </tbody>\n",
       "</table>\n",
       "</div>"
      ],
      "text/plain": [
       "             specialty              medication  spending_pct\n",
       "0   ADDICTION MEDICINE           BUSPIRONE HCL        88.894\n",
       "1   ADDICTION MEDICINE             LAMOTRIGINE         8.980\n",
       "2   ADDICTION MEDICINE               LORAZEPAM         2.126\n",
       "12  ALLERGY/IMMUNOLOGY  FLUTICASONE/SALMETEROL        41.899\n",
       "16  ALLERGY/IMMUNOLOGY      MOMETASONE FUROATE        18.141"
      ]
     },
     "execution_count": 21,
     "metadata": {},
     "output_type": "execute_result"
    }
   ],
   "source": [
    "medication_spendng_pct = spending_df.groupby([\"specialty\", \"medication\"])[\"spending_pct\"].sum().reset_index()\n",
    "\n",
    "medication_spendng_pct.sort_values([\"specialty\", \"spending_pct\"], ascending=[True, False]).head(5)\n"
   ]
  },
  {
   "cell_type": "markdown",
   "metadata": {
    "slideshow": {
     "slide_type": "slide"
    }
   },
   "source": [
    "##### Filtering Groups\n",
    "\n",
    "- Filtering a group is done using the method called `filter`.\n",
    "\n",
    "\n",
    "- The method `filter` takes as input a function name, which it calls on each group of the `DataFrameGroupBy` object\n",
    "  - The function must return either `True` or `False`.\n",
    "  - Groups for which the function returns `False` are dropped.\n",
    "\n",
    "\n",
    "- The resulting` DataFrame` has its entries in the same order as the original `DataFrame`.\n",
    " \n"
   ]
  },
  {
   "cell_type": "markdown",
   "metadata": {
    "slideshow": {
     "slide_type": "slide"
    }
   },
   "source": [
    "#### Unique\n",
    "\n",
    "\n",
    "- `unique` is a very useful `Series` method. \n",
    "  - The method `unique` returns the set of unique `values` in `Series`.\n"
   ]
  },
  {
   "cell_type": "code",
   "execution_count": 43,
   "metadata": {
    "slideshow": {
     "slide_type": "slide"
    }
   },
   "outputs": [
    {
     "data": {
      "text/plain": [
       "array(['FAMILY PRACTICE', 'INTERNAL MEDICINE', 'PSYCHIATRY',\n",
       "       'HEMATOLOGY/ONCOLOGY', 'OPHTHALMOLOGY', 'NEUROLOGY',\n",
       "       'NURSE PRACTITIONER', 'NEPHROLOGY', 'DENTIST', 'SPECIALIST',\n",
       "       'GENERAL PRACTICE', 'INTERVENTIONAL CARDIOLOGY',\n",
       "       'OBSTETRICS/GYNECOLOGY', 'PHYSICIAN ASSISTANT', 'CARDIOLOGY',\n",
       "       'ENDOCRINOLOGY', 'RHEUMATOLOGY', 'OPTOMETRY',\n",
       "       'STUDENT IN AN ORGANIZED HEALTH CARE EDUCATION/TRAINING PROGRAM',\n",
       "       'PULMONARY DISEASE', 'DERMATOLOGY',\n",
       "       'INTERVENTIONAL PAIN MANAGEMENT', 'PSYCHIATRY & NEUROLOGY',\n",
       "       'GASTROENTEROLOGY', 'GERIATRIC MEDICINE', 'UROLOGY',\n",
       "       'MEDICAL ONCOLOGY', 'PHYSICAL MEDICINE AND REHABILITATION',\n",
       "       'EMERGENCY MEDICINE', 'ORTHOPEDIC SURGERY',\n",
       "       'CARDIAC ELECTROPHYSIOLOGY', 'OTOLARYNGOLOGY', 'ALLERGY/IMMUNOLOGY',\n",
       "       'PODIATRY', 'CERTIFIED CLINICAL NURSE SPECIALIST',\n",
       "       'INFECTIOUS DISEASE', 'UNKNOWN PHYSICIAN SPECIALTY CODE',\n",
       "       'ANESTHESIOLOGY', 'PEDIATRIC MEDICINE', 'PAIN MANAGEMENT',\n",
       "       'HEMATOLOGY', 'GENERAL SURGERY',\n",
       "       'OSTEOPATHIC MANIPULATIVE MEDICINE', 'ADDICTION MEDICINE',\n",
       "       'PERIPHERAL VASCULAR DISEASE', 'PLASTIC AND RECONSTRUCTIVE SURGERY',\n",
       "       'COLORECTAL SURGERY (FORMERLY PROCTOLOGY)',\n",
       "       'CRITICAL CARE (INTENSIVISTS)', 'REGISTERED NURSE', 'HAND SURGERY',\n",
       "       'CLINIC/CENTER', 'NEUROPSYCHIATRY', 'DIAGNOSTIC RADIOLOGY',\n",
       "       'ORAL SURGERY (DENTISTS ONLY)', 'GERIATRIC PSYCHIATRY',\n",
       "       'NEUROSURGERY', 'CARDIAC SURGERY', 'FAMILY MEDICINE',\n",
       "       'THORACIC SURGERY', 'LICENSED PRACTICAL NURSE',\n",
       "       'HOSPICE AND PALLIATIVE CARE', 'CLINICAL PSYCHOLOGIST',\n",
       "       'VASCULAR SURGERY', 'CRNA', 'PREVENTIVE MEDICINE',\n",
       "       'RADIATION ONCOLOGY', 'SPORTS MEDICINE', 'PHARMACIST', 'NATUROPATH',\n",
       "       'MULTISPECIALTY CLINIC/GROUP PRACTICE', 'ORTHOPAEDIC SURGERY',\n",
       "       'HOSPITALIST', 'GYNECOLOGICAL/ONCOLOGY', 'HOSPITAL (DMERCS ONLY)',\n",
       "       'CERTIFIED NURSE MIDWIFE'], dtype=object)"
      ]
     },
     "execution_count": 43,
     "metadata": {},
     "output_type": "execute_result"
    }
   ],
   "source": [
    "spending_df['specialty'].unique()"
   ]
  },
  {
   "cell_type": "code",
   "execution_count": 44,
   "metadata": {
    "slideshow": {
     "slide_type": "slide"
    }
   },
   "outputs": [
    {
     "data": {
      "text/plain": [
       "array(['FAMILY PRACTICE', 'INTERNAL MEDICINE', 'PSYCHIATRY',\n",
       "       'HEMATOLOGY/ONCOLOGY', 'OPHTHALMOLOGY', 'NEUROLOGY',\n",
       "       'NURSE PRACTITIONER', 'NEPHROLOGY', 'GENERAL PRACTICE',\n",
       "       'INTERVENTIONAL CARDIOLOGY', 'OBSTETRICS/GYNECOLOGY',\n",
       "       'PHYSICIAN ASSISTANT', 'CARDIOLOGY', 'ENDOCRINOLOGY',\n",
       "       'RHEUMATOLOGY', 'OPTOMETRY', 'PULMONARY DISEASE', 'DERMATOLOGY',\n",
       "       'INTERVENTIONAL PAIN MANAGEMENT', 'PSYCHIATRY & NEUROLOGY',\n",
       "       'GASTROENTEROLOGY', 'GERIATRIC MEDICINE', 'UROLOGY',\n",
       "       'MEDICAL ONCOLOGY', 'PHYSICAL MEDICINE AND REHABILITATION',\n",
       "       'EMERGENCY MEDICINE', 'ORTHOPEDIC SURGERY',\n",
       "       'CARDIAC ELECTROPHYSIOLOGY', 'ALLERGY/IMMUNOLOGY', 'PODIATRY',\n",
       "       'CERTIFIED CLINICAL NURSE SPECIALIST', 'INFECTIOUS DISEASE',\n",
       "       'ANESTHESIOLOGY', 'PEDIATRIC MEDICINE', 'PAIN MANAGEMENT',\n",
       "       'HEMATOLOGY', 'GENERAL SURGERY', 'DIAGNOSTIC RADIOLOGY'], dtype=object)"
      ]
     },
     "execution_count": 44,
     "metadata": {},
     "output_type": "execute_result"
    }
   ],
   "source": [
    "\n",
    "def filter_on_spending(x):\n",
    "     return x['spending'].sum() > 50000\n",
    "\n",
    "high_spending_df = spending_df[[\"specialty\", 'spending']].groupby('specialty').filter(filter_on_spending))\n",
    "\n",
    "#\n",
    "high_spending_df['specialty'].unique() \n",
    "\n"
   ]
  },
  {
   "cell_type": "markdown",
   "metadata": {
    "slideshow": {
     "slide_type": "slide"
    }
   },
   "source": [
    "##### Thinning the Data\n",
    "\n",
    "- Thinning the data consist in reducing the number of entries using a group opearation.\n",
    "- As opposed to aggregating functions, thinning does not have to reduce the group into a single entry; although it could\n",
    "- Also, thinning function, does not have to return true or false not return exactly the same entry in each group\n",
    "\n",
    "- Thinning can be use, for instance, to return only the top 3 entries  in each category, or to randomly sample a small subset of from each category.\n",
    "\n"
   ]
  },
  {
   "cell_type": "markdown",
   "metadata": {
    "slideshow": {
     "slide_type": "slide"
    }
   },
   "source": [
    "### Thinning Methods and `apply`\n",
    "\n",
    "- `pandas` offers a few methods for thinning the data.\n",
    "  - Ex. `nlargest`, `nsmallest`, etc.\n",
    "    \n",
    "    \n",
    "- However, thinning  is most often carried out using a method  called `apply.` \n",
    "\n",
    "\n",
    "\n",
    "- The  method `apply` takes as input a function name, which it calls on each group of the `DataFrameGroupBy` object.\n"
   ]
  },
  {
   "cell_type": "code",
   "execution_count": 54,
   "metadata": {
    "slideshow": {
     "slide_type": "slide"
    }
   },
   "outputs": [
    {
     "data": {
      "text/plain": [
       "specialty                  unique_id\n",
       "ADDICTION MEDICINE         GJ278932      817.880\n",
       "                           VG585760       82.620\n",
       "ALLERGY/IMMUNOLOGY         XY715196    52389.610\n",
       "                           DL492570    29153.710\n",
       "ANESTHESIOLOGY             WD732008    34073.910\n",
       "                           ZJ839161    33127.750\n",
       "CARDIAC ELECTROPHYSIOLOGY  XZ523373    89101.540\n",
       "                           RR251593    59935.970\n",
       "CARDIAC SURGERY            YC312951    11990.010\n",
       "                           FK638917      442.910\n",
       "Name: spending, dtype: float64"
      ]
     },
     "execution_count": 54,
     "metadata": {},
     "output_type": "execute_result"
    }
   ],
   "source": [
    "spending_by_specialty['spending'].nlargest(2)"
   ]
  },
  {
   "cell_type": "code",
   "execution_count": 24,
   "metadata": {
    "slideshow": {
     "slide_type": "slide"
    }
   },
   "outputs": [
    {
     "data": {
      "text/plain": [
       "specialty                  unique_id\n",
       "ADDICTION MEDICINE         TX420809     19.560\n",
       "                           VG585760     82.620\n",
       "                           GJ278932    817.880\n",
       "ALLERGY/IMMUNOLOGY         HQ120242    109.800\n",
       "                           HN843226    173.050\n",
       "                           LE617956    190.120\n",
       "ANESTHESIOLOGY             IS925171     35.330\n",
       "                           XZ351859     38.960\n",
       "                           HY359879     56.860\n",
       "CARDIAC ELECTROPHYSIOLOGY  XR445715     69.850\n",
       "Name: spending, dtype: float64"
      ]
     },
     "execution_count": 24,
     "metadata": {},
     "output_type": "execute_result"
    }
   ],
   "source": [
    "spending_by_specialty['spending'].nsmallest(3)"
   ]
  },
  {
   "cell_type": "markdown",
   "metadata": {
    "slideshow": {
     "slide_type": "slide"
    }
   },
   "source": [
    "### Sampling a DataFrame\n",
    "\n",
    "- Another Interesting Usecase for thinning is to sumbsample a `DataFrame`.\n",
    "\n",
    "- This is necessary to maintain group composions.\n",
    "\n",
    "- This can be achived using the DataFrame mthod called `sample.` \n",
    "\n",
    "  - Two parameters are relevant in this scenario,`n` the number of samples to randomly select or `frac` a portion of the data to retun\n",
    "  - We are interested the latter\n",
    "\n",
    "```python\n",
    " spending_df.sample(frac=0.001)\n",
    "```\n"
   ]
  },
  {
   "cell_type": "code",
   "execution_count": 25,
   "metadata": {
    "slideshow": {
     "slide_type": "slide"
    }
   },
   "outputs": [
    {
     "data": {
      "text/html": [
       "<div>\n",
       "<style>\n",
       "    .dataframe thead tr:only-child th {\n",
       "        text-align: right;\n",
       "    }\n",
       "\n",
       "    .dataframe thead th {\n",
       "        text-align: left;\n",
       "    }\n",
       "\n",
       "    .dataframe tbody tr th {\n",
       "        vertical-align: top;\n",
       "    }\n",
       "</style>\n",
       "<table border=\"1\" class=\"dataframe\">\n",
       "  <thead>\n",
       "    <tr style=\"text-align: right;\">\n",
       "      <th></th>\n",
       "      <th>doctor_id</th>\n",
       "      <th>specialty</th>\n",
       "      <th>medication</th>\n",
       "      <th>nb_beneficiaries</th>\n",
       "      <th>spending</th>\n",
       "      <th>spending_pct</th>\n",
       "    </tr>\n",
       "    <tr>\n",
       "      <th>unique_id</th>\n",
       "      <th></th>\n",
       "      <th></th>\n",
       "      <th></th>\n",
       "      <th></th>\n",
       "      <th></th>\n",
       "      <th></th>\n",
       "    </tr>\n",
       "  </thead>\n",
       "  <tbody>\n",
       "    <tr>\n",
       "      <th>UC393942</th>\n",
       "      <td>1942272653</td>\n",
       "      <td>FAMILY PRACTICE</td>\n",
       "      <td>CLONAZEPAM</td>\n",
       "      <td>25</td>\n",
       "      <td>129.940</td>\n",
       "      <td>0.002</td>\n",
       "    </tr>\n",
       "    <tr>\n",
       "      <th>IA801487</th>\n",
       "      <td>1962438861</td>\n",
       "      <td>INTERNAL MEDICINE</td>\n",
       "      <td>LIDOCAINE</td>\n",
       "      <td>16</td>\n",
       "      <td>4473.190</td>\n",
       "      <td>0.046</td>\n",
       "    </tr>\n",
       "    <tr>\n",
       "      <th>PR105009</th>\n",
       "      <td>1891765079</td>\n",
       "      <td>PHYSICAL MEDICINE AND REHABILITATION</td>\n",
       "      <td>GABAPENTIN</td>\n",
       "      <td>101</td>\n",
       "      <td>2071.380</td>\n",
       "      <td>1.332</td>\n",
       "    </tr>\n",
       "    <tr>\n",
       "      <th>AK980177</th>\n",
       "      <td>1245284090</td>\n",
       "      <td>INTERNAL MEDICINE</td>\n",
       "      <td>AZITHROMYCIN</td>\n",
       "      <td>58</td>\n",
       "      <td>367.420</td>\n",
       "      <td>0.004</td>\n",
       "    </tr>\n",
       "    <tr>\n",
       "      <th>OM839383</th>\n",
       "      <td>1285694505</td>\n",
       "      <td>INTERNAL MEDICINE</td>\n",
       "      <td>INSULIN GLARGINE,HUM.REC.ANLOG</td>\n",
       "      <td>54</td>\n",
       "      <td>17829.880</td>\n",
       "      <td>0.183</td>\n",
       "    </tr>\n",
       "  </tbody>\n",
       "</table>\n",
       "</div>"
      ],
      "text/plain": [
       "            doctor_id                             specialty  \\\n",
       "unique_id                                                     \n",
       "UC393942   1942272653                       FAMILY PRACTICE   \n",
       "IA801487   1962438861                     INTERNAL MEDICINE   \n",
       "PR105009   1891765079  PHYSICAL MEDICINE AND REHABILITATION   \n",
       "AK980177   1245284090                     INTERNAL MEDICINE   \n",
       "OM839383   1285694505                     INTERNAL MEDICINE   \n",
       "\n",
       "                               medication  nb_beneficiaries  spending  \\\n",
       "unique_id                                                               \n",
       "UC393942                       CLONAZEPAM                25   129.940   \n",
       "IA801487                        LIDOCAINE                16  4473.190   \n",
       "PR105009                       GABAPENTIN               101  2071.380   \n",
       "AK980177                     AZITHROMYCIN                58   367.420   \n",
       "OM839383   INSULIN GLARGINE,HUM.REC.ANLOG                54 17829.880   \n",
       "\n",
       "           spending_pct  \n",
       "unique_id                \n",
       "UC393942          0.002  \n",
       "IA801487          0.046  \n",
       "PR105009          1.332  \n",
       "AK980177          0.004  \n",
       "OM839383          0.183  "
      ]
     },
     "execution_count": 25,
     "metadata": {},
     "output_type": "execute_result"
    }
   ],
   "source": [
    "# return 0.01% of the data, i.e 10 entries\n",
    "spending_df.sample(frac=0.01).head()\n"
   ]
  },
  {
   "cell_type": "code",
   "execution_count": null,
   "metadata": {
    "collapsed": true,
    "slideshow": {
     "slide_type": "slide"
    }
   },
   "outputs": [],
   "source": [
    "# return 0.01% of the data, i.e 10 entries\n",
    "spending_df.sample(n=10) "
   ]
  },
  {
   "cell_type": "code",
   "execution_count": 27,
   "metadata": {
    "slideshow": {
     "slide_type": "slide"
    }
   },
   "outputs": [
    {
     "data": {
      "text/html": [
       "<div>\n",
       "<style>\n",
       "    .dataframe thead tr:only-child th {\n",
       "        text-align: right;\n",
       "    }\n",
       "\n",
       "    .dataframe thead th {\n",
       "        text-align: left;\n",
       "    }\n",
       "\n",
       "    .dataframe tbody tr th {\n",
       "        vertical-align: top;\n",
       "    }\n",
       "</style>\n",
       "<table border=\"1\" class=\"dataframe\">\n",
       "  <thead>\n",
       "    <tr style=\"text-align: right;\">\n",
       "      <th></th>\n",
       "      <th></th>\n",
       "      <th>doctor_id</th>\n",
       "      <th>specialty</th>\n",
       "      <th>medication</th>\n",
       "      <th>nb_beneficiaries</th>\n",
       "      <th>spending</th>\n",
       "      <th>spending_pct</th>\n",
       "    </tr>\n",
       "    <tr>\n",
       "      <th>specialty</th>\n",
       "      <th>unique_id</th>\n",
       "      <th></th>\n",
       "      <th></th>\n",
       "      <th></th>\n",
       "      <th></th>\n",
       "      <th></th>\n",
       "      <th></th>\n",
       "    </tr>\n",
       "  </thead>\n",
       "  <tbody>\n",
       "    <tr>\n",
       "      <th rowspan=\"2\" valign=\"top\">ALLERGY/IMMUNOLOGY</th>\n",
       "      <th>OR379110</th>\n",
       "      <td>1861499741</td>\n",
       "      <td>ALLERGY/IMMUNOLOGY</td>\n",
       "      <td>ALBUTEROL SULFATE</td>\n",
       "      <td>63</td>\n",
       "      <td>4437.240</td>\n",
       "      <td>2.346</td>\n",
       "    </tr>\n",
       "    <tr>\n",
       "      <th>HQ120242</th>\n",
       "      <td>1811919988</td>\n",
       "      <td>ALLERGY/IMMUNOLOGY</td>\n",
       "      <td>IRBESARTAN</td>\n",
       "      <td>12</td>\n",
       "      <td>109.800</td>\n",
       "      <td>0.058</td>\n",
       "    </tr>\n",
       "    <tr>\n",
       "      <th rowspan=\"3\" valign=\"top\">ANESTHESIOLOGY</th>\n",
       "      <th>GK755216</th>\n",
       "      <td>1427168574</td>\n",
       "      <td>ANESTHESIOLOGY</td>\n",
       "      <td>LEVOTHYROXINE SODIUM</td>\n",
       "      <td>12</td>\n",
       "      <td>179.880</td>\n",
       "      <td>0.126</td>\n",
       "    </tr>\n",
       "    <tr>\n",
       "      <th>EQ176933</th>\n",
       "      <td>1760454805</td>\n",
       "      <td>ANESTHESIOLOGY</td>\n",
       "      <td>SUMATRIPTAN SUCCINATE</td>\n",
       "      <td>25</td>\n",
       "      <td>581.180</td>\n",
       "      <td>0.407</td>\n",
       "    </tr>\n",
       "    <tr>\n",
       "      <th>WD732008</th>\n",
       "      <td>1538235213</td>\n",
       "      <td>ANESTHESIOLOGY</td>\n",
       "      <td>OXYCODONE HCL</td>\n",
       "      <td>56</td>\n",
       "      <td>34073.910</td>\n",
       "      <td>23.860</td>\n",
       "    </tr>\n",
       "  </tbody>\n",
       "</table>\n",
       "</div>"
      ],
      "text/plain": [
       "                               doctor_id           specialty  \\\n",
       "specialty          unique_id                                   \n",
       "ALLERGY/IMMUNOLOGY OR379110   1861499741  ALLERGY/IMMUNOLOGY   \n",
       "                   HQ120242   1811919988  ALLERGY/IMMUNOLOGY   \n",
       "ANESTHESIOLOGY     GK755216   1427168574      ANESTHESIOLOGY   \n",
       "                   EQ176933   1760454805      ANESTHESIOLOGY   \n",
       "                   WD732008   1538235213      ANESTHESIOLOGY   \n",
       "\n",
       "                                         medication  nb_beneficiaries  \\\n",
       "specialty          unique_id                                            \n",
       "ALLERGY/IMMUNOLOGY OR379110       ALBUTEROL SULFATE                63   \n",
       "                   HQ120242              IRBESARTAN                12   \n",
       "ANESTHESIOLOGY     GK755216    LEVOTHYROXINE SODIUM                12   \n",
       "                   EQ176933   SUMATRIPTAN SUCCINATE                25   \n",
       "                   WD732008           OXYCODONE HCL                56   \n",
       "\n",
       "                              spending  spending_pct  \n",
       "specialty          unique_id                          \n",
       "ALLERGY/IMMUNOLOGY OR379110   4437.240         2.346  \n",
       "                   HQ120242    109.800         0.058  \n",
       "ANESTHESIOLOGY     GK755216    179.880         0.126  \n",
       "                   EQ176933    581.180         0.407  \n",
       "                   WD732008  34073.910        23.860  "
      ]
     },
     "execution_count": 27,
     "metadata": {},
     "output_type": "execute_result"
    }
   ],
   "source": [
    "# We sample only 10% of the Data in each category\n",
    "\n",
    "def sample_10p(x):\n",
    "    return x.sample(frac=0.1, )\n",
    "    \n",
    "spending_by_specialty.apply(sample_10p).head()"
   ]
  },
  {
   "cell_type": "code",
   "execution_count": 76,
   "metadata": {
    "slideshow": {
     "slide_type": "slide"
    }
   },
   "outputs": [
    {
     "name": "stdout",
     "output_type": "stream",
     "text": [
      "(20, 6)\n",
      "(30, 6)\n",
      "(445, 6)\n"
     ]
    }
   ],
   "source": [
    "print(spending_by_specialty.get_group(\"CARDIAC ELECTROPHYSIOLOGY\").shape)\n",
    "\n",
    "print(spending_by_specialty.get_group(\"ANESTHESIOLOGY\").shape)\n",
    "\n",
    "print(spending_by_specialty.get_group(\"CARDIOLOGY\").shape)\n"
   ]
  },
  {
   "cell_type": "code",
   "execution_count": 29,
   "metadata": {
    "slideshow": {
     "slide_type": "slide"
    }
   },
   "outputs": [
    {
     "name": "stdout",
     "output_type": "stream",
     "text": [
      "(2, 6)\n",
      "(3, 6)\n",
      "(44, 6)\n"
     ]
    }
   ],
   "source": [
    "subsampled_spending_df = spending_by_specialty.apply(sample_10p)\n",
    "\n",
    "\n",
    "print(subsampled_spending_df.loc[\"CARDIAC ELECTROPHYSIOLOGY\"].shape)\n",
    "\n",
    "print(subsampled_spending_df.loc[\"ANESTHESIOLOGY\"].shape)\n",
    "\n",
    "print(subsampled_spending_df.loc[\"CARDIOLOGY\"].shape)\n",
    "\n",
    "\n"
   ]
  },
  {
   "cell_type": "code",
   "execution_count": 30,
   "metadata": {
    "slideshow": {
     "slide_type": "slide"
    }
   },
   "outputs": [
    {
     "data": {
      "text/html": [
       "<div>\n",
       "<style>\n",
       "    .dataframe thead tr:only-child th {\n",
       "        text-align: right;\n",
       "    }\n",
       "\n",
       "    .dataframe thead th {\n",
       "        text-align: left;\n",
       "    }\n",
       "\n",
       "    .dataframe tbody tr th {\n",
       "        vertical-align: top;\n",
       "    }\n",
       "</style>\n",
       "<table border=\"1\" class=\"dataframe\">\n",
       "  <thead>\n",
       "    <tr style=\"text-align: right;\">\n",
       "      <th></th>\n",
       "      <th></th>\n",
       "      <th>doctor_id</th>\n",
       "      <th>specialty</th>\n",
       "      <th>medication</th>\n",
       "      <th>nb_beneficiaries</th>\n",
       "      <th>spending</th>\n",
       "      <th>spending_pct</th>\n",
       "    </tr>\n",
       "    <tr>\n",
       "      <th>specialty</th>\n",
       "      <th>unique_id</th>\n",
       "      <th></th>\n",
       "      <th></th>\n",
       "      <th></th>\n",
       "      <th></th>\n",
       "      <th></th>\n",
       "      <th></th>\n",
       "    </tr>\n",
       "  </thead>\n",
       "  <tbody>\n",
       "    <tr>\n",
       "      <th rowspan=\"2\" valign=\"top\">ALLERGY/IMMUNOLOGY</th>\n",
       "      <th>KL206491</th>\n",
       "      <td>1124085436</td>\n",
       "      <td>ALLERGY/IMMUNOLOGY</td>\n",
       "      <td>AZELASTINE HCL</td>\n",
       "      <td>15</td>\n",
       "      <td>1379.060</td>\n",
       "      <td>0.729</td>\n",
       "    </tr>\n",
       "    <tr>\n",
       "      <th>OR379110</th>\n",
       "      <td>1861499741</td>\n",
       "      <td>ALLERGY/IMMUNOLOGY</td>\n",
       "      <td>ALBUTEROL SULFATE</td>\n",
       "      <td>63</td>\n",
       "      <td>4437.240</td>\n",
       "      <td>2.346</td>\n",
       "    </tr>\n",
       "    <tr>\n",
       "      <th rowspan=\"3\" valign=\"top\">ANESTHESIOLOGY</th>\n",
       "      <th>WD732008</th>\n",
       "      <td>1538235213</td>\n",
       "      <td>ANESTHESIOLOGY</td>\n",
       "      <td>OXYCODONE HCL</td>\n",
       "      <td>56</td>\n",
       "      <td>34073.910</td>\n",
       "      <td>23.860</td>\n",
       "    </tr>\n",
       "    <tr>\n",
       "      <th>OQ632520</th>\n",
       "      <td>1558305185</td>\n",
       "      <td>ANESTHESIOLOGY</td>\n",
       "      <td>DULOXETINE HCL</td>\n",
       "      <td>59</td>\n",
       "      <td>6072.360</td>\n",
       "      <td>4.252</td>\n",
       "    </tr>\n",
       "    <tr>\n",
       "      <th>QS118214</th>\n",
       "      <td>1871688952</td>\n",
       "      <td>ANESTHESIOLOGY</td>\n",
       "      <td>TRAMADOL HCL</td>\n",
       "      <td>15</td>\n",
       "      <td>148.200</td>\n",
       "      <td>0.104</td>\n",
       "    </tr>\n",
       "  </tbody>\n",
       "</table>\n",
       "</div>"
      ],
      "text/plain": [
       "                               doctor_id           specialty  \\\n",
       "specialty          unique_id                                   \n",
       "ALLERGY/IMMUNOLOGY KL206491   1124085436  ALLERGY/IMMUNOLOGY   \n",
       "                   OR379110   1861499741  ALLERGY/IMMUNOLOGY   \n",
       "ANESTHESIOLOGY     WD732008   1538235213      ANESTHESIOLOGY   \n",
       "                   OQ632520   1558305185      ANESTHESIOLOGY   \n",
       "                   QS118214   1871688952      ANESTHESIOLOGY   \n",
       "\n",
       "                                     medication  nb_beneficiaries  spending  \\\n",
       "specialty          unique_id                                                  \n",
       "ALLERGY/IMMUNOLOGY KL206491      AZELASTINE HCL                15  1379.060   \n",
       "                   OR379110   ALBUTEROL SULFATE                63  4437.240   \n",
       "ANESTHESIOLOGY     WD732008       OXYCODONE HCL                56 34073.910   \n",
       "                   OQ632520      DULOXETINE HCL                59  6072.360   \n",
       "                   QS118214        TRAMADOL HCL                15   148.200   \n",
       "\n",
       "                              spending_pct  \n",
       "specialty          unique_id                \n",
       "ALLERGY/IMMUNOLOGY KL206491          0.729  \n",
       "                   OR379110          2.346  \n",
       "ANESTHESIOLOGY     WD732008         23.860  \n",
       "                   OQ632520          4.252  \n",
       "                   QS118214          0.104  "
      ]
     },
     "execution_count": 30,
     "metadata": {},
     "output_type": "execute_result"
    }
   ],
   "source": [
    "subsampled_spending_df.head()"
   ]
  },
  {
   "cell_type": "markdown",
   "metadata": {
    "slideshow": {
     "slide_type": "skip"
    }
   },
   "source": [
    "\n",
    "### Practical\n",
    "\n",
    "- Start with a new Jupyter Notebook.\n",
    "\n",
    "\n",
    "- Read the file `data/grouping_practical.tsv` located in the data folder into a new `pandas` DataFrame called `spending_practical_df`.\n",
    "\n",
    "  - Make sure you import the appropriate module first.\n",
    "\n",
    "\n",
    "- Filter out any specialties that have less than 200 records or for which the total number of beneficiaries is less than 15,00.\n",
    "\n",
    "  - Print your results as a sorted `DataFrame`. The sort order should include specialty (Ascending), nb_beneficiaries (descending), spending (descending).\n",
    "\n",
    "  - How many specialties pass this filtering\n",
    "\n",
    "\n",
    "- We covered the code below in this module. Do you remember what it does?\n",
    "\n",
    "```python \n",
    "\n",
    "def my_function(x):\n",
    "    return (x   / x.sum() ) * 100\n",
    "    \n",
    "spending_practical_df[\"spending_pct\"] = spending_by_specialty['spending'].transform(my_function)\n",
    "spending_practical_df.head()\n",
    "\n",
    "medication_spending_pct = spending_practical_df.groupby([\"specialty\", \"medication\"])[\"spending_pct\"].sum().reset_index()\n",
    "```\n",
    "\n",
    "- Copy and paste the code into a cell. Run the cell and print the first five rows of `medication_spending_pct` `DataFrame` using the method `head`. \n",
    "\n",
    "- Group `medication_spendng_pct` on specialty and filter the specialties for which the sum of the top 2 medicines in terms of spending_pct is < 80%. For instance, the sum of the `spending_pct` for the highest 2 entries for `\"ADDICTION MEDICINE\"`  is 88.89% + 8.98% =  97.87%. Therefore, we should retain this specialty. However, the sum of the top 2 medicines in \"ALLERGY/IMMUNOLOGY\" is 41.89% + 8.14% = 43.10%; therefore, we should discard this specialty.\n",
    "\n",
    "- Print only the top entries in each group. For instance, in \"ADDICTION MEDICINE,\" you should only print the following two lines:\n",
    "\n",
    "```bash\n",
    "0    ADDICTION MEDICINE    BUSPIRONE HCL      88.894203\n",
    "1    ADDICTION MEDICINE    LAMOTRIGINE         8.979849\n",
    "```\n",
    "\n",
    "\n",
    "\n",
    "\n"
   ]
  },
  {
   "cell_type": "code",
   "execution_count": null,
   "metadata": {
    "collapsed": true
   },
   "outputs": [],
   "source": []
  }
 ],
 "metadata": {
  "celltoolbar": "Slideshow",
  "kernelspec": {
   "display_name": "Python 3",
   "language": "python",
   "name": "python3"
  },
  "language_info": {
   "codemirror_mode": {
    "name": "ipython",
    "version": 3
   },
   "file_extension": ".py",
   "mimetype": "text/x-python",
   "name": "python",
   "nbconvert_exporter": "python",
   "pygments_lexer": "ipython3",
   "version": "3.6.3"
  }
 },
 "nbformat": 4,
 "nbformat_minor": 2
}
