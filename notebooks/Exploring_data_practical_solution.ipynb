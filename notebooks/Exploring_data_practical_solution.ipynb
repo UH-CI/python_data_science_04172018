{
 "cells": [
  {
   "cell_type": "markdown",
   "metadata": {},
   "source": [
    "### Practical\n",
    "\n",
    "\n",
    "\n",
    "\n",
    "\n",
    "\n",
    "- Save your `DataFrame` as a CSV into a file called `data/exploring_data.csv`\n"
   ]
  },
  {
   "cell_type": "code",
   "execution_count": 22,
   "metadata": {
    "collapsed": true
   },
   "outputs": [],
   "source": [
    "import pandas as pd\n"
   ]
  },
  {
   "cell_type": "code",
   "execution_count": 23,
   "metadata": {
    "collapsed": true
   },
   "outputs": [],
   "source": [
    "spending_practical_df = pd.read_table(\"data/exploring_data_practical.tsv\")"
   ]
  },
  {
   "cell_type": "code",
   "execution_count": 24,
   "metadata": {},
   "outputs": [
    {
     "data": {
      "text/html": [
       "<div>\n",
       "<style>\n",
       "    .dataframe thead tr:only-child th {\n",
       "        text-align: right;\n",
       "    }\n",
       "\n",
       "    .dataframe thead th {\n",
       "        text-align: left;\n",
       "    }\n",
       "\n",
       "    .dataframe tbody tr th {\n",
       "        vertical-align: top;\n",
       "    }\n",
       "</style>\n",
       "<table border=\"1\" class=\"dataframe\">\n",
       "  <thead>\n",
       "    <tr style=\"text-align: right;\">\n",
       "      <th></th>\n",
       "      <th>unique_id</th>\n",
       "      <th>doctor_id</th>\n",
       "      <th>specialty</th>\n",
       "      <th>medication</th>\n",
       "      <th>nb_beneficiaries</th>\n",
       "      <th>spending</th>\n",
       "    </tr>\n",
       "  </thead>\n",
       "  <tbody>\n",
       "    <tr>\n",
       "      <th>0</th>\n",
       "      <td>BK982218</td>\n",
       "      <td>1750389599</td>\n",
       "      <td>INTERNAL MEDICINE</td>\n",
       "      <td>AZITHROMYCIN</td>\n",
       "      <td>12</td>\n",
       "      <td>77.26</td>\n",
       "    </tr>\n",
       "    <tr>\n",
       "      <th>1</th>\n",
       "      <td>CG916968</td>\n",
       "      <td>1952344418</td>\n",
       "      <td>CARDIOLOGY</td>\n",
       "      <td>SIMVASTATIN</td>\n",
       "      <td>85</td>\n",
       "      <td>767.83</td>\n",
       "    </tr>\n",
       "    <tr>\n",
       "      <th>2</th>\n",
       "      <td>SA964720</td>\n",
       "      <td>1669522744</td>\n",
       "      <td>INTERNAL MEDICINE</td>\n",
       "      <td>INSULIN DETEMIR</td>\n",
       "      <td>14</td>\n",
       "      <td>5409.29</td>\n",
       "    </tr>\n",
       "    <tr>\n",
       "      <th>3</th>\n",
       "      <td>TR390895</td>\n",
       "      <td>1639597115</td>\n",
       "      <td>STUDENT IN AN ORGANIZED HEALTH CARE EDUCATION/...</td>\n",
       "      <td>LOSARTAN POTASSIUM</td>\n",
       "      <td>11</td>\n",
       "      <td>65.62</td>\n",
       "    </tr>\n",
       "    <tr>\n",
       "      <th>4</th>\n",
       "      <td>JA436080</td>\n",
       "      <td>1073781571</td>\n",
       "      <td>NEUROLOGY</td>\n",
       "      <td>LAMOTRIGINE</td>\n",
       "      <td>12</td>\n",
       "      <td>8873.70</td>\n",
       "    </tr>\n",
       "    <tr>\n",
       "      <th>5</th>\n",
       "      <td>WO822855</td>\n",
       "      <td>1689080749</td>\n",
       "      <td>INTERVENTIONAL CARDIOLOGY</td>\n",
       "      <td>SERTRALINE HCL</td>\n",
       "      <td>26</td>\n",
       "      <td>121.34</td>\n",
       "    </tr>\n",
       "    <tr>\n",
       "      <th>6</th>\n",
       "      <td>PC409862</td>\n",
       "      <td>1568483196</td>\n",
       "      <td>INTERNAL MEDICINE</td>\n",
       "      <td>CLOTRIMAZOLE/BETAMETHASONE DIP</td>\n",
       "      <td>12</td>\n",
       "      <td>310.97</td>\n",
       "    </tr>\n",
       "    <tr>\n",
       "      <th>7</th>\n",
       "      <td>CG865025</td>\n",
       "      <td>1497955603</td>\n",
       "      <td>CARDIOLOGY</td>\n",
       "      <td>ATORVASTATIN CALCIUM</td>\n",
       "      <td>82</td>\n",
       "      <td>2726.72</td>\n",
       "    </tr>\n",
       "    <tr>\n",
       "      <th>8</th>\n",
       "      <td>XI271888</td>\n",
       "      <td>1982785085</td>\n",
       "      <td>INTERNAL MEDICINE</td>\n",
       "      <td>BUDESONIDE/FORMOTEROL FUMARATE</td>\n",
       "      <td>37</td>\n",
       "      <td>10253.35</td>\n",
       "    </tr>\n",
       "    <tr>\n",
       "      <th>9</th>\n",
       "      <td>EQ932492</td>\n",
       "      <td>1336217306</td>\n",
       "      <td>INTERNAL MEDICINE</td>\n",
       "      <td>OXYCODONE HCL</td>\n",
       "      <td>11</td>\n",
       "      <td>355.43</td>\n",
       "    </tr>\n",
       "    <tr>\n",
       "      <th>10</th>\n",
       "      <td>DT789371</td>\n",
       "      <td>1518992585</td>\n",
       "      <td>INTERNAL MEDICINE</td>\n",
       "      <td>FENOFIBRATE NANOCRYSTALLIZED</td>\n",
       "      <td>33</td>\n",
       "      <td>2565.44</td>\n",
       "    </tr>\n",
       "    <tr>\n",
       "      <th>11</th>\n",
       "      <td>IC286267</td>\n",
       "      <td>1194718841</td>\n",
       "      <td>INTERNAL MEDICINE</td>\n",
       "      <td>METFORMIN HCL</td>\n",
       "      <td>53</td>\n",
       "      <td>340.75</td>\n",
       "    </tr>\n",
       "  </tbody>\n",
       "</table>\n",
       "</div>"
      ],
      "text/plain": [
       "   unique_id   doctor_id                                          specialty  \\\n",
       "0   BK982218  1750389599                                  INTERNAL MEDICINE   \n",
       "1   CG916968  1952344418                                         CARDIOLOGY   \n",
       "2   SA964720  1669522744                                  INTERNAL MEDICINE   \n",
       "3   TR390895  1639597115  STUDENT IN AN ORGANIZED HEALTH CARE EDUCATION/...   \n",
       "4   JA436080  1073781571                                          NEUROLOGY   \n",
       "5   WO822855  1689080749                          INTERVENTIONAL CARDIOLOGY   \n",
       "6   PC409862  1568483196                                  INTERNAL MEDICINE   \n",
       "7   CG865025  1497955603                                         CARDIOLOGY   \n",
       "8   XI271888  1982785085                                  INTERNAL MEDICINE   \n",
       "9   EQ932492  1336217306                                  INTERNAL MEDICINE   \n",
       "10  DT789371  1518992585                                  INTERNAL MEDICINE   \n",
       "11  IC286267  1194718841                                  INTERNAL MEDICINE   \n",
       "\n",
       "                        medication  nb_beneficiaries  spending  \n",
       "0                     AZITHROMYCIN                12     77.26  \n",
       "1                      SIMVASTATIN                85    767.83  \n",
       "2                  INSULIN DETEMIR                14   5409.29  \n",
       "3               LOSARTAN POTASSIUM                11     65.62  \n",
       "4                      LAMOTRIGINE                12   8873.70  \n",
       "5                   SERTRALINE HCL                26    121.34  \n",
       "6   CLOTRIMAZOLE/BETAMETHASONE DIP                12    310.97  \n",
       "7             ATORVASTATIN CALCIUM                82   2726.72  \n",
       "8   BUDESONIDE/FORMOTEROL FUMARATE                37  10253.35  \n",
       "9                    OXYCODONE HCL                11    355.43  \n",
       "10    FENOFIBRATE NANOCRYSTALLIZED                33   2565.44  \n",
       "11                   METFORMIN HCL                53    340.75  "
      ]
     },
     "execution_count": 24,
     "metadata": {},
     "output_type": "execute_result"
    }
   ],
   "source": [
    "spending_practical_df.head(n=12)"
   ]
  },
  {
   "cell_type": "code",
   "execution_count": 25,
   "metadata": {},
   "outputs": [
    {
     "data": {
      "text/html": [
       "<div>\n",
       "<style>\n",
       "    .dataframe thead tr:only-child th {\n",
       "        text-align: right;\n",
       "    }\n",
       "\n",
       "    .dataframe thead th {\n",
       "        text-align: left;\n",
       "    }\n",
       "\n",
       "    .dataframe tbody tr th {\n",
       "        vertical-align: top;\n",
       "    }\n",
       "</style>\n",
       "<table border=\"1\" class=\"dataframe\">\n",
       "  <thead>\n",
       "    <tr style=\"text-align: right;\">\n",
       "      <th></th>\n",
       "      <th>nb_beneficiaries</th>\n",
       "      <th>spending</th>\n",
       "    </tr>\n",
       "  </thead>\n",
       "  <tbody>\n",
       "    <tr>\n",
       "      <th>mean</th>\n",
       "      <td>52.907407</td>\n",
       "      <td>5463.729815</td>\n",
       "    </tr>\n",
       "    <tr>\n",
       "      <th>std</th>\n",
       "      <td>73.640193</td>\n",
       "      <td>14775.042224</td>\n",
       "    </tr>\n",
       "  </tbody>\n",
       "</table>\n",
       "</div>"
      ],
      "text/plain": [
       "      nb_beneficiaries      spending\n",
       "mean         52.907407   5463.729815\n",
       "std          73.640193  14775.042224"
      ]
     },
     "execution_count": 25,
     "metadata": {},
     "output_type": "execute_result"
    }
   ],
   "source": [
    "spending_practical_df.describe()\n",
    "spending_practical_df.describe().loc[[\"mean\", 'std'], [\"nb_beneficiaries\", 'spending']]\n"
   ]
  },
  {
   "cell_type": "code",
   "execution_count": 26,
   "metadata": {
    "collapsed": true
   },
   "outputs": [],
   "source": [
    "\n",
    "spending_practical_df.sort_values(by=\"specialty\", inplace=True)\n"
   ]
  },
  {
   "cell_type": "code",
   "execution_count": 35,
   "metadata": {},
   "outputs": [
    {
     "data": {
      "text/plain": [
       "(8, 6)"
      ]
     },
     "execution_count": 35,
     "metadata": {},
     "output_type": "execute_result"
    }
   ],
   "source": [
    "spending_practical_df[spending_practical_df[\"specialty\"] == \"CARDIOLOGY\"].shape"
   ]
  },
  {
   "cell_type": "code",
   "execution_count": 28,
   "metadata": {
    "collapsed": true
   },
   "outputs": [],
   "source": [
    "spending_practical_df[\"specialty\"] = spending_practical_df[\"specialty\"].str.replace(\"INTERVENTIONAL \", \"\")"
   ]
  },
  {
   "cell_type": "code",
   "execution_count": 29,
   "metadata": {
    "collapsed": true
   },
   "outputs": [],
   "source": [
    "spending_practical_df.to_csv(\"data/exploring_data.csv\", sep=\"\\t\", index=False)"
   ]
  }
 ],
 "metadata": {
  "kernelspec": {
   "display_name": "Python 3",
   "language": "python",
   "name": "python3"
  },
  "language_info": {
   "codemirror_mode": {
    "name": "ipython",
    "version": 3
   },
   "file_extension": ".py",
   "mimetype": "text/x-python",
   "name": "python",
   "nbconvert_exporter": "python",
   "pygments_lexer": "ipython3",
   "version": "3.6.3"
  }
 },
 "nbformat": 4,
 "nbformat_minor": 2
}
